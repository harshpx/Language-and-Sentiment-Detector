{
 "cells": [
  {
   "cell_type": "markdown",
   "id": "3962d63e",
   "metadata": {
    "id": "4kzGPsKFMdaB",
    "papermill": {
     "duration": 0.016083,
     "end_time": "2023-06-10T13:42:25.205945",
     "exception": false,
     "start_time": "2023-06-10T13:42:25.189862",
     "status": "completed"
    },
    "tags": []
   },
   "source": [
    "## Covid-19 Tweet's Sentiment Analysis\n",
    "##### (Multiclass sentiment analysis of textual data using Neural Networks)\n",
    "\n",
    "**Author:** *Harsh Priye*"
   ]
  },
  {
   "cell_type": "markdown",
   "id": "39a4af58",
   "metadata": {
    "id": "G1G6eyhOMjMo",
    "papermill": {
     "duration": 0.015312,
     "end_time": "2023-06-10T13:42:25.236993",
     "exception": false,
     "start_time": "2023-06-10T13:42:25.221681",
     "status": "completed"
    },
    "tags": []
   },
   "source": [
    "### About the Dataset:\n",
    "* Dataset used in this project consists of a **collection of tweets** that were **posted during covid-19 pandemic** by users from different locations across the globe.\n",
    "* Datset **consists of tweets and sentiments** reflected from them, alongwith other information like location, date, username etc."
   ]
  },
  {
   "cell_type": "markdown",
   "id": "8add76e8",
   "metadata": {
    "id": "2vTr5WrAMm-i",
    "papermill": {
     "duration": 0.022674,
     "end_time": "2023-06-10T13:42:25.275098",
     "exception": false,
     "start_time": "2023-06-10T13:42:25.252424",
     "status": "completed"
    },
    "tags": []
   },
   "source": [
    "### Major Headings:\n",
    "* **Data Preparation and Basic Preprocessing**\n",
    "  * Feature Reduction\n",
    "  * Null Cleaning\n",
    "  * Train-Test-Split\n",
    "* **Natural Language Processing (NLP)**\n",
    "  * Lowercasing sentences\n",
    "  * Truncating:\n",
    "    * Hashtags, Mentions, URLs, Emojis\n",
    "    * Punctuation, Numbers, Special Characters, Escape Characters etc.\n",
    "    * Stopwords\n",
    "  * Text normalization:\n",
    "      * *Stemming*\n",
    "      * ***Lemmatization:*** Word Net Lemmatizer\n",
    "  * Stopword Removal\n",
    "\n",
    "* **Word Embedding and Sequence Padding**\n",
    "\n",
    "* **3 Class Sentiment Classification Model**\n",
    "  * **Label Encoding** and **Class Reduction**\n",
    "  * **Building Neural Network:** Using Bi-Directional LSTM Layers\n",
    "* **Summary**"
   ]
  },
  {
   "cell_type": "code",
   "execution_count": 1,
   "id": "0f4feb6c",
   "metadata": {
    "execution": {
     "iopub.execute_input": "2023-06-10T13:42:25.325057Z",
     "iopub.status.busy": "2023-06-10T13:42:25.324575Z",
     "iopub.status.idle": "2023-06-10T13:42:25.343629Z",
     "shell.execute_reply": "2023-06-10T13:42:25.342805Z"
    },
    "id": "NwTEgFGiMsMf",
    "outputId": "0ed947af-82bc-48c5-8e17-d1232edee828",
    "papermill": {
     "duration": 0.049251,
     "end_time": "2023-06-10T13:42:25.347605",
     "exception": false,
     "start_time": "2023-06-10T13:42:25.298354",
     "status": "completed"
    },
    "tags": []
   },
   "outputs": [
    {
     "data": {
      "text/plain": [
       "['covid-19-nlp-text-classification']"
      ]
     },
     "execution_count": 1,
     "metadata": {},
     "output_type": "execute_result"
    }
   ],
   "source": [
    "# Basic Libraries/Dependencies:\n",
    "import numpy as np\n",
    "import pandas as pd\n",
    "\n",
    "import warnings\n",
    "warnings.filterwarnings(\"ignore\")\n",
    "\n",
    "import os\n",
    "os.chdir('/kaggle/input')\n",
    "os.listdir()"
   ]
  },
  {
   "cell_type": "code",
   "execution_count": 2,
   "id": "3deb124c",
   "metadata": {
    "execution": {
     "iopub.execute_input": "2023-06-10T13:42:25.381943Z",
     "iopub.status.busy": "2023-06-10T13:42:25.381066Z",
     "iopub.status.idle": "2023-06-10T13:42:32.888327Z",
     "shell.execute_reply": "2023-06-10T13:42:32.887104Z"
    },
    "id": "gkhniyItdnoS",
    "outputId": "87725105-c72b-4fc1-9094-8d8789e9d2e9",
    "papermill": {
     "duration": 7.526563,
     "end_time": "2023-06-10T13:42:32.890769",
     "exception": false,
     "start_time": "2023-06-10T13:42:25.364206",
     "status": "completed"
    },
    "tags": []
   },
   "outputs": [
    {
     "name": "stdout",
     "output_type": "stream",
     "text": [
      "Tensorflow Version: 2.12.0\n"
     ]
    }
   ],
   "source": [
    "# tensorflow dependencies:\n",
    "import tensorflow as tf\n",
    "from tensorflow import keras\n",
    "print(f\"Tensorflow Version: {tf.__version__}\")"
   ]
  },
  {
   "cell_type": "markdown",
   "id": "b0ed9ac7",
   "metadata": {
    "id": "52RSOuzgQkS3",
    "papermill": {
     "duration": 0.015705,
     "end_time": "2023-06-10T13:42:32.922673",
     "exception": false,
     "start_time": "2023-06-10T13:42:32.906968",
     "status": "completed"
    },
    "tags": []
   },
   "source": [
    "## Data Preparation"
   ]
  },
  {
   "cell_type": "code",
   "execution_count": 3,
   "id": "0d7718d7",
   "metadata": {
    "execution": {
     "iopub.execute_input": "2023-06-10T13:42:32.956234Z",
     "iopub.status.busy": "2023-06-10T13:42:32.955143Z",
     "iopub.status.idle": "2023-06-10T13:42:33.244344Z",
     "shell.execute_reply": "2023-06-10T13:42:33.243308Z"
    },
    "id": "rn28SvRDOuBO",
    "outputId": "c58f8c70-58b4-4137-9bac-a322449001d9",
    "papermill": {
     "duration": 0.308141,
     "end_time": "2023-06-10T13:42:33.246620",
     "exception": false,
     "start_time": "2023-06-10T13:42:32.938479",
     "status": "completed"
    },
    "tags": []
   },
   "outputs": [
    {
     "data": {
      "text/html": [
       "<div>\n",
       "<style scoped>\n",
       "    .dataframe tbody tr th:only-of-type {\n",
       "        vertical-align: middle;\n",
       "    }\n",
       "\n",
       "    .dataframe tbody tr th {\n",
       "        vertical-align: top;\n",
       "    }\n",
       "\n",
       "    .dataframe thead th {\n",
       "        text-align: right;\n",
       "    }\n",
       "</style>\n",
       "<table border=\"1\" class=\"dataframe\">\n",
       "  <thead>\n",
       "    <tr style=\"text-align: right;\">\n",
       "      <th></th>\n",
       "      <th>UserName</th>\n",
       "      <th>ScreenName</th>\n",
       "      <th>Location</th>\n",
       "      <th>TweetAt</th>\n",
       "      <th>OriginalTweet</th>\n",
       "      <th>Sentiment</th>\n",
       "    </tr>\n",
       "  </thead>\n",
       "  <tbody>\n",
       "    <tr>\n",
       "      <th>0</th>\n",
       "      <td>3799</td>\n",
       "      <td>48751</td>\n",
       "      <td>London</td>\n",
       "      <td>16-03-2020</td>\n",
       "      <td>@MeNyrbie @Phil_Gahan @Chrisitv https://t.co/i...</td>\n",
       "      <td>Neutral</td>\n",
       "    </tr>\n",
       "    <tr>\n",
       "      <th>1</th>\n",
       "      <td>3800</td>\n",
       "      <td>48752</td>\n",
       "      <td>UK</td>\n",
       "      <td>16-03-2020</td>\n",
       "      <td>advice Talk to your neighbours family to excha...</td>\n",
       "      <td>Positive</td>\n",
       "    </tr>\n",
       "    <tr>\n",
       "      <th>2</th>\n",
       "      <td>3801</td>\n",
       "      <td>48753</td>\n",
       "      <td>Vagabonds</td>\n",
       "      <td>16-03-2020</td>\n",
       "      <td>Coronavirus Australia: Woolworths to give elde...</td>\n",
       "      <td>Positive</td>\n",
       "    </tr>\n",
       "    <tr>\n",
       "      <th>3</th>\n",
       "      <td>3802</td>\n",
       "      <td>48754</td>\n",
       "      <td>NaN</td>\n",
       "      <td>16-03-2020</td>\n",
       "      <td>My food stock is not the only one which is emp...</td>\n",
       "      <td>Positive</td>\n",
       "    </tr>\n",
       "    <tr>\n",
       "      <th>4</th>\n",
       "      <td>3803</td>\n",
       "      <td>48755</td>\n",
       "      <td>NaN</td>\n",
       "      <td>16-03-2020</td>\n",
       "      <td>Me, ready to go at supermarket during the #COV...</td>\n",
       "      <td>Extremely Negative</td>\n",
       "    </tr>\n",
       "    <tr>\n",
       "      <th>...</th>\n",
       "      <td>...</td>\n",
       "      <td>...</td>\n",
       "      <td>...</td>\n",
       "      <td>...</td>\n",
       "      <td>...</td>\n",
       "      <td>...</td>\n",
       "    </tr>\n",
       "    <tr>\n",
       "      <th>41152</th>\n",
       "      <td>44951</td>\n",
       "      <td>89903</td>\n",
       "      <td>Wellington City, New Zealand</td>\n",
       "      <td>14-04-2020</td>\n",
       "      <td>Airline pilots offering to stock supermarket s...</td>\n",
       "      <td>Neutral</td>\n",
       "    </tr>\n",
       "    <tr>\n",
       "      <th>41153</th>\n",
       "      <td>44952</td>\n",
       "      <td>89904</td>\n",
       "      <td>NaN</td>\n",
       "      <td>14-04-2020</td>\n",
       "      <td>Response to complaint not provided citing COVI...</td>\n",
       "      <td>Extremely Negative</td>\n",
       "    </tr>\n",
       "    <tr>\n",
       "      <th>41154</th>\n",
       "      <td>44953</td>\n",
       "      <td>89905</td>\n",
       "      <td>NaN</td>\n",
       "      <td>14-04-2020</td>\n",
       "      <td>You know itÂs getting tough when @KameronWild...</td>\n",
       "      <td>Positive</td>\n",
       "    </tr>\n",
       "    <tr>\n",
       "      <th>41155</th>\n",
       "      <td>44954</td>\n",
       "      <td>89906</td>\n",
       "      <td>NaN</td>\n",
       "      <td>14-04-2020</td>\n",
       "      <td>Is it wrong that the smell of hand sanitizer i...</td>\n",
       "      <td>Neutral</td>\n",
       "    </tr>\n",
       "    <tr>\n",
       "      <th>41156</th>\n",
       "      <td>44955</td>\n",
       "      <td>89907</td>\n",
       "      <td>i love you so much || he/him</td>\n",
       "      <td>14-04-2020</td>\n",
       "      <td>@TartiiCat Well new/used Rift S are going for ...</td>\n",
       "      <td>Negative</td>\n",
       "    </tr>\n",
       "  </tbody>\n",
       "</table>\n",
       "<p>41157 rows × 6 columns</p>\n",
       "</div>"
      ],
      "text/plain": [
       "       UserName  ScreenName                      Location     TweetAt  \\\n",
       "0          3799       48751                        London  16-03-2020   \n",
       "1          3800       48752                            UK  16-03-2020   \n",
       "2          3801       48753                     Vagabonds  16-03-2020   \n",
       "3          3802       48754                           NaN  16-03-2020   \n",
       "4          3803       48755                           NaN  16-03-2020   \n",
       "...         ...         ...                           ...         ...   \n",
       "41152     44951       89903  Wellington City, New Zealand  14-04-2020   \n",
       "41153     44952       89904                           NaN  14-04-2020   \n",
       "41154     44953       89905                           NaN  14-04-2020   \n",
       "41155     44954       89906                           NaN  14-04-2020   \n",
       "41156     44955       89907  i love you so much || he/him  14-04-2020   \n",
       "\n",
       "                                           OriginalTweet           Sentiment  \n",
       "0      @MeNyrbie @Phil_Gahan @Chrisitv https://t.co/i...             Neutral  \n",
       "1      advice Talk to your neighbours family to excha...            Positive  \n",
       "2      Coronavirus Australia: Woolworths to give elde...            Positive  \n",
       "3      My food stock is not the only one which is emp...            Positive  \n",
       "4      Me, ready to go at supermarket during the #COV...  Extremely Negative  \n",
       "...                                                  ...                 ...  \n",
       "41152  Airline pilots offering to stock supermarket s...             Neutral  \n",
       "41153  Response to complaint not provided citing COVI...  Extremely Negative  \n",
       "41154  You know itÂs getting tough when @KameronWild...            Positive  \n",
       "41155  Is it wrong that the smell of hand sanitizer i...             Neutral  \n",
       "41156  @TartiiCat Well new/used Rift S are going for ...            Negative  \n",
       "\n",
       "[41157 rows x 6 columns]"
      ]
     },
     "execution_count": 3,
     "metadata": {},
     "output_type": "execute_result"
    }
   ],
   "source": [
    "df=pd.read_csv('/kaggle/input/covid-19-nlp-text-classification/Corona_NLP_train.csv', encoding='latin1')\n",
    "df"
   ]
  },
  {
   "cell_type": "code",
   "execution_count": 4,
   "id": "6e27d81a",
   "metadata": {
    "execution": {
     "iopub.execute_input": "2023-06-10T13:42:33.281462Z",
     "iopub.status.busy": "2023-06-10T13:42:33.281159Z",
     "iopub.status.idle": "2023-06-10T13:42:33.286580Z",
     "shell.execute_reply": "2023-06-10T13:42:33.285579Z"
    },
    "id": "ax2frXpHPK3k",
    "papermill": {
     "duration": 0.025216,
     "end_time": "2023-06-10T13:42:33.288826",
     "exception": false,
     "start_time": "2023-06-10T13:42:33.263610",
     "status": "completed"
    },
    "tags": []
   },
   "outputs": [],
   "source": [
    "# function to keep only Text and label:\n",
    "def create_data(df):\n",
    "    x=df['OriginalTweet']\n",
    "    y=df['Sentiment']\n",
    "    df=pd.concat((x,y),axis=1, keys=['texts','labels'])\n",
    "    return df"
   ]
  },
  {
   "cell_type": "code",
   "execution_count": 5,
   "id": "b81b7c93",
   "metadata": {
    "execution": {
     "iopub.execute_input": "2023-06-10T13:42:33.322500Z",
     "iopub.status.busy": "2023-06-10T13:42:33.322220Z",
     "iopub.status.idle": "2023-06-10T13:42:33.336446Z",
     "shell.execute_reply": "2023-06-10T13:42:33.335506Z"
    },
    "id": "WH4ZlprLPRbY",
    "outputId": "3f635311-d0fd-44e0-c3c7-533f14f1fc67",
    "papermill": {
     "duration": 0.033621,
     "end_time": "2023-06-10T13:42:33.338412",
     "exception": false,
     "start_time": "2023-06-10T13:42:33.304791",
     "status": "completed"
    },
    "tags": []
   },
   "outputs": [
    {
     "name": "stdout",
     "output_type": "stream",
     "text": [
      "CPU times: user 1.84 ms, sys: 979 µs, total: 2.82 ms\n",
      "Wall time: 2.85 ms\n"
     ]
    },
    {
     "data": {
      "text/html": [
       "<div>\n",
       "<style scoped>\n",
       "    .dataframe tbody tr th:only-of-type {\n",
       "        vertical-align: middle;\n",
       "    }\n",
       "\n",
       "    .dataframe tbody tr th {\n",
       "        vertical-align: top;\n",
       "    }\n",
       "\n",
       "    .dataframe thead th {\n",
       "        text-align: right;\n",
       "    }\n",
       "</style>\n",
       "<table border=\"1\" class=\"dataframe\">\n",
       "  <thead>\n",
       "    <tr style=\"text-align: right;\">\n",
       "      <th></th>\n",
       "      <th>texts</th>\n",
       "      <th>labels</th>\n",
       "    </tr>\n",
       "  </thead>\n",
       "  <tbody>\n",
       "    <tr>\n",
       "      <th>0</th>\n",
       "      <td>@MeNyrbie @Phil_Gahan @Chrisitv https://t.co/i...</td>\n",
       "      <td>Neutral</td>\n",
       "    </tr>\n",
       "    <tr>\n",
       "      <th>1</th>\n",
       "      <td>advice Talk to your neighbours family to excha...</td>\n",
       "      <td>Positive</td>\n",
       "    </tr>\n",
       "    <tr>\n",
       "      <th>2</th>\n",
       "      <td>Coronavirus Australia: Woolworths to give elde...</td>\n",
       "      <td>Positive</td>\n",
       "    </tr>\n",
       "    <tr>\n",
       "      <th>3</th>\n",
       "      <td>My food stock is not the only one which is emp...</td>\n",
       "      <td>Positive</td>\n",
       "    </tr>\n",
       "    <tr>\n",
       "      <th>4</th>\n",
       "      <td>Me, ready to go at supermarket during the #COV...</td>\n",
       "      <td>Extremely Negative</td>\n",
       "    </tr>\n",
       "    <tr>\n",
       "      <th>...</th>\n",
       "      <td>...</td>\n",
       "      <td>...</td>\n",
       "    </tr>\n",
       "    <tr>\n",
       "      <th>41152</th>\n",
       "      <td>Airline pilots offering to stock supermarket s...</td>\n",
       "      <td>Neutral</td>\n",
       "    </tr>\n",
       "    <tr>\n",
       "      <th>41153</th>\n",
       "      <td>Response to complaint not provided citing COVI...</td>\n",
       "      <td>Extremely Negative</td>\n",
       "    </tr>\n",
       "    <tr>\n",
       "      <th>41154</th>\n",
       "      <td>You know itÂs getting tough when @KameronWild...</td>\n",
       "      <td>Positive</td>\n",
       "    </tr>\n",
       "    <tr>\n",
       "      <th>41155</th>\n",
       "      <td>Is it wrong that the smell of hand sanitizer i...</td>\n",
       "      <td>Neutral</td>\n",
       "    </tr>\n",
       "    <tr>\n",
       "      <th>41156</th>\n",
       "      <td>@TartiiCat Well new/used Rift S are going for ...</td>\n",
       "      <td>Negative</td>\n",
       "    </tr>\n",
       "  </tbody>\n",
       "</table>\n",
       "<p>41157 rows × 2 columns</p>\n",
       "</div>"
      ],
      "text/plain": [
       "                                                   texts              labels\n",
       "0      @MeNyrbie @Phil_Gahan @Chrisitv https://t.co/i...             Neutral\n",
       "1      advice Talk to your neighbours family to excha...            Positive\n",
       "2      Coronavirus Australia: Woolworths to give elde...            Positive\n",
       "3      My food stock is not the only one which is emp...            Positive\n",
       "4      Me, ready to go at supermarket during the #COV...  Extremely Negative\n",
       "...                                                  ...                 ...\n",
       "41152  Airline pilots offering to stock supermarket s...             Neutral\n",
       "41153  Response to complaint not provided citing COVI...  Extremely Negative\n",
       "41154  You know itÂs getting tough when @KameronWild...            Positive\n",
       "41155  Is it wrong that the smell of hand sanitizer i...             Neutral\n",
       "41156  @TartiiCat Well new/used Rift S are going for ...            Negative\n",
       "\n",
       "[41157 rows x 2 columns]"
      ]
     },
     "execution_count": 5,
     "metadata": {},
     "output_type": "execute_result"
    }
   ],
   "source": [
    "%%time\n",
    "#reduced data:\n",
    "df=create_data(df)\n",
    "df"
   ]
  },
  {
   "cell_type": "markdown",
   "id": "03928d74",
   "metadata": {
    "id": "dWiixDWUQr81",
    "papermill": {
     "duration": 0.016185,
     "end_time": "2023-06-10T13:42:33.371395",
     "exception": false,
     "start_time": "2023-06-10T13:42:33.355210",
     "status": "completed"
    },
    "tags": []
   },
   "source": [
    "#### Nulls and Cardinality"
   ]
  },
  {
   "cell_type": "code",
   "execution_count": 6,
   "id": "e37fb985",
   "metadata": {
    "execution": {
     "iopub.execute_input": "2023-06-10T13:42:33.405627Z",
     "iopub.status.busy": "2023-06-10T13:42:33.404984Z",
     "iopub.status.idle": "2023-06-10T13:42:33.474248Z",
     "shell.execute_reply": "2023-06-10T13:42:33.473205Z"
    },
    "id": "p_3U-7o5Pbhj",
    "outputId": "ad630638-360d-412e-c1bd-f07a4cf17628",
    "papermill": {
     "duration": 0.088821,
     "end_time": "2023-06-10T13:42:33.476556",
     "exception": false,
     "start_time": "2023-06-10T13:42:33.387735",
     "status": "completed"
    },
    "tags": []
   },
   "outputs": [
    {
     "data": {
      "text/html": [
       "<div>\n",
       "<style scoped>\n",
       "    .dataframe tbody tr th:only-of-type {\n",
       "        vertical-align: middle;\n",
       "    }\n",
       "\n",
       "    .dataframe tbody tr th {\n",
       "        vertical-align: top;\n",
       "    }\n",
       "\n",
       "    .dataframe thead th {\n",
       "        text-align: right;\n",
       "    }\n",
       "</style>\n",
       "<table border=\"1\" class=\"dataframe\">\n",
       "  <thead>\n",
       "    <tr style=\"text-align: right;\">\n",
       "      <th></th>\n",
       "      <th>Null Counts</th>\n",
       "      <th>Cardinality</th>\n",
       "    </tr>\n",
       "  </thead>\n",
       "  <tbody>\n",
       "    <tr>\n",
       "      <th>texts</th>\n",
       "      <td>0</td>\n",
       "      <td>41157</td>\n",
       "    </tr>\n",
       "    <tr>\n",
       "      <th>labels</th>\n",
       "      <td>0</td>\n",
       "      <td>5</td>\n",
       "    </tr>\n",
       "  </tbody>\n",
       "</table>\n",
       "</div>"
      ],
      "text/plain": [
       "        Null Counts  Cardinality\n",
       "texts             0        41157\n",
       "labels            0            5"
      ]
     },
     "execution_count": 6,
     "metadata": {},
     "output_type": "execute_result"
    }
   ],
   "source": [
    "overview=pd.concat([df.isnull().sum(),df.nunique()],axis=1,keys=['Null Counts','Cardinality'])\n",
    "overview"
   ]
  },
  {
   "cell_type": "code",
   "execution_count": 7,
   "id": "5d1ac787",
   "metadata": {
    "execution": {
     "iopub.execute_input": "2023-06-10T13:42:33.512419Z",
     "iopub.status.busy": "2023-06-10T13:42:33.511634Z",
     "iopub.status.idle": "2023-06-10T13:42:33.515815Z",
     "shell.execute_reply": "2023-06-10T13:42:33.514877Z"
    },
    "id": "H1jO3UT1PeCU",
    "papermill": {
     "duration": 0.023878,
     "end_time": "2023-06-10T13:42:33.517864",
     "exception": false,
     "start_time": "2023-06-10T13:42:33.493986",
     "status": "completed"
    },
    "tags": []
   },
   "outputs": [],
   "source": [
    "# # function for removing NULL values:\n",
    "# def remove_nulls(df):\n",
    "#     idx=df.loc[df.iloc[:,0].isnull()].index\n",
    "#     idx2=df.loc[df.iloc[:,1].isnull()].index\n",
    "#     df_clean=df.drop(idx)\n",
    "#     df_clean=df.drop(idx2)\n",
    "#     return df_clean"
   ]
  },
  {
   "cell_type": "markdown",
   "id": "9802288f",
   "metadata": {
    "id": "s_cR53V0QOrB",
    "papermill": {
     "duration": 0.016415,
     "end_time": "2023-06-10T13:42:33.551090",
     "exception": false,
     "start_time": "2023-06-10T13:42:33.534675",
     "status": "completed"
    },
    "tags": []
   },
   "source": [
    "#### Train-Test Split"
   ]
  },
  {
   "cell_type": "code",
   "execution_count": 8,
   "id": "0824c00e",
   "metadata": {
    "execution": {
     "iopub.execute_input": "2023-06-10T13:42:33.586531Z",
     "iopub.status.busy": "2023-06-10T13:42:33.585576Z",
     "iopub.status.idle": "2023-06-10T13:42:34.456250Z",
     "shell.execute_reply": "2023-06-10T13:42:34.455271Z"
    },
    "id": "CGRotbJoQON0",
    "outputId": "d8acb4b0-1353-4a1c-bef7-9a5e081164cb",
    "papermill": {
     "duration": 0.890561,
     "end_time": "2023-06-10T13:42:34.458304",
     "exception": false,
     "start_time": "2023-06-10T13:42:33.567743",
     "status": "completed"
    },
    "tags": []
   },
   "outputs": [
    {
     "data": {
      "text/plain": [
       "((32925,), (32925,), (8232,), (8232,))"
      ]
     },
     "execution_count": 8,
     "metadata": {},
     "output_type": "execute_result"
    }
   ],
   "source": [
    "from sklearn.model_selection import train_test_split\n",
    "x_train, x_test, y_train, y_test = train_test_split(df['texts'], df['labels'], test_size=0.2, random_state=42)\n",
    "\n",
    "x_train.shape, y_train.shape, x_test.shape, y_test.shape"
   ]
  },
  {
   "cell_type": "code",
   "execution_count": 9,
   "id": "3f939c9e",
   "metadata": {
    "execution": {
     "iopub.execute_input": "2023-06-10T13:42:34.493830Z",
     "iopub.status.busy": "2023-06-10T13:42:34.493046Z",
     "iopub.status.idle": "2023-06-10T13:42:34.499276Z",
     "shell.execute_reply": "2023-06-10T13:42:34.498318Z"
    },
    "id": "NcNNlW3uWqtC",
    "outputId": "5b77ac1d-5006-49f6-e1e9-249dde9dd296",
    "papermill": {
     "duration": 0.026038,
     "end_time": "2023-06-10T13:42:34.501498",
     "exception": false,
     "start_time": "2023-06-10T13:42:34.475460",
     "status": "completed"
    },
    "tags": []
   },
   "outputs": [
    {
     "data": {
      "text/plain": [
       "'Unemployment claims made online in Virginia this week:\\r\\r\\n\\r\\r\\nMonday: 426\\r\\r\\nTuesday: 2,150\\r\\r\\n\\r\\r\\nAnd the numbers are going to get bigger. https://t.co/fUeg2RL2dl'"
      ]
     },
     "execution_count": 9,
     "metadata": {},
     "output_type": "execute_result"
    }
   ],
   "source": [
    "# text before cleaning:\n",
    "x_train.iloc[0]"
   ]
  },
  {
   "cell_type": "markdown",
   "id": "e17a5ced",
   "metadata": {
    "id": "kO2YFqLEP6ay",
    "papermill": {
     "duration": 0.016638,
     "end_time": "2023-06-10T13:42:34.534906",
     "exception": false,
     "start_time": "2023-06-10T13:42:34.518268",
     "status": "completed"
    },
    "tags": []
   },
   "source": [
    "## Natural Language Processing (NLP)\n",
    "* lowercasing sentences\n",
    "* Truncating:\n",
    "  * Hashtags, Mentions, URLs, Emojis\n",
    "  * Punctuation, Numbers, Special Characters, Escape Characters etc.\n",
    "  * Stopwords\n",
    "* Text normalization:\n",
    "    * *Stemming*\n",
    "    * ***Lemmatization:*** Word Net Lemmatizer\n",
    "* Stopword Removal"
   ]
  },
  {
   "cell_type": "code",
   "execution_count": 10,
   "id": "48890c6c",
   "metadata": {
    "execution": {
     "iopub.execute_input": "2023-06-10T13:42:34.570577Z",
     "iopub.status.busy": "2023-06-10T13:42:34.569721Z",
     "iopub.status.idle": "2023-06-10T13:42:39.214611Z",
     "shell.execute_reply": "2023-06-10T13:42:39.213431Z"
    },
    "id": "WHamjUmo37Xs",
    "outputId": "68d56de1-45ae-427c-c6b5-7459331e33a4",
    "papermill": {
     "duration": 4.665157,
     "end_time": "2023-06-10T13:42:39.216892",
     "exception": false,
     "start_time": "2023-06-10T13:42:34.551735",
     "status": "completed"
    },
    "tags": []
   },
   "outputs": [
    {
     "name": "stdout",
     "output_type": "stream",
     "text": [
      "[nltk_data] Downloading package wordnet to /usr/share/nltk_data...\n",
      "[nltk_data]   Package wordnet is already up-to-date!\n",
      "[nltk_data] Downloading package stopwords to /usr/share/nltk_data...\n",
      "[nltk_data]   Package stopwords is already up-to-date!\n",
      "mkdir: cannot create directory ‘nltk_data’: Read-only file system\r\n",
      "[nltk_data] Downloading package wordnet to\n",
      "[nltk_data]     /kaggle/working/nltk_data...\n",
      "[nltk_data] Downloading package omw-1.4 to\n",
      "[nltk_data]     /kaggle/working/nltk_data/...\n",
      "Archive:  /kaggle/working/nltk_data/corpora/wordnet.zip\r\n",
      "   creating: /kaggle/working/nltk_data/corpora/wordnet/\r\n",
      "  inflating: /kaggle/working/nltk_data/corpora/wordnet/lexnames  \r\n",
      "  inflating: /kaggle/working/nltk_data/corpora/wordnet/data.verb  \r\n",
      "  inflating: /kaggle/working/nltk_data/corpora/wordnet/index.adv  \r\n",
      "  inflating: /kaggle/working/nltk_data/corpora/wordnet/adv.exc  \r\n",
      "  inflating: /kaggle/working/nltk_data/corpora/wordnet/index.verb  \r\n",
      "  inflating: /kaggle/working/nltk_data/corpora/wordnet/cntlist.rev  \r\n",
      "  inflating: /kaggle/working/nltk_data/corpora/wordnet/data.adj  \r\n",
      "  inflating: /kaggle/working/nltk_data/corpora/wordnet/index.adj  \r\n",
      "  inflating: /kaggle/working/nltk_data/corpora/wordnet/LICENSE  \r\n",
      "  inflating: /kaggle/working/nltk_data/corpora/wordnet/citation.bib  \r\n",
      "  inflating: /kaggle/working/nltk_data/corpora/wordnet/noun.exc  \r\n",
      "  inflating: /kaggle/working/nltk_data/corpora/wordnet/verb.exc  \r\n",
      "  inflating: /kaggle/working/nltk_data/corpora/wordnet/README  \r\n",
      "  inflating: /kaggle/working/nltk_data/corpora/wordnet/index.sense  \r\n",
      "  inflating: /kaggle/working/nltk_data/corpora/wordnet/data.noun  \r\n",
      "  inflating: /kaggle/working/nltk_data/corpora/wordnet/data.adv  \r\n",
      "  inflating: /kaggle/working/nltk_data/corpora/wordnet/index.noun  \r\n",
      "  inflating: /kaggle/working/nltk_data/corpora/wordnet/adj.exc  \r\n",
      "Archive:  /kaggle/working/nltk_data/corpora/omw-1.4.zip\r\n",
      "   creating: /kaggle/working/nltk_data/corpora/omw-1.4/\r\n",
      "   creating: /kaggle/working/nltk_data/corpora/omw-1.4/fin/\r\n",
      "  inflating: /kaggle/working/nltk_data/corpora/omw-1.4/fin/LICENSE  \r\n",
      "  inflating: /kaggle/working/nltk_data/corpora/omw-1.4/fin/citation.bib  \r\n",
      "  inflating: /kaggle/working/nltk_data/corpora/omw-1.4/fin/wn-data-fin.tab  \r\n",
      "   creating: /kaggle/working/nltk_data/corpora/omw-1.4/heb/\r\n",
      "  inflating: /kaggle/working/nltk_data/corpora/omw-1.4/heb/LICENSE  \r\n",
      "  inflating: /kaggle/working/nltk_data/corpora/omw-1.4/heb/citation.bib  \r\n",
      "  inflating: /kaggle/working/nltk_data/corpora/omw-1.4/heb/README  \r\n",
      "  inflating: /kaggle/working/nltk_data/corpora/omw-1.4/heb/wn-data-heb.tab  \r\n",
      "   creating: /kaggle/working/nltk_data/corpora/omw-1.4/slv/\r\n",
      "  inflating: /kaggle/working/nltk_data/corpora/omw-1.4/slv/LICENSE  \r\n",
      "  inflating: /kaggle/working/nltk_data/corpora/omw-1.4/slv/citation.bib  \r\n",
      "  inflating: /kaggle/working/nltk_data/corpora/omw-1.4/slv/README  \r\n",
      "  inflating: /kaggle/working/nltk_data/corpora/omw-1.4/slv/wn-data-slv.tab  \r\n",
      "   creating: /kaggle/working/nltk_data/corpora/omw-1.4/ita/\r\n",
      "  inflating: /kaggle/working/nltk_data/corpora/omw-1.4/ita/LICENSE  \r\n",
      "  inflating: /kaggle/working/nltk_data/corpora/omw-1.4/ita/citation.bib  \r\n",
      "  inflating: /kaggle/working/nltk_data/corpora/omw-1.4/ita/wn-data-ita.tab  \r\n",
      " extracting: /kaggle/working/nltk_data/corpora/omw-1.4/ita/README  \r\n",
      "   creating: /kaggle/working/nltk_data/corpora/omw-1.4/nor/\r\n",
      "  inflating: /kaggle/working/nltk_data/corpora/omw-1.4/nor/LICENSE  \r\n",
      "  inflating: /kaggle/working/nltk_data/corpora/omw-1.4/nor/citation.bib  \r\n",
      "  inflating: /kaggle/working/nltk_data/corpora/omw-1.4/nor/README  \r\n",
      "  inflating: /kaggle/working/nltk_data/corpora/omw-1.4/nor/wn-data-nno.tab  \r\n",
      "  inflating: /kaggle/working/nltk_data/corpora/omw-1.4/nor/wn-data-nob.tab  \r\n",
      "   creating: /kaggle/working/nltk_data/corpora/omw-1.4/als/\r\n",
      "  inflating: /kaggle/working/nltk_data/corpora/omw-1.4/als/wn-data-als.tab  \r\n",
      "  inflating: /kaggle/working/nltk_data/corpora/omw-1.4/als/LICENSE  \r\n",
      "  inflating: /kaggle/working/nltk_data/corpora/omw-1.4/als/citation.bib  \r\n",
      "  inflating: /kaggle/working/nltk_data/corpora/omw-1.4/als/README  \r\n",
      "   creating: /kaggle/working/nltk_data/corpora/omw-1.4/pol/\r\n",
      "  inflating: /kaggle/working/nltk_data/corpora/omw-1.4/pol/LICENSE  \r\n",
      "  inflating: /kaggle/working/nltk_data/corpora/omw-1.4/pol/citation.bib  \r\n",
      "  inflating: /kaggle/working/nltk_data/corpora/omw-1.4/pol/wn-data-pol.tab  \r\n",
      "   creating: /kaggle/working/nltk_data/corpora/omw-1.4/hrv/\r\n",
      " extracting: /kaggle/working/nltk_data/corpora/omw-1.4/hrv/LICENSE  \r\n",
      "  inflating: /kaggle/working/nltk_data/corpora/omw-1.4/hrv/citation.bib  \r\n",
      "  inflating: /kaggle/working/nltk_data/corpora/omw-1.4/hrv/wn-data-hrv.tab  \r\n",
      "  inflating: /kaggle/working/nltk_data/corpora/omw-1.4/hrv/README  \r\n",
      "  inflating: /kaggle/working/nltk_data/corpora/omw-1.4/citation.bib  \r\n",
      "   creating: /kaggle/working/nltk_data/corpora/omw-1.4/iwn/\r\n",
      "  inflating: /kaggle/working/nltk_data/corpora/omw-1.4/iwn/LICENSE  \r\n",
      "  inflating: /kaggle/working/nltk_data/corpora/omw-1.4/iwn/citation.bib  \r\n",
      "  inflating: /kaggle/working/nltk_data/corpora/omw-1.4/iwn/wn-data-ita.tab  \r\n",
      "  inflating: /kaggle/working/nltk_data/corpora/omw-1.4/iwn/README  \r\n",
      "   creating: /kaggle/working/nltk_data/corpora/omw-1.4/nld/\r\n",
      "  inflating: /kaggle/working/nltk_data/corpora/omw-1.4/nld/LICENSE  \r\n",
      "  inflating: /kaggle/working/nltk_data/corpora/omw-1.4/nld/wn-data-nld.tab  \r\n",
      "  inflating: /kaggle/working/nltk_data/corpora/omw-1.4/nld/citation.bib  \r\n",
      "   creating: /kaggle/working/nltk_data/corpora/omw-1.4/ron/\r\n",
      "  inflating: /kaggle/working/nltk_data/corpora/omw-1.4/ron/LICENSE  \r\n",
      "  inflating: /kaggle/working/nltk_data/corpora/omw-1.4/ron/citation.bib  \r\n",
      "  inflating: /kaggle/working/nltk_data/corpora/omw-1.4/ron/wn-data-ron.tab  \r\n",
      "  inflating: /kaggle/working/nltk_data/corpora/omw-1.4/ron/README  \r\n",
      "   creating: /kaggle/working/nltk_data/corpora/omw-1.4/arb/\r\n",
      "  inflating: /kaggle/working/nltk_data/corpora/omw-1.4/arb/LICENSE  \r\n",
      "  inflating: /kaggle/working/nltk_data/corpora/omw-1.4/arb/citation.bib  \r\n",
      "  inflating: /kaggle/working/nltk_data/corpora/omw-1.4/arb/README  \r\n",
      "  inflating: /kaggle/working/nltk_data/corpora/omw-1.4/arb/wn-data-arb.tab  \r\n",
      "   creating: /kaggle/working/nltk_data/corpora/omw-1.4/isl/\r\n",
      "  inflating: /kaggle/working/nltk_data/corpora/omw-1.4/isl/LICENSE  \r\n",
      "  inflating: /kaggle/working/nltk_data/corpora/omw-1.4/isl/citation.bib  \r\n",
      "  inflating: /kaggle/working/nltk_data/corpora/omw-1.4/isl/README  \r\n",
      "  inflating: /kaggle/working/nltk_data/corpora/omw-1.4/isl/wn-data-isl.tab  \r\n",
      "   creating: /kaggle/working/nltk_data/corpora/omw-1.4/swe/\r\n",
      "  inflating: /kaggle/working/nltk_data/corpora/omw-1.4/swe/LICENSE  \r\n",
      "  inflating: /kaggle/working/nltk_data/corpora/omw-1.4/swe/citation.bib  \r\n",
      "  inflating: /kaggle/working/nltk_data/corpora/omw-1.4/swe/README  \r\n",
      "  inflating: /kaggle/working/nltk_data/corpora/omw-1.4/swe/wn-data-swe.tab  \r\n",
      "   creating: /kaggle/working/nltk_data/corpora/omw-1.4/por/\r\n",
      "  inflating: /kaggle/working/nltk_data/corpora/omw-1.4/por/LICENSE  \r\n",
      "  inflating: /kaggle/working/nltk_data/corpora/omw-1.4/por/citation.bib  \r\n",
      "  inflating: /kaggle/working/nltk_data/corpora/omw-1.4/por/wn-data-por.tab  \r\n",
      "  inflating: /kaggle/working/nltk_data/corpora/omw-1.4/por/README  \r\n",
      "  inflating: /kaggle/working/nltk_data/corpora/omw-1.4/README  \r\n",
      "   creating: /kaggle/working/nltk_data/corpora/omw-1.4/cow/\r\n",
      "  inflating: /kaggle/working/nltk_data/corpora/omw-1.4/cow/wn-data-cmn.tab  \r\n",
      "  inflating: /kaggle/working/nltk_data/corpora/omw-1.4/cow/LICENSE  \r\n",
      "  inflating: /kaggle/working/nltk_data/corpora/omw-1.4/cow/citation.bib  \r\n",
      "   creating: /kaggle/working/nltk_data/corpora/omw-1.4/jpn/\r\n",
      "  inflating: /kaggle/working/nltk_data/corpora/omw-1.4/jpn/LICENSE  \r\n",
      "  inflating: /kaggle/working/nltk_data/corpora/omw-1.4/jpn/citation.bib  \r\n",
      "  inflating: /kaggle/working/nltk_data/corpora/omw-1.4/jpn/README  \r\n",
      "  inflating: /kaggle/working/nltk_data/corpora/omw-1.4/jpn/wn-data-jpn.tab  \r\n",
      "   creating: /kaggle/working/nltk_data/corpora/omw-1.4/dan/\r\n",
      "  inflating: /kaggle/working/nltk_data/corpora/omw-1.4/dan/LICENSE  \r\n",
      "  inflating: /kaggle/working/nltk_data/corpora/omw-1.4/dan/citation.bib  \r\n",
      "  inflating: /kaggle/working/nltk_data/corpora/omw-1.4/dan/wn-data-dan.tab  \r\n",
      "   creating: /kaggle/working/nltk_data/corpora/omw-1.4/slk/\r\n",
      "  inflating: /kaggle/working/nltk_data/corpora/omw-1.4/slk/LICENSE  \r\n",
      "  inflating: /kaggle/working/nltk_data/corpora/omw-1.4/slk/citation.bib  \r\n",
      "  inflating: /kaggle/working/nltk_data/corpora/omw-1.4/slk/wn-data-slk.tab  \r\n",
      "  inflating: /kaggle/working/nltk_data/corpora/omw-1.4/slk/wn-data-lit.tab  \r\n",
      "  inflating: /kaggle/working/nltk_data/corpora/omw-1.4/slk/README  \r\n",
      "   creating: /kaggle/working/nltk_data/corpora/omw-1.4/bul/\r\n",
      "  inflating: /kaggle/working/nltk_data/corpora/omw-1.4/bul/LICENSE  \r\n",
      "  inflating: /kaggle/working/nltk_data/corpora/omw-1.4/bul/citation.bib  \r\n",
      "  inflating: /kaggle/working/nltk_data/corpora/omw-1.4/bul/wn-data-bul.tab  \r\n",
      "  inflating: /kaggle/working/nltk_data/corpora/omw-1.4/bul/README  \r\n",
      "   creating: /kaggle/working/nltk_data/corpora/omw-1.4/mcr/\r\n",
      "  inflating: /kaggle/working/nltk_data/corpora/omw-1.4/mcr/LICENSE  \r\n",
      "  inflating: /kaggle/working/nltk_data/corpora/omw-1.4/mcr/citation.bib  \r\n",
      "  inflating: /kaggle/working/nltk_data/corpora/omw-1.4/mcr/wn-data-eus.tab  \r\n",
      "  inflating: /kaggle/working/nltk_data/corpora/omw-1.4/mcr/wn-data-cat.tab  \r\n",
      "  inflating: /kaggle/working/nltk_data/corpora/omw-1.4/mcr/wn-data-glg.tab  \r\n",
      "  inflating: /kaggle/working/nltk_data/corpora/omw-1.4/mcr/wn-data-spa.tab  \r\n",
      "   creating: /kaggle/working/nltk_data/corpora/omw-1.4/ell/\r\n",
      "  inflating: /kaggle/working/nltk_data/corpora/omw-1.4/ell/LICENSE  \r\n",
      "  inflating: /kaggle/working/nltk_data/corpora/omw-1.4/ell/wn-data-ell.tab  \r\n",
      "  inflating: /kaggle/working/nltk_data/corpora/omw-1.4/ell/README  \r\n",
      "   creating: /kaggle/working/nltk_data/corpora/omw-1.4/msa/\r\n",
      "  inflating: /kaggle/working/nltk_data/corpora/omw-1.4/msa/LICENSE  \r\n",
      "  inflating: /kaggle/working/nltk_data/corpora/omw-1.4/msa/citation.bib  \r\n",
      "  inflating: /kaggle/working/nltk_data/corpora/omw-1.4/msa/wn-data-zsm.tab  \r\n",
      "  inflating: /kaggle/working/nltk_data/corpora/omw-1.4/msa/wn-data-ind.tab  \r\n",
      "  inflating: /kaggle/working/nltk_data/corpora/omw-1.4/msa/README  \r\n",
      "   creating: /kaggle/working/nltk_data/corpora/omw-1.4/fra/\r\n",
      "  inflating: /kaggle/working/nltk_data/corpora/omw-1.4/fra/LICENSE  \r\n",
      "  inflating: /kaggle/working/nltk_data/corpora/omw-1.4/fra/citation.bib  \r\n",
      "  inflating: /kaggle/working/nltk_data/corpora/omw-1.4/fra/wn-data-fra.tab  \r\n",
      "   creating: /kaggle/working/nltk_data/corpora/omw-1.4/tha/\r\n",
      "  inflating: /kaggle/working/nltk_data/corpora/omw-1.4/tha/LICENSE  \r\n",
      "  inflating: /kaggle/working/nltk_data/corpora/omw-1.4/tha/citation.bib  \r\n",
      "  inflating: /kaggle/working/nltk_data/corpora/omw-1.4/tha/wn-data-tha.tab  \r\n"
     ]
    }
   ],
   "source": [
    "# dependencies:\n",
    "import nltk\n",
    "nltk.download('wordnet')\n",
    "nltk.download('stopwords')\n",
    "from nltk.corpus import stopwords\n",
    "from nltk.stem import WordNetLemmatizer\n",
    "from nltk.tokenize import TweetTokenizer\n",
    "import re\n",
    "from nltk.stem import WordNetLemmatizer\n",
    "from nltk.tokenize import word_tokenize\n",
    "\n",
    "# initiating lemmatizer(kaggle specific):\n",
    "# Define a install path for nltk\n",
    "if os.environ.get('KAGGLE_KERNEL_RUN_TYPE', ''):\n",
    "    nltk_path='/kaggle/working'\n",
    "else:\n",
    "    nltk_path=\"{}\".format(os.getcwd())\n",
    "\n",
    "isnltk_installed = os.path.isdir(f'{nltk_path}/nltk_data/corpora/wordnet')\n",
    "\n",
    "# Install relevent libraries to nltk path\n",
    "if isnltk_installed:\n",
    "    nltk.data.path.append(f'{nltk_path}/nltk_data')\n",
    "else:\n",
    "    # Make directort name 'nlrk_data' in current work directory '/kaggle/working/'\n",
    "    !mkdir nltk_data\n",
    "    # Download neccessaty package as .zip file ('corpora' directory are automatically created)\n",
    "    nltk.download('wordnet', f\"{nltk_path}/nltk_data\")\n",
    "    nltk.download('omw-1.4', f\"{nltk_path}/nltk_data/\")\n",
    "    # Unzip .zip file in folder '/kaggle/working/nltk_data/corpora'\n",
    "    !unzip /kaggle/working/nltk_data/corpora/wordnet.zip -d /kaggle/working/nltk_data/corpora\n",
    "    !unzip /kaggle/working/nltk_data/corpora/omw-1.4.zip -d /kaggle/working/nltk_data/corpora\n",
    "    # Add custom location nltk file data path\n",
    "    nltk.data.path.append(f'{nltk_path}/nltk_data')\n"
   ]
  },
  {
   "cell_type": "code",
   "execution_count": 11,
   "id": "a9a0df02",
   "metadata": {
    "execution": {
     "iopub.execute_input": "2023-06-10T13:42:39.256814Z",
     "iopub.status.busy": "2023-06-10T13:42:39.255950Z",
     "iopub.status.idle": "2023-06-10T13:42:39.269246Z",
     "shell.execute_reply": "2023-06-10T13:42:39.268375Z"
    },
    "id": "k5JngHkNMRHD",
    "papermill": {
     "duration": 0.035161,
     "end_time": "2023-06-10T13:42:39.271207",
     "exception": false,
     "start_time": "2023-06-10T13:42:39.236046",
     "status": "completed"
    },
    "tags": []
   },
   "outputs": [],
   "source": [
    "# function for NLP:\n",
    "def nlp(text):\n",
    "  def remove_emoji(text):\n",
    "    emoji_pattern = re.compile(\n",
    "      '['\n",
    "      u'\\U0001F600-\\U0001F64F'  # emoticons\n",
    "      u'\\U0001F300-\\U0001F5FF'  # symbols & pictographs\n",
    "      u'\\U0001F680-\\U0001F6FF'  # transport & map symbols\n",
    "      u'\\U0001F1E0-\\U0001F1FF'  # flags\n",
    "      u'\\U00002702-\\U000027B0'\n",
    "      u'\\U000024C2-\\U0001F251'\n",
    "      ']+',\n",
    "      flags=re.UNICODE)\n",
    "    return emoji_pattern.sub(r'', text)\n",
    "  def lemmatize(text):\n",
    "    lemmatizer = WordNetLemmatizer()\n",
    "    tokenizer = TweetTokenizer()\n",
    "    words = tokenizer.tokenize(text)\n",
    "    words = [lemmatizer.lemmatize(word) for word in words if word not in stopwords.words('english')]\n",
    "    return words\n",
    "  text = remove_emoji(text)\n",
    "  text = str(text).lower()\n",
    "  text = re.sub(r'https?://\\S+|www\\.\\S+', '', text)\n",
    "  text = re.sub(r'RT[\\s]+', '', text)\n",
    "  text = re.sub(r'@\\S+', '', text)\n",
    "  text = re.sub(r'#', '', text)\n",
    "  text = re.sub(r'\\[', '', text)\n",
    "  text = re.sub(r'\\]', '', text)\n",
    "  text = re.sub('â\\\\x92', \"'\", text)\n",
    "  text = re.sub('â\\S+', '', text)\n",
    "  text = re.sub('\\.+', '.', text)\n",
    "  text = re.sub('&amp;', 'and', text)\n",
    "  text = re.sub(\"let's\", 'let us', text)\n",
    "  text = re.sub(\"'s\", ' is', text)\n",
    "  text = re.sub(\"'re\", ' are', text)\n",
    "  text = re.sub(\"ain't\", 'am not', text)\n",
    "  text = re.sub(\"won't\", 'will not', text)\n",
    "  text = re.sub(\"n't\", ' not', text)\n",
    "  text = re.sub(\"'ve\", ' have', text)\n",
    "  text = re.sub(\"y'all\", \"you all\", text)\n",
    "  text = re.sub(\"'ll\", ' will', text)\n",
    "  text = re.sub(\"i'd\", 'i would', text)\n",
    "  text = re.sub(\"i'm\", 'i am', text)\n",
    "  text = re.sub(r\"[^a-z<>!?\\s]+\", '', text)\n",
    "  text = re.sub('covid\\S*', 'coronavirus', text)\n",
    "  text = re.sub('corona\\S*', 'coronavirus', text)\n",
    "  text = re.sub(r'\\s+', ' ', text)\n",
    "  text = lemmatize(text)\n",
    "  return text"
   ]
  },
  {
   "cell_type": "code",
   "execution_count": 12,
   "id": "f365e34e",
   "metadata": {
    "execution": {
     "iopub.execute_input": "2023-06-10T13:42:39.309728Z",
     "iopub.status.busy": "2023-06-10T13:42:39.308954Z",
     "iopub.status.idle": "2023-06-10T13:45:26.281069Z",
     "shell.execute_reply": "2023-06-10T13:45:26.279951Z"
    },
    "id": "gt6GEAvmaB8e",
    "outputId": "7abdc7f8-cde5-4b26-c8a0-aba25b6f1b2b",
    "papermill": {
     "duration": 166.996224,
     "end_time": "2023-06-10T13:45:26.285864",
     "exception": false,
     "start_time": "2023-06-10T13:42:39.289640",
     "status": "completed"
    },
    "tags": []
   },
   "outputs": [
    {
     "data": {
      "application/vnd.jupyter.widget-view+json": {
       "model_id": "66771cad914a44f9a71b24e0ab046f43",
       "version_major": 2,
       "version_minor": 0
      },
      "text/plain": [
       "Progress:   0%|          | 0/32925 [00:00<?, ?it/s]"
      ]
     },
     "metadata": {},
     "output_type": "display_data"
    },
    {
     "data": {
      "application/vnd.jupyter.widget-view+json": {
       "model_id": "30553378846e44d9ad7d24ce8918241d",
       "version_major": 2,
       "version_minor": 0
      },
      "text/plain": [
       "Progress:   0%|          | 0/8232 [00:00<?, ?it/s]"
      ]
     },
     "metadata": {},
     "output_type": "display_data"
    },
    {
     "name": "stdout",
     "output_type": "stream",
     "text": [
      "CPU times: user 2min 26s, sys: 20 s, total: 2min 46s\n",
      "Wall time: 2min 46s\n"
     ]
    }
   ],
   "source": [
    "%%time\n",
    "import tqdm.notebook as tq\n",
    "x_train_clean = np.array([nlp(text) for text in tq.tqdm(x_train.values, desc='Progress')], dtype='O')\n",
    "x_test_clean = np.array([nlp(sent) for sent in tq.tqdm(x_test.values, desc='Progress')], dtype='O')"
   ]
  },
  {
   "cell_type": "code",
   "execution_count": 13,
   "id": "a88c7836",
   "metadata": {
    "execution": {
     "iopub.execute_input": "2023-06-10T13:45:26.326026Z",
     "iopub.status.busy": "2023-06-10T13:45:26.325398Z",
     "iopub.status.idle": "2023-06-10T13:45:26.331235Z",
     "shell.execute_reply": "2023-06-10T13:45:26.330205Z"
    },
    "id": "TuGEe2axWc0v",
    "outputId": "1bcba6d1-733b-45fb-92b8-56f8f7c1f5cf",
    "papermill": {
     "duration": 0.028059,
     "end_time": "2023-06-10T13:45:26.333208",
     "exception": false,
     "start_time": "2023-06-10T13:45:26.305149",
     "status": "completed"
    },
    "tags": []
   },
   "outputs": [
    {
     "name": "stdout",
     "output_type": "stream",
     "text": [
      "['unemployment', 'claim', 'made', 'online', 'virginia', 'week', 'monday', 'tuesday', 'number', 'going', 'get', 'bigger']\n"
     ]
    }
   ],
   "source": [
    "# text after cleaning:\n",
    "print(x_train_clean[0])"
   ]
  },
  {
   "cell_type": "code",
   "execution_count": 14,
   "id": "1fd300f5",
   "metadata": {
    "execution": {
     "iopub.execute_input": "2023-06-10T13:45:26.374802Z",
     "iopub.status.busy": "2023-06-10T13:45:26.373021Z",
     "iopub.status.idle": "2023-06-10T13:45:26.380244Z",
     "shell.execute_reply": "2023-06-10T13:45:26.379257Z"
    },
    "id": "rZRSMTHyfyGR",
    "outputId": "ec65f6ab-3fc5-44fe-ba77-30b618bda8b9",
    "papermill": {
     "duration": 0.029469,
     "end_time": "2023-06-10T13:45:26.382193",
     "exception": false,
     "start_time": "2023-06-10T13:45:26.352724",
     "status": "completed"
    },
    "tags": []
   },
   "outputs": [
    {
     "data": {
      "text/plain": [
       "array([list(['unemployment', 'claim', 'made', 'online', 'virginia', 'week', 'monday', 'tuesday', 'number', 'going', 'get', 'bigger']),\n",
       "       list(['panicbuying', 'response', 'coronavirus', 'could', 'damaging', 'effect', 'agri', 'supply', 'chain', 'say', 'agri', 'economist', 'lunathi', 'hlakanyane', 'farmerschange', 'coronavirus', 'coronavirus']),\n",
       "       list(['ecigarette', 'user', 'tobacco', 'smoker', 'danger', 'new', 'coronavirus', 'average', 'healthy', 'person']),\n",
       "       ...,\n",
       "       list(['commented', 'poll', 'online', 'shopping', 'normal', 'coronavirus', 'crisis', '?']),\n",
       "       list(['wife', 'got', 'laid', 'yesterday', 'small', 'retail', 'store', 'work', 'got', 'walloped', 'walkin', 'business', 'vanishing', 'coronavirus', 'long', 'thinking', 'taking', 'ei', 'process', 'claim', 'right', '?']),\n",
       "       list(['humanity', 'doomed', 'coronavirus', 'coronavirus', 'toiletpaper', 'toiletpapier', 'coronavirus', 'coronavirus'])],\n",
       "      dtype=object)"
      ]
     },
     "execution_count": 14,
     "metadata": {},
     "output_type": "execute_result"
    }
   ],
   "source": [
    "# array of list (of clean text data)\n",
    "x_train_clean"
   ]
  },
  {
   "cell_type": "markdown",
   "id": "b8672e51",
   "metadata": {
    "id": "LexK8e0AefYi",
    "papermill": {
     "duration": 0.019117,
     "end_time": "2023-06-10T13:45:26.420443",
     "exception": false,
     "start_time": "2023-06-10T13:45:26.401326",
     "status": "completed"
    },
    "tags": []
   },
   "source": [
    "## Word Embedding and Sequence Padding"
   ]
  },
  {
   "cell_type": "code",
   "execution_count": 15,
   "id": "88b69ae4",
   "metadata": {
    "execution": {
     "iopub.execute_input": "2023-06-10T13:45:26.459829Z",
     "iopub.status.busy": "2023-06-10T13:45:26.459502Z",
     "iopub.status.idle": "2023-06-10T13:45:26.473562Z",
     "shell.execute_reply": "2023-06-10T13:45:26.472446Z"
    },
    "id": "4LzGNTc3edtV",
    "outputId": "680c8038-a346-4e8d-878c-512a0ceeb4cd",
    "papermill": {
     "duration": 0.036193,
     "end_time": "2023-06-10T13:45:26.475609",
     "exception": false,
     "start_time": "2023-06-10T13:45:26.439416",
     "status": "completed"
    },
    "tags": []
   },
   "outputs": [
    {
     "data": {
      "text/plain": [
       "151"
      ]
     },
     "execution_count": 15,
     "metadata": {},
     "output_type": "execute_result"
    }
   ],
   "source": [
    "max_len = max([len(sent) for sent in x_train_clean])\n",
    "max_len"
   ]
  },
  {
   "cell_type": "markdown",
   "id": "9f71ebdd",
   "metadata": {
    "id": "NErHkaU7fJKz",
    "papermill": {
     "duration": 0.018991,
     "end_time": "2023-06-10T13:45:26.513840",
     "exception": false,
     "start_time": "2023-06-10T13:45:26.494849",
     "status": "completed"
    },
    "tags": []
   },
   "source": [
    "#### Word Embedding"
   ]
  },
  {
   "cell_type": "code",
   "execution_count": 16,
   "id": "465f5482",
   "metadata": {
    "execution": {
     "iopub.execute_input": "2023-06-10T13:45:26.554443Z",
     "iopub.status.busy": "2023-06-10T13:45:26.553619Z",
     "iopub.status.idle": "2023-06-10T13:45:27.636351Z",
     "shell.execute_reply": "2023-06-10T13:45:27.635372Z"
    },
    "id": "muFwx7hheoRu",
    "papermill": {
     "duration": 1.105768,
     "end_time": "2023-06-10T13:45:27.638843",
     "exception": false,
     "start_time": "2023-06-10T13:45:26.533075",
     "status": "completed"
    },
    "tags": []
   },
   "outputs": [],
   "source": [
    "from keras.preprocessing.text import Tokenizer\n",
    "\n",
    "tok = Tokenizer(filters=None, oov_token='<OOV>')\n",
    "tok.fit_on_texts(list(x_train_clean)+list(x_test_clean))\n",
    "\n",
    "x_train_seq = tok.texts_to_sequences(x_train_clean)\n",
    "x_test_seq = tok.texts_to_sequences(x_test_clean)"
   ]
  },
  {
   "cell_type": "code",
   "execution_count": 17,
   "id": "318daaba",
   "metadata": {
    "execution": {
     "iopub.execute_input": "2023-06-10T13:45:27.679667Z",
     "iopub.status.busy": "2023-06-10T13:45:27.679330Z",
     "iopub.status.idle": "2023-06-10T13:45:27.684516Z",
     "shell.execute_reply": "2023-06-10T13:45:27.683513Z"
    },
    "id": "XdsV4_5Pe3ya",
    "outputId": "d57f2e57-a98e-440d-d5e9-c70d152ef7c9",
    "papermill": {
     "duration": 0.029088,
     "end_time": "2023-06-10T13:45:27.687947",
     "exception": false,
     "start_time": "2023-06-10T13:45:27.658859",
     "status": "completed"
    },
    "tags": []
   },
   "outputs": [
    {
     "name": "stdout",
     "output_type": "stream",
     "text": [
      "[815, 719, 220, 13, 3442, 39, 667, 1239, 273, 31, 18, 2630]\n",
      "['unemployment', 'claim', 'made', 'online', 'virginia', 'week', 'monday', 'tuesday', 'number', 'going', 'get', 'bigger']\n"
     ]
    }
   ],
   "source": [
    "# checking random data:\n",
    "print(x_train_seq[0])\n",
    "print(x_train_clean[0])"
   ]
  },
  {
   "cell_type": "code",
   "execution_count": 18,
   "id": "1bd6eddf",
   "metadata": {
    "execution": {
     "iopub.execute_input": "2023-06-10T13:45:27.728281Z",
     "iopub.status.busy": "2023-06-10T13:45:27.727960Z",
     "iopub.status.idle": "2023-06-10T13:45:27.734146Z",
     "shell.execute_reply": "2023-06-10T13:45:27.733142Z"
    },
    "id": "XZD4IUGwfX-d",
    "outputId": "d8149a45-eab0-4f97-c0d2-5bd8bb01227b",
    "papermill": {
     "duration": 0.029688,
     "end_time": "2023-06-10T13:45:27.737275",
     "exception": false,
     "start_time": "2023-06-10T13:45:27.707587",
     "status": "completed"
    },
    "tags": []
   },
   "outputs": [
    {
     "data": {
      "text/plain": [
       "42931"
      ]
     },
     "execution_count": 18,
     "metadata": {},
     "output_type": "execute_result"
    }
   ],
   "source": [
    "# unique word tokens:\n",
    "word_index = tok.word_index\n",
    "len(word_index)"
   ]
  },
  {
   "cell_type": "markdown",
   "id": "d6981c5b",
   "metadata": {
    "id": "iqkp5GQifNiU",
    "papermill": {
     "duration": 0.019413,
     "end_time": "2023-06-10T13:45:27.776870",
     "exception": false,
     "start_time": "2023-06-10T13:45:27.757457",
     "status": "completed"
    },
    "tags": []
   },
   "source": [
    "#### Sequence Padding"
   ]
  },
  {
   "cell_type": "code",
   "execution_count": 19,
   "id": "e1157715",
   "metadata": {
    "execution": {
     "iopub.execute_input": "2023-06-10T13:45:27.818346Z",
     "iopub.status.busy": "2023-06-10T13:45:27.817996Z",
     "iopub.status.idle": "2023-06-10T13:45:28.019681Z",
     "shell.execute_reply": "2023-06-10T13:45:28.018678Z"
    },
    "id": "JyzdhgIafU9d",
    "papermill": {
     "duration": 0.225489,
     "end_time": "2023-06-10T13:45:28.022091",
     "exception": false,
     "start_time": "2023-06-10T13:45:27.796602",
     "status": "completed"
    },
    "tags": []
   },
   "outputs": [],
   "source": [
    "from keras.utils import pad_sequences\n",
    "x_train_pad = pad_sequences(x_train_seq, maxlen=max_len, padding='post')\n",
    "x_test_pad = pad_sequences(x_test_seq, maxlen=max_len, padding='post')"
   ]
  },
  {
   "cell_type": "code",
   "execution_count": 20,
   "id": "b630ed21",
   "metadata": {
    "execution": {
     "iopub.execute_input": "2023-06-10T13:45:28.063313Z",
     "iopub.status.busy": "2023-06-10T13:45:28.062981Z",
     "iopub.status.idle": "2023-06-10T13:45:28.069105Z",
     "shell.execute_reply": "2023-06-10T13:45:28.068246Z"
    },
    "id": "kmDqRnT_fkqi",
    "outputId": "e010b87e-0981-4ab4-a079-be561f6edeb2",
    "papermill": {
     "duration": 0.028779,
     "end_time": "2023-06-10T13:45:28.071049",
     "exception": false,
     "start_time": "2023-06-10T13:45:28.042270",
     "status": "completed"
    },
    "tags": []
   },
   "outputs": [
    {
     "data": {
      "text/plain": [
       "((32925, 151), (8232, 151))"
      ]
     },
     "execution_count": 20,
     "metadata": {},
     "output_type": "execute_result"
    }
   ],
   "source": [
    "x_train_pad.shape, x_test_pad.shape"
   ]
  },
  {
   "cell_type": "markdown",
   "id": "9066d910",
   "metadata": {
    "id": "qvIq4diTQ7aw",
    "papermill": {
     "duration": 0.019272,
     "end_time": "2023-06-10T13:45:28.109893",
     "exception": false,
     "start_time": "2023-06-10T13:45:28.090621",
     "status": "completed"
    },
    "tags": []
   },
   "source": [
    "## Label Encoding\n"
   ]
  },
  {
   "cell_type": "code",
   "execution_count": 21,
   "id": "ac743713",
   "metadata": {
    "execution": {
     "iopub.execute_input": "2023-06-10T13:45:28.150765Z",
     "iopub.status.busy": "2023-06-10T13:45:28.150100Z",
     "iopub.status.idle": "2023-06-10T13:45:28.189675Z",
     "shell.execute_reply": "2023-06-10T13:45:28.188389Z"
    },
    "id": "v-MqxqG6gtph",
    "outputId": "286059ac-31e5-4b16-9b00-9cd0d0c02791",
    "papermill": {
     "duration": 0.062176,
     "end_time": "2023-06-10T13:45:28.191673",
     "exception": false,
     "start_time": "2023-06-10T13:45:28.129497",
     "status": "completed"
    },
    "tags": []
   },
   "outputs": [
    {
     "name": "stdout",
     "output_type": "stream",
     "text": [
      "['Extremely Negative' 'Extremely Positive' 'Negative' 'Neutral' 'Positive']\n",
      "['Extremely Negative' 'Extremely Positive' 'Negative' 'Neutral' 'Positive']\n"
     ]
    }
   ],
   "source": [
    "# before grouping:\n",
    "print(np.unique(y_train))\n",
    "print(np.unique(y_test))"
   ]
  },
  {
   "cell_type": "code",
   "execution_count": 22,
   "id": "ba15270f",
   "metadata": {
    "execution": {
     "iopub.execute_input": "2023-06-10T13:45:28.233051Z",
     "iopub.status.busy": "2023-06-10T13:45:28.232749Z",
     "iopub.status.idle": "2023-06-10T13:45:28.239197Z",
     "shell.execute_reply": "2023-06-10T13:45:28.238290Z"
    },
    "id": "OfxSAvRsQ-d6",
    "papermill": {
     "duration": 0.028959,
     "end_time": "2023-06-10T13:45:28.241116",
     "exception": false,
     "start_time": "2023-06-10T13:45:28.212157",
     "status": "completed"
    },
    "tags": []
   },
   "outputs": [],
   "source": [
    "def encoder(data, enc=None):\n",
    "  data[data=='Extremely Negative'] = 'Negative'\n",
    "  data[data=='Extremely Positive'] = 'Positive'\n",
    "  if(enc==None):\n",
    "    from sklearn.preprocessing import OneHotEncoder\n",
    "    onehot = OneHotEncoder()\n",
    "    data_enc = onehot.fit_transform(np.array(data).reshape(-1,1)).toarray()\n",
    "    return data_enc,onehot\n",
    "  else:\n",
    "    data_enc = enc.transform(np.array(data).reshape(-1,1)).toarray()\n",
    "    return data_enc"
   ]
  },
  {
   "cell_type": "code",
   "execution_count": 23,
   "id": "3f8a00e3",
   "metadata": {
    "execution": {
     "iopub.execute_input": "2023-06-10T13:45:28.281881Z",
     "iopub.status.busy": "2023-06-10T13:45:28.281096Z",
     "iopub.status.idle": "2023-06-10T13:45:28.323523Z",
     "shell.execute_reply": "2023-06-10T13:45:28.322419Z"
    },
    "id": "oCDQz3H4TXC1",
    "papermill": {
     "duration": 0.065079,
     "end_time": "2023-06-10T13:45:28.325674",
     "exception": false,
     "start_time": "2023-06-10T13:45:28.260595",
     "status": "completed"
    },
    "tags": []
   },
   "outputs": [],
   "source": [
    "y_train_enc, enc = encoder(y_train)\n",
    "y_test_enc = encoder(y_test,enc)"
   ]
  },
  {
   "cell_type": "code",
   "execution_count": 24,
   "id": "ff8065b6",
   "metadata": {
    "execution": {
     "iopub.execute_input": "2023-06-10T13:45:28.367906Z",
     "iopub.status.busy": "2023-06-10T13:45:28.367090Z",
     "iopub.status.idle": "2023-06-10T13:45:28.374287Z",
     "shell.execute_reply": "2023-06-10T13:45:28.373236Z"
    },
    "id": "KfWVgi-cf8Yh",
    "outputId": "d426e541-9d4f-4aa7-b88d-52d421c177d6",
    "papermill": {
     "duration": 0.030646,
     "end_time": "2023-06-10T13:45:28.376243",
     "exception": false,
     "start_time": "2023-06-10T13:45:28.345597",
     "status": "completed"
    },
    "tags": []
   },
   "outputs": [
    {
     "data": {
      "text/plain": [
       "(array([[1., 0., 0.],\n",
       "        [1., 0., 0.],\n",
       "        [1., 0., 0.],\n",
       "        ...,\n",
       "        [1., 0., 0.],\n",
       "        [0., 1., 0.],\n",
       "        [1., 0., 0.]]),\n",
       " (32925, 3))"
      ]
     },
     "execution_count": 24,
     "metadata": {},
     "output_type": "execute_result"
    }
   ],
   "source": [
    "y_train_enc, y_train_enc.shape"
   ]
  },
  {
   "cell_type": "code",
   "execution_count": 25,
   "id": "70adea20",
   "metadata": {
    "execution": {
     "iopub.execute_input": "2023-06-10T13:45:28.417979Z",
     "iopub.status.busy": "2023-06-10T13:45:28.417108Z",
     "iopub.status.idle": "2023-06-10T13:45:28.424087Z",
     "shell.execute_reply": "2023-06-10T13:45:28.423148Z"
    },
    "id": "-Lb2NnnImuOl",
    "outputId": "94fe643c-121e-4f5a-ba9c-13eb122dfe7f",
    "papermill": {
     "duration": 0.029741,
     "end_time": "2023-06-10T13:45:28.426012",
     "exception": false,
     "start_time": "2023-06-10T13:45:28.396271",
     "status": "completed"
    },
    "tags": []
   },
   "outputs": [
    {
     "data": {
      "text/plain": [
       "(array([[0., 1., 0.],\n",
       "        [1., 0., 0.],\n",
       "        [0., 0., 1.],\n",
       "        ...,\n",
       "        [1., 0., 0.],\n",
       "        [0., 1., 0.],\n",
       "        [1., 0., 0.]]),\n",
       " (8232, 3))"
      ]
     },
     "execution_count": 25,
     "metadata": {},
     "output_type": "execute_result"
    }
   ],
   "source": [
    "y_test_enc, y_test_enc.shape"
   ]
  },
  {
   "cell_type": "markdown",
   "id": "91701f08",
   "metadata": {
    "id": "t1FPPavbnxDI",
    "papermill": {
     "duration": 0.019774,
     "end_time": "2023-06-10T13:45:28.465670",
     "exception": false,
     "start_time": "2023-06-10T13:45:28.445896",
     "status": "completed"
    },
    "tags": []
   },
   "source": [
    "## Building Neural Networks"
   ]
  },
  {
   "cell_type": "code",
   "execution_count": 26,
   "id": "4bcdc94e",
   "metadata": {
    "execution": {
     "iopub.execute_input": "2023-06-10T13:45:28.508717Z",
     "iopub.status.busy": "2023-06-10T13:45:28.506814Z",
     "iopub.status.idle": "2023-06-10T13:45:31.550807Z",
     "shell.execute_reply": "2023-06-10T13:45:31.550024Z"
    },
    "id": "-hn4gVrV5-PR",
    "outputId": "c1b7d1bf-327e-407b-a808-312b759a81d1",
    "papermill": {
     "duration": 3.084057,
     "end_time": "2023-06-10T13:45:31.569859",
     "exception": false,
     "start_time": "2023-06-10T13:45:28.485802",
     "status": "completed"
    },
    "tags": []
   },
   "outputs": [
    {
     "name": "stdout",
     "output_type": "stream",
     "text": [
      "Model: \"sequential\"\n",
      "_________________________________________________________________\n",
      " Layer (type)                Output Shape              Param #   \n",
      "=================================================================\n",
      " embedding (Embedding)       (None, 151, 151)          6482732   \n",
      "                                                                 \n",
      " spatial_dropout1d (SpatialD  (None, 151, 151)         0         \n",
      " ropout1D)                                                       \n",
      "                                                                 \n",
      " bidirectional (Bidirectiona  (None, 200)              201600    \n",
      " l)                                                              \n",
      "                                                                 \n",
      " batch_normalization (BatchN  (None, 200)              800       \n",
      " ormalization)                                                   \n",
      "                                                                 \n",
      " dropout (Dropout)           (None, 200)               0         \n",
      "                                                                 \n",
      " dense (Dense)               (None, 1024)              205824    \n",
      "                                                                 \n",
      " batch_normalization_1 (Batc  (None, 1024)             4096      \n",
      " hNormalization)                                                 \n",
      "                                                                 \n",
      " dropout_1 (Dropout)         (None, 1024)              0         \n",
      "                                                                 \n",
      " dense_1 (Dense)             (None, 3)                 3075      \n",
      "                                                                 \n",
      "=================================================================\n",
      "Total params: 6,898,127\n",
      "Trainable params: 6,895,679\n",
      "Non-trainable params: 2,448\n",
      "_________________________________________________________________\n",
      "None\n"
     ]
    }
   ],
   "source": [
    "model = keras.Sequential([\n",
    "    keras.layers.Embedding(len(word_index)+1, 151, input_length=max_len),\n",
    "    keras.layers.SpatialDropout1D(0.5),\n",
    "    keras.layers.Bidirectional(keras.layers.LSTM(100, recurrent_dropout=0.3)),\n",
    "    keras.layers.BatchNormalization(),\n",
    "    keras.layers.Dropout(0.6),\n",
    "    keras.layers.Dense(1024, activation='relu'),\n",
    "    keras.layers.BatchNormalization(),\n",
    "    keras.layers.Dropout(0.6),\n",
    "\n",
    "    keras.layers.Dense(3, activation='softmax')\n",
    "])\n",
    "\n",
    "model.compile(optimizer=keras.optimizers.Adam(learning_rate=0.001),\n",
    "              loss='categorical_crossentropy', metrics=['accuracy'])\n",
    "print(model.summary())"
   ]
  },
  {
   "cell_type": "markdown",
   "id": "140062dd",
   "metadata": {
    "id": "c_5RWaD2D7Zd",
    "papermill": {
     "duration": 0.022568,
     "end_time": "2023-06-10T13:45:31.615783",
     "exception": false,
     "start_time": "2023-06-10T13:45:31.593215",
     "status": "completed"
    },
    "tags": []
   },
   "source": [
    "#### Training"
   ]
  },
  {
   "cell_type": "code",
   "execution_count": 27,
   "id": "81bedcaf",
   "metadata": {
    "execution": {
     "iopub.execute_input": "2023-06-10T13:45:31.661849Z",
     "iopub.status.busy": "2023-06-10T13:45:31.661525Z",
     "iopub.status.idle": "2023-06-10T14:07:24.549631Z",
     "shell.execute_reply": "2023-06-10T14:07:24.548496Z"
    },
    "id": "S1V4K3E4FAwZ",
    "outputId": "50045a95-6a23-4307-9098-372bce97c144",
    "papermill": {
     "duration": 1312.914034,
     "end_time": "2023-06-10T14:07:24.551898",
     "exception": false,
     "start_time": "2023-06-10T13:45:31.637864",
     "status": "completed"
    },
    "tags": []
   },
   "outputs": [
    {
     "name": "stdout",
     "output_type": "stream",
     "text": [
      "Epoch 1/80\n",
      "65/65 [==============================] - 93s 1s/step - loss: 1.5242 - accuracy: 0.4226 - val_loss: 1.0367 - val_accuracy: 0.4394 - lr: 0.0010\n",
      "Epoch 2/80\n",
      "65/65 [==============================] - 81s 1s/step - loss: 0.8946 - accuracy: 0.6285 - val_loss: 0.9906 - val_accuracy: 0.5514 - lr: 0.0010\n",
      "Epoch 3/80\n",
      "65/65 [==============================] - 78s 1s/step - loss: 0.5761 - accuracy: 0.7680 - val_loss: 0.9114 - val_accuracy: 0.5378 - lr: 0.0010\n",
      "Epoch 4/80\n",
      "65/65 [==============================] - 78s 1s/step - loss: 0.4138 - accuracy: 0.8483 - val_loss: 0.7978 - val_accuracy: 0.6542 - lr: 0.0010\n",
      "Epoch 5/80\n",
      "65/65 [==============================] - 76s 1s/step - loss: 0.3134 - accuracy: 0.8894 - val_loss: 0.6865 - val_accuracy: 0.7032 - lr: 0.0010\n",
      "Epoch 6/80\n",
      "65/65 [==============================] - 75s 1s/step - loss: 0.2546 - accuracy: 0.9129 - val_loss: 0.6238 - val_accuracy: 0.7406 - lr: 0.0010\n",
      "Epoch 7/80\n",
      "65/65 [==============================] - 74s 1s/step - loss: 0.2135 - accuracy: 0.9278 - val_loss: 0.6201 - val_accuracy: 0.7597 - lr: 0.0010\n",
      "Epoch 8/80\n",
      "65/65 [==============================] - 77s 1s/step - loss: 0.1886 - accuracy: 0.9364 - val_loss: 0.6383 - val_accuracy: 0.7691 - lr: 0.0010\n",
      "Epoch 9/80\n",
      "65/65 [==============================] - 77s 1s/step - loss: 0.1610 - accuracy: 0.9467 - val_loss: 0.7129 - val_accuracy: 0.7819 - lr: 0.0010\n",
      "Epoch 10/80\n",
      "65/65 [==============================] - ETA: 0s - loss: 0.1435 - accuracy: 0.9515\n",
      "Epoch 10: ReduceLROnPlateau reducing learning rate to 0.00010000000474974513.\n",
      "65/65 [==============================] - 76s 1s/step - loss: 0.1435 - accuracy: 0.9515 - val_loss: 0.8779 - val_accuracy: 0.7561 - lr: 0.0010\n",
      "Epoch 11/80\n",
      "65/65 [==============================] - 73s 1s/step - loss: 0.1119 - accuracy: 0.9639 - val_loss: 0.8277 - val_accuracy: 0.7829 - lr: 1.0000e-04\n",
      "Epoch 12/80\n",
      "65/65 [==============================] - 78s 1s/step - loss: 0.1050 - accuracy: 0.9661 - val_loss: 0.8671 - val_accuracy: 0.7830 - lr: 1.0000e-04\n",
      "Epoch 13/80\n",
      "65/65 [==============================] - ETA: 0s - loss: 0.0978 - accuracy: 0.9684\n",
      "Epoch 13: ReduceLROnPlateau reducing learning rate to 1.0000000474974514e-05.\n",
      "65/65 [==============================] - 78s 1s/step - loss: 0.0978 - accuracy: 0.9684 - val_loss: 0.8962 - val_accuracy: 0.7832 - lr: 1.0000e-04\n",
      "Epoch 14/80\n",
      "65/65 [==============================] - 74s 1s/step - loss: 0.0930 - accuracy: 0.9699 - val_loss: 0.9012 - val_accuracy: 0.7823 - lr: 1.0000e-05\n",
      "Epoch 15/80\n",
      "65/65 [==============================] - 74s 1s/step - loss: 0.0918 - accuracy: 0.9712 - val_loss: 0.9038 - val_accuracy: 0.7824 - lr: 1.0000e-05\n",
      "Epoch 16/80\n",
      "65/65 [==============================] - ETA: 0s - loss: 0.0937 - accuracy: 0.9706\n",
      "Epoch 16: ReduceLROnPlateau reducing learning rate to 1.0000000656873453e-06.\n",
      "65/65 [==============================] - 74s 1s/step - loss: 0.0937 - accuracy: 0.9706 - val_loss: 0.9079 - val_accuracy: 0.7826 - lr: 1.0000e-05\n",
      "Epoch 17/80\n",
      "65/65 [==============================] - ETA: 0s - loss: 0.0905 - accuracy: 0.9712Restoring model weights from the end of the best epoch: 7.\n",
      "65/65 [==============================] - 77s 1s/step - loss: 0.0905 - accuracy: 0.9712 - val_loss: 0.9093 - val_accuracy: 0.7826 - lr: 1.0000e-06\n",
      "Epoch 17: early stopping\n"
     ]
    }
   ],
   "source": [
    "es = keras.callbacks.EarlyStopping(monitor='val_loss', patience=10, restore_best_weights=True, verbose=1)\n",
    "reduce_lr = keras.callbacks.ReduceLROnPlateau(monitor='val_loss', patience=3, verbose=1, factor=0.1)\n",
    "\n",
    "logs = model.fit(x_train_pad,y_train_enc, validation_data=(x_test_pad, y_test_enc),\n",
    "                    epochs=80, batch_size=512, callbacks=[es, reduce_lr])"
   ]
  },
  {
   "cell_type": "markdown",
   "id": "7b275556",
   "metadata": {
    "id": "q5IEjVxKECOw",
    "papermill": {
     "duration": 0.111208,
     "end_time": "2023-06-10T14:07:24.774805",
     "exception": false,
     "start_time": "2023-06-10T14:07:24.663597",
     "status": "completed"
    },
    "tags": []
   },
   "source": [
    "#### Plotting Training Log"
   ]
  },
  {
   "cell_type": "code",
   "execution_count": 28,
   "id": "fdbceb59",
   "metadata": {
    "execution": {
     "iopub.execute_input": "2023-06-10T14:07:24.996538Z",
     "iopub.status.busy": "2023-06-10T14:07:24.994787Z",
     "iopub.status.idle": "2023-06-10T14:07:59.060140Z",
     "shell.execute_reply": "2023-06-10T14:07:59.059251Z"
    },
    "id": "xpwW8OzlxfIS",
    "outputId": "ae940919-81ea-4e76-84f4-931cd91ccf54",
    "papermill": {
     "duration": 34.285186,
     "end_time": "2023-06-10T14:07:59.169585",
     "exception": false,
     "start_time": "2023-06-10T14:07:24.884399",
     "status": "completed"
    },
    "tags": []
   },
   "outputs": [
    {
     "data": {
      "image/png": "[encoded data removed]",
      "text/plain": [
       "<Figure size 640x480 with 1 Axes>"
      ]
     },
     "metadata": {},
     "output_type": "display_data"
    }
   ],
   "source": [
    "import matplotlib.pyplot as plt\n",
    "plt.title('Training Log')\n",
    "plt.plot(logs.history['loss'], label='Training Loss', linestyle='dashed')\n",
    "plt.plot(logs.history['accuracy'], label='Training Accuracy', linestyle='dashed')\n",
    "plt.plot(logs.history['val_loss'], label='Validation Loss', linewidth=3)\n",
    "plt.plot(logs.history['val_accuracy'], label='Validation accuracy', linewidth=3)\n",
    "plt.xlabel('Epochs')\n",
    "plt.ylabel('Score')\n",
    "plt.legend()\n",
    "plt.show()"
   ]
  },
  {
   "cell_type": "code",
   "execution_count": 29,
   "id": "abb77552",
   "metadata": {
    "execution": {
     "iopub.execute_input": "2023-06-10T14:07:59.385873Z",
     "iopub.status.busy": "2023-06-10T14:07:59.385178Z",
     "iopub.status.idle": "2023-06-10T14:08:19.914020Z",
     "shell.execute_reply": "2023-06-10T14:08:19.913028Z"
    },
    "id": "WXl33QENErDR",
    "outputId": "0140d9c3-fb5f-447c-e936-43d46d1b457f",
    "papermill": {
     "duration": 20.640431,
     "end_time": "2023-06-10T14:08:19.916561",
     "exception": false,
     "start_time": "2023-06-10T14:07:59.276130",
     "status": "completed"
    },
    "tags": []
   },
   "outputs": [
    {
     "name": "stdout",
     "output_type": "stream",
     "text": [
      "258/258 [==============================] - 20s 77ms/step - loss: 0.6201 - accuracy: 0.7597\n"
     ]
    },
    {
     "data": {
      "text/plain": [
       "[0.6200910806655884, 0.7597181797027588]"
      ]
     },
     "execution_count": 29,
     "metadata": {},
     "output_type": "execute_result"
    }
   ],
   "source": [
    "model.evaluate(x_test_pad,y_test_enc)"
   ]
  },
  {
   "cell_type": "code",
   "execution_count": 30,
   "id": "1afc81b2",
   "metadata": {
    "execution": {
     "iopub.execute_input": "2023-06-10T14:08:20.169390Z",
     "iopub.status.busy": "2023-06-10T14:08:20.169028Z",
     "iopub.status.idle": "2023-06-10T14:08:41.139292Z",
     "shell.execute_reply": "2023-06-10T14:08:41.138228Z"
    },
    "id": "EjunG5V1yKI3",
    "outputId": "68d43c09-1122-4054-8b47-10562af0bfdd",
    "papermill": {
     "duration": 21.098544,
     "end_time": "2023-06-10T14:08:41.141808",
     "exception": false,
     "start_time": "2023-06-10T14:08:20.043264",
     "status": "completed"
    },
    "tags": []
   },
   "outputs": [
    {
     "name": "stdout",
     "output_type": "stream",
     "text": [
      "258/258 [==============================] - 20s 76ms/step\n"
     ]
    }
   ],
   "source": [
    "y_pred = model.predict(x_test_pad)"
   ]
  },
  {
   "cell_type": "code",
   "execution_count": 31,
   "id": "f4b292c7",
   "metadata": {
    "execution": {
     "iopub.execute_input": "2023-06-10T14:08:41.444016Z",
     "iopub.status.busy": "2023-06-10T14:08:41.443652Z",
     "iopub.status.idle": "2023-06-10T14:08:41.453089Z",
     "shell.execute_reply": "2023-06-10T14:08:41.451746Z"
    },
    "id": "mCHyQsqlyPoC",
    "outputId": "e6047f72-5c79-4713-bdf3-c1b8347a9025",
    "papermill": {
     "duration": 0.168259,
     "end_time": "2023-06-10T14:08:41.455341",
     "exception": false,
     "start_time": "2023-06-10T14:08:41.287082",
     "status": "completed"
    },
    "tags": []
   },
   "outputs": [
    {
     "data": {
      "text/plain": [
       "array(['Negative', 'Negative', 'Neutral', ..., 'Positive', 'Neutral',\n",
       "       'Negative'], dtype=object)"
      ]
     },
     "execution_count": 31,
     "metadata": {},
     "output_type": "execute_result"
    }
   ],
   "source": [
    "y_pred = enc.inverse_transform(y_pred)\n",
    "y_pred = np.squeeze(y_pred)\n",
    "y_pred"
   ]
  },
  {
   "cell_type": "code",
   "execution_count": 32,
   "id": "2c26619c",
   "metadata": {
    "execution": {
     "iopub.execute_input": "2023-06-10T14:08:41.747327Z",
     "iopub.status.busy": "2023-06-10T14:08:41.746958Z",
     "iopub.status.idle": "2023-06-10T14:08:41.761971Z",
     "shell.execute_reply": "2023-06-10T14:08:41.760967Z"
    },
    "id": "_KnGrzFgGCHq",
    "outputId": "dffe4094-1f59-44ce-acbf-dafbdae5d098",
    "papermill": {
     "duration": 0.163995,
     "end_time": "2023-06-10T14:08:41.764170",
     "exception": false,
     "start_time": "2023-06-10T14:08:41.600175",
     "status": "completed"
    },
    "tags": []
   },
   "outputs": [
    {
     "data": {
      "text/html": [
       "<div>\n",
       "<style scoped>\n",
       "    .dataframe tbody tr th:only-of-type {\n",
       "        vertical-align: middle;\n",
       "    }\n",
       "\n",
       "    .dataframe tbody tr th {\n",
       "        vertical-align: top;\n",
       "    }\n",
       "\n",
       "    .dataframe thead th {\n",
       "        text-align: right;\n",
       "    }\n",
       "</style>\n",
       "<table border=\"1\" class=\"dataframe\">\n",
       "  <thead>\n",
       "    <tr style=\"text-align: right;\">\n",
       "      <th></th>\n",
       "      <th>actual</th>\n",
       "      <th>predicted</th>\n",
       "    </tr>\n",
       "  </thead>\n",
       "  <tbody>\n",
       "    <tr>\n",
       "      <th>0</th>\n",
       "      <td>Neutral</td>\n",
       "      <td>Negative</td>\n",
       "    </tr>\n",
       "    <tr>\n",
       "      <th>1</th>\n",
       "      <td>Negative</td>\n",
       "      <td>Negative</td>\n",
       "    </tr>\n",
       "    <tr>\n",
       "      <th>2</th>\n",
       "      <td>Positive</td>\n",
       "      <td>Neutral</td>\n",
       "    </tr>\n",
       "    <tr>\n",
       "      <th>3</th>\n",
       "      <td>Positive</td>\n",
       "      <td>Positive</td>\n",
       "    </tr>\n",
       "    <tr>\n",
       "      <th>4</th>\n",
       "      <td>Negative</td>\n",
       "      <td>Positive</td>\n",
       "    </tr>\n",
       "    <tr>\n",
       "      <th>...</th>\n",
       "      <td>...</td>\n",
       "      <td>...</td>\n",
       "    </tr>\n",
       "    <tr>\n",
       "      <th>8227</th>\n",
       "      <td>Positive</td>\n",
       "      <td>Positive</td>\n",
       "    </tr>\n",
       "    <tr>\n",
       "      <th>8228</th>\n",
       "      <td>Positive</td>\n",
       "      <td>Positive</td>\n",
       "    </tr>\n",
       "    <tr>\n",
       "      <th>8229</th>\n",
       "      <td>Negative</td>\n",
       "      <td>Positive</td>\n",
       "    </tr>\n",
       "    <tr>\n",
       "      <th>8230</th>\n",
       "      <td>Neutral</td>\n",
       "      <td>Neutral</td>\n",
       "    </tr>\n",
       "    <tr>\n",
       "      <th>8231</th>\n",
       "      <td>Negative</td>\n",
       "      <td>Negative</td>\n",
       "    </tr>\n",
       "  </tbody>\n",
       "</table>\n",
       "<p>8232 rows × 2 columns</p>\n",
       "</div>"
      ],
      "text/plain": [
       "        actual predicted\n",
       "0      Neutral  Negative\n",
       "1     Negative  Negative\n",
       "2     Positive   Neutral\n",
       "3     Positive  Positive\n",
       "4     Negative  Positive\n",
       "...        ...       ...\n",
       "8227  Positive  Positive\n",
       "8228  Positive  Positive\n",
       "8229  Negative  Positive\n",
       "8230   Neutral   Neutral\n",
       "8231  Negative  Negative\n",
       "\n",
       "[8232 rows x 2 columns]"
      ]
     },
     "execution_count": 32,
     "metadata": {},
     "output_type": "execute_result"
    }
   ],
   "source": [
    "res = pd.concat((y_test.reset_index(drop=True),pd.Series(y_pred)), axis=1, keys=['actual','predicted'])\n",
    "res"
   ]
  },
  {
   "cell_type": "code",
   "execution_count": 33,
   "id": "2b9f6c3a",
   "metadata": {
    "execution": {
     "iopub.execute_input": "2023-06-10T14:08:42.060053Z",
     "iopub.status.busy": "2023-06-10T14:08:42.059709Z",
     "iopub.status.idle": "2023-06-10T14:08:42.069740Z",
     "shell.execute_reply": "2023-06-10T14:08:42.068758Z"
    },
    "id": "_BJ8SAwbGXNn",
    "outputId": "8d954b87-0257-4d61-92da-5e1e28e81f0e",
    "papermill": {
     "duration": 0.157436,
     "end_time": "2023-06-10T14:08:42.071759",
     "exception": false,
     "start_time": "2023-06-10T14:08:41.914323",
     "status": "completed"
    },
    "tags": []
   },
   "outputs": [
    {
     "name": "stdout",
     "output_type": "stream",
     "text": [
      "Correct Predictions: 6254 out of 8232 instances\n"
     ]
    }
   ],
   "source": [
    "# instances of correct predictions:\n",
    "x = len(res.loc[res['actual']==res['predicted']])\n",
    "print(f\"Correct Predictions: {x} out of {len(res)} instances\")"
   ]
  },
  {
   "cell_type": "code",
   "execution_count": 34,
   "id": "04125a2d",
   "metadata": {
    "execution": {
     "iopub.execute_input": "2023-06-10T14:08:42.364355Z",
     "iopub.status.busy": "2023-06-10T14:08:42.363312Z",
     "iopub.status.idle": "2023-06-10T14:08:42.368881Z",
     "shell.execute_reply": "2023-06-10T14:08:42.367971Z"
    },
    "id": "RNUFOt57HFX9",
    "outputId": "b0ff1a36-021a-4b25-ac1c-604be556ee49",
    "papermill": {
     "duration": 0.154646,
     "end_time": "2023-06-10T14:08:42.371056",
     "exception": false,
     "start_time": "2023-06-10T14:08:42.216410",
     "status": "completed"
    },
    "tags": []
   },
   "outputs": [
    {
     "name": "stdout",
     "output_type": "stream",
     "text": [
      "Final Validation accuracy: 75.97181729834791\n"
     ]
    }
   ],
   "source": [
    "print(f\"Final Validation accuracy: {x/len(res)*100}\")"
   ]
  },
  {
   "cell_type": "markdown",
   "id": "c2113318",
   "metadata": {
    "id": "eE4X8EPtHUyD",
    "papermill": {
     "duration": 0.162137,
     "end_time": "2023-06-10T14:08:42.681458",
     "exception": false,
     "start_time": "2023-06-10T14:08:42.519321",
     "status": "completed"
    },
    "tags": []
   },
   "source": [
    "## Testing"
   ]
  },
  {
   "cell_type": "code",
   "execution_count": 35,
   "id": "a593b0ea",
   "metadata": {
    "execution": {
     "iopub.execute_input": "2023-06-10T14:08:43.043437Z",
     "iopub.status.busy": "2023-06-10T14:08:43.042307Z",
     "iopub.status.idle": "2023-06-10T14:08:43.090389Z",
     "shell.execute_reply": "2023-06-10T14:08:43.089494Z"
    },
    "id": "wGeVKAOUHX4h",
    "outputId": "93d8341c-f43a-4bfd-a966-b1c313ffe607",
    "papermill": {
     "duration": 0.25553,
     "end_time": "2023-06-10T14:08:43.092333",
     "exception": false,
     "start_time": "2023-06-10T14:08:42.836803",
     "status": "completed"
    },
    "tags": []
   },
   "outputs": [
    {
     "data": {
      "text/html": [
       "<div>\n",
       "<style scoped>\n",
       "    .dataframe tbody tr th:only-of-type {\n",
       "        vertical-align: middle;\n",
       "    }\n",
       "\n",
       "    .dataframe tbody tr th {\n",
       "        vertical-align: top;\n",
       "    }\n",
       "\n",
       "    .dataframe thead th {\n",
       "        text-align: right;\n",
       "    }\n",
       "</style>\n",
       "<table border=\"1\" class=\"dataframe\">\n",
       "  <thead>\n",
       "    <tr style=\"text-align: right;\">\n",
       "      <th></th>\n",
       "      <th>UserName</th>\n",
       "      <th>ScreenName</th>\n",
       "      <th>Location</th>\n",
       "      <th>TweetAt</th>\n",
       "      <th>OriginalTweet</th>\n",
       "      <th>Sentiment</th>\n",
       "    </tr>\n",
       "  </thead>\n",
       "  <tbody>\n",
       "    <tr>\n",
       "      <th>0</th>\n",
       "      <td>1</td>\n",
       "      <td>44953</td>\n",
       "      <td>NYC</td>\n",
       "      <td>02-03-2020</td>\n",
       "      <td>TRENDING: New Yorkers encounter empty supermar...</td>\n",
       "      <td>Extremely Negative</td>\n",
       "    </tr>\n",
       "    <tr>\n",
       "      <th>1</th>\n",
       "      <td>2</td>\n",
       "      <td>44954</td>\n",
       "      <td>Seattle, WA</td>\n",
       "      <td>02-03-2020</td>\n",
       "      <td>When I couldn't find hand sanitizer at Fred Me...</td>\n",
       "      <td>Positive</td>\n",
       "    </tr>\n",
       "    <tr>\n",
       "      <th>2</th>\n",
       "      <td>3</td>\n",
       "      <td>44955</td>\n",
       "      <td>NaN</td>\n",
       "      <td>02-03-2020</td>\n",
       "      <td>Find out how you can protect yourself and love...</td>\n",
       "      <td>Extremely Positive</td>\n",
       "    </tr>\n",
       "    <tr>\n",
       "      <th>3</th>\n",
       "      <td>4</td>\n",
       "      <td>44956</td>\n",
       "      <td>Chicagoland</td>\n",
       "      <td>02-03-2020</td>\n",
       "      <td>#Panic buying hits #NewYork City as anxious sh...</td>\n",
       "      <td>Negative</td>\n",
       "    </tr>\n",
       "    <tr>\n",
       "      <th>4</th>\n",
       "      <td>5</td>\n",
       "      <td>44957</td>\n",
       "      <td>Melbourne, Victoria</td>\n",
       "      <td>03-03-2020</td>\n",
       "      <td>#toiletpaper #dunnypaper #coronavirus #coronav...</td>\n",
       "      <td>Neutral</td>\n",
       "    </tr>\n",
       "    <tr>\n",
       "      <th>...</th>\n",
       "      <td>...</td>\n",
       "      <td>...</td>\n",
       "      <td>...</td>\n",
       "      <td>...</td>\n",
       "      <td>...</td>\n",
       "      <td>...</td>\n",
       "    </tr>\n",
       "    <tr>\n",
       "      <th>3793</th>\n",
       "      <td>3794</td>\n",
       "      <td>48746</td>\n",
       "      <td>Israel ??</td>\n",
       "      <td>16-03-2020</td>\n",
       "      <td>Meanwhile In A Supermarket in Israel -- People...</td>\n",
       "      <td>Positive</td>\n",
       "    </tr>\n",
       "    <tr>\n",
       "      <th>3794</th>\n",
       "      <td>3795</td>\n",
       "      <td>48747</td>\n",
       "      <td>Farmington, NM</td>\n",
       "      <td>16-03-2020</td>\n",
       "      <td>Did you panic buy a lot of non-perishable item...</td>\n",
       "      <td>Negative</td>\n",
       "    </tr>\n",
       "    <tr>\n",
       "      <th>3795</th>\n",
       "      <td>3796</td>\n",
       "      <td>48748</td>\n",
       "      <td>Haverford, PA</td>\n",
       "      <td>16-03-2020</td>\n",
       "      <td>Asst Prof of Economics @cconces was on @NBCPhi...</td>\n",
       "      <td>Neutral</td>\n",
       "    </tr>\n",
       "    <tr>\n",
       "      <th>3796</th>\n",
       "      <td>3797</td>\n",
       "      <td>48749</td>\n",
       "      <td>NaN</td>\n",
       "      <td>16-03-2020</td>\n",
       "      <td>Gov need to do somethings instead of biar je r...</td>\n",
       "      <td>Extremely Negative</td>\n",
       "    </tr>\n",
       "    <tr>\n",
       "      <th>3797</th>\n",
       "      <td>3798</td>\n",
       "      <td>48750</td>\n",
       "      <td>Arlington, Virginia</td>\n",
       "      <td>16-03-2020</td>\n",
       "      <td>I and @ForestandPaper members are committed to...</td>\n",
       "      <td>Extremely Positive</td>\n",
       "    </tr>\n",
       "  </tbody>\n",
       "</table>\n",
       "<p>3798 rows × 6 columns</p>\n",
       "</div>"
      ],
      "text/plain": [
       "      UserName  ScreenName             Location     TweetAt  \\\n",
       "0            1       44953                  NYC  02-03-2020   \n",
       "1            2       44954          Seattle, WA  02-03-2020   \n",
       "2            3       44955                  NaN  02-03-2020   \n",
       "3            4       44956          Chicagoland  02-03-2020   \n",
       "4            5       44957  Melbourne, Victoria  03-03-2020   \n",
       "...        ...         ...                  ...         ...   \n",
       "3793      3794       48746            Israel ??  16-03-2020   \n",
       "3794      3795       48747       Farmington, NM  16-03-2020   \n",
       "3795      3796       48748        Haverford, PA  16-03-2020   \n",
       "3796      3797       48749                  NaN  16-03-2020   \n",
       "3797      3798       48750  Arlington, Virginia  16-03-2020   \n",
       "\n",
       "                                          OriginalTweet           Sentiment  \n",
       "0     TRENDING: New Yorkers encounter empty supermar...  Extremely Negative  \n",
       "1     When I couldn't find hand sanitizer at Fred Me...            Positive  \n",
       "2     Find out how you can protect yourself and love...  Extremely Positive  \n",
       "3     #Panic buying hits #NewYork City as anxious sh...            Negative  \n",
       "4     #toiletpaper #dunnypaper #coronavirus #coronav...             Neutral  \n",
       "...                                                 ...                 ...  \n",
       "3793  Meanwhile In A Supermarket in Israel -- People...            Positive  \n",
       "3794  Did you panic buy a lot of non-perishable item...            Negative  \n",
       "3795  Asst Prof of Economics @cconces was on @NBCPhi...             Neutral  \n",
       "3796  Gov need to do somethings instead of biar je r...  Extremely Negative  \n",
       "3797  I and @ForestandPaper members are committed to...  Extremely Positive  \n",
       "\n",
       "[3798 rows x 6 columns]"
      ]
     },
     "execution_count": 35,
     "metadata": {},
     "output_type": "execute_result"
    }
   ],
   "source": [
    "test_data = pd.read_csv('/kaggle/input/covid-19-nlp-text-classification/Corona_NLP_test.csv', encoding='latin1')\n",
    "test_data"
   ]
  },
  {
   "cell_type": "code",
   "execution_count": 36,
   "id": "4f50dbb5",
   "metadata": {
    "execution": {
     "iopub.execute_input": "2023-06-10T14:08:43.389010Z",
     "iopub.status.busy": "2023-06-10T14:08:43.388057Z",
     "iopub.status.idle": "2023-06-10T14:08:43.400400Z",
     "shell.execute_reply": "2023-06-10T14:08:43.399324Z"
    },
    "id": "LgdWjLzkHoX-",
    "outputId": "7e000f97-c98d-40e8-fcc3-4f3b7e132eb7",
    "papermill": {
     "duration": 0.160096,
     "end_time": "2023-06-10T14:08:43.402522",
     "exception": false,
     "start_time": "2023-06-10T14:08:43.242426",
     "status": "completed"
    },
    "tags": []
   },
   "outputs": [
    {
     "data": {
      "text/html": [
       "<div>\n",
       "<style scoped>\n",
       "    .dataframe tbody tr th:only-of-type {\n",
       "        vertical-align: middle;\n",
       "    }\n",
       "\n",
       "    .dataframe tbody tr th {\n",
       "        vertical-align: top;\n",
       "    }\n",
       "\n",
       "    .dataframe thead th {\n",
       "        text-align: right;\n",
       "    }\n",
       "</style>\n",
       "<table border=\"1\" class=\"dataframe\">\n",
       "  <thead>\n",
       "    <tr style=\"text-align: right;\">\n",
       "      <th></th>\n",
       "      <th>texts</th>\n",
       "      <th>labels</th>\n",
       "    </tr>\n",
       "  </thead>\n",
       "  <tbody>\n",
       "    <tr>\n",
       "      <th>0</th>\n",
       "      <td>TRENDING: New Yorkers encounter empty supermar...</td>\n",
       "      <td>Extremely Negative</td>\n",
       "    </tr>\n",
       "    <tr>\n",
       "      <th>1</th>\n",
       "      <td>When I couldn't find hand sanitizer at Fred Me...</td>\n",
       "      <td>Positive</td>\n",
       "    </tr>\n",
       "    <tr>\n",
       "      <th>2</th>\n",
       "      <td>Find out how you can protect yourself and love...</td>\n",
       "      <td>Extremely Positive</td>\n",
       "    </tr>\n",
       "    <tr>\n",
       "      <th>3</th>\n",
       "      <td>#Panic buying hits #NewYork City as anxious sh...</td>\n",
       "      <td>Negative</td>\n",
       "    </tr>\n",
       "    <tr>\n",
       "      <th>4</th>\n",
       "      <td>#toiletpaper #dunnypaper #coronavirus #coronav...</td>\n",
       "      <td>Neutral</td>\n",
       "    </tr>\n",
       "    <tr>\n",
       "      <th>...</th>\n",
       "      <td>...</td>\n",
       "      <td>...</td>\n",
       "    </tr>\n",
       "    <tr>\n",
       "      <th>3793</th>\n",
       "      <td>Meanwhile In A Supermarket in Israel -- People...</td>\n",
       "      <td>Positive</td>\n",
       "    </tr>\n",
       "    <tr>\n",
       "      <th>3794</th>\n",
       "      <td>Did you panic buy a lot of non-perishable item...</td>\n",
       "      <td>Negative</td>\n",
       "    </tr>\n",
       "    <tr>\n",
       "      <th>3795</th>\n",
       "      <td>Asst Prof of Economics @cconces was on @NBCPhi...</td>\n",
       "      <td>Neutral</td>\n",
       "    </tr>\n",
       "    <tr>\n",
       "      <th>3796</th>\n",
       "      <td>Gov need to do somethings instead of biar je r...</td>\n",
       "      <td>Extremely Negative</td>\n",
       "    </tr>\n",
       "    <tr>\n",
       "      <th>3797</th>\n",
       "      <td>I and @ForestandPaper members are committed to...</td>\n",
       "      <td>Extremely Positive</td>\n",
       "    </tr>\n",
       "  </tbody>\n",
       "</table>\n",
       "<p>3798 rows × 2 columns</p>\n",
       "</div>"
      ],
      "text/plain": [
       "                                                  texts              labels\n",
       "0     TRENDING: New Yorkers encounter empty supermar...  Extremely Negative\n",
       "1     When I couldn't find hand sanitizer at Fred Me...            Positive\n",
       "2     Find out how you can protect yourself and love...  Extremely Positive\n",
       "3     #Panic buying hits #NewYork City as anxious sh...            Negative\n",
       "4     #toiletpaper #dunnypaper #coronavirus #coronav...             Neutral\n",
       "...                                                 ...                 ...\n",
       "3793  Meanwhile In A Supermarket in Israel -- People...            Positive\n",
       "3794  Did you panic buy a lot of non-perishable item...            Negative\n",
       "3795  Asst Prof of Economics @cconces was on @NBCPhi...             Neutral\n",
       "3796  Gov need to do somethings instead of biar je r...  Extremely Negative\n",
       "3797  I and @ForestandPaper members are committed to...  Extremely Positive\n",
       "\n",
       "[3798 rows x 2 columns]"
      ]
     },
     "execution_count": 36,
     "metadata": {},
     "output_type": "execute_result"
    }
   ],
   "source": [
    "test_data = create_data(test_data)\n",
    "test_data"
   ]
  },
  {
   "cell_type": "code",
   "execution_count": 37,
   "id": "ab76c064",
   "metadata": {
    "execution": {
     "iopub.execute_input": "2023-06-10T14:08:43.698112Z",
     "iopub.status.busy": "2023-06-10T14:08:43.697078Z",
     "iopub.status.idle": "2023-06-10T14:08:43.714499Z",
     "shell.execute_reply": "2023-06-10T14:08:43.713427Z"
    },
    "id": "ZSxwndvCHzdV",
    "outputId": "cd871552-8b55-4bc3-e162-91823f23b50d",
    "papermill": {
     "duration": 0.167075,
     "end_time": "2023-06-10T14:08:43.716492",
     "exception": false,
     "start_time": "2023-06-10T14:08:43.549417",
     "status": "completed"
    },
    "tags": []
   },
   "outputs": [
    {
     "data": {
      "text/html": [
       "<div>\n",
       "<style scoped>\n",
       "    .dataframe tbody tr th:only-of-type {\n",
       "        vertical-align: middle;\n",
       "    }\n",
       "\n",
       "    .dataframe tbody tr th {\n",
       "        vertical-align: top;\n",
       "    }\n",
       "\n",
       "    .dataframe thead th {\n",
       "        text-align: right;\n",
       "    }\n",
       "</style>\n",
       "<table border=\"1\" class=\"dataframe\">\n",
       "  <thead>\n",
       "    <tr style=\"text-align: right;\">\n",
       "      <th></th>\n",
       "      <th>Null Counts</th>\n",
       "      <th>Cardinality</th>\n",
       "    </tr>\n",
       "  </thead>\n",
       "  <tbody>\n",
       "    <tr>\n",
       "      <th>texts</th>\n",
       "      <td>0</td>\n",
       "      <td>3798</td>\n",
       "    </tr>\n",
       "    <tr>\n",
       "      <th>labels</th>\n",
       "      <td>0</td>\n",
       "      <td>5</td>\n",
       "    </tr>\n",
       "  </tbody>\n",
       "</table>\n",
       "</div>"
      ],
      "text/plain": [
       "        Null Counts  Cardinality\n",
       "texts             0         3798\n",
       "labels            0            5"
      ]
     },
     "execution_count": 37,
     "metadata": {},
     "output_type": "execute_result"
    }
   ],
   "source": [
    "test_overview=pd.concat([test_data.isnull().sum(),test_data.nunique()],axis=1,keys=['Null Counts','Cardinality'])\n",
    "test_overview"
   ]
  },
  {
   "cell_type": "code",
   "execution_count": 38,
   "id": "60176d98",
   "metadata": {
    "execution": {
     "iopub.execute_input": "2023-06-10T14:08:44.012007Z",
     "iopub.status.busy": "2023-06-10T14:08:44.010974Z",
     "iopub.status.idle": "2023-06-10T14:09:01.255294Z",
     "shell.execute_reply": "2023-06-10T14:09:01.254351Z"
    },
    "id": "GS95ZQkbIBZ-",
    "outputId": "f9cbdeef-1699-4646-fcc0-49263ca9849d",
    "papermill": {
     "duration": 17.394617,
     "end_time": "2023-06-10T14:09:01.257382",
     "exception": false,
     "start_time": "2023-06-10T14:08:43.862765",
     "status": "completed"
    },
    "tags": []
   },
   "outputs": [
    {
     "data": {
      "application/vnd.jupyter.widget-view+json": {
       "model_id": "581cbfb2bcf2413596fa62c4f43b7ef5",
       "version_major": 2,
       "version_minor": 0
      },
      "text/plain": [
       "Progress:   0%|          | 0/3798 [00:00<?, ?it/s]"
      ]
     },
     "metadata": {},
     "output_type": "display_data"
    }
   ],
   "source": [
    "import tqdm.notebook as tq\n",
    "test_data_clean = np.array([nlp(text) for text in tq.tqdm(test_data['texts'].values, desc='Progress')], dtype='O')"
   ]
  },
  {
   "cell_type": "code",
   "execution_count": 39,
   "id": "9c8fc25d",
   "metadata": {
    "execution": {
     "iopub.execute_input": "2023-06-10T14:09:01.638887Z",
     "iopub.status.busy": "2023-06-10T14:09:01.638522Z",
     "iopub.status.idle": "2023-06-10T14:09:01.645125Z",
     "shell.execute_reply": "2023-06-10T14:09:01.644241Z"
    },
    "id": "2sKJM4gyIlpe",
    "outputId": "d4948f46-38fa-418e-a2ff-734d60b1d308",
    "papermill": {
     "duration": 0.179394,
     "end_time": "2023-06-10T14:09:01.647488",
     "exception": false,
     "start_time": "2023-06-10T14:09:01.468094",
     "status": "completed"
    },
    "tags": []
   },
   "outputs": [
    {
     "data": {
      "text/plain": [
       "array([list(['trending', 'new', 'yorkers', 'encounter', 'empty', 'supermarket', 'shelf', 'pictured', 'wegmans', 'brooklyn', 'soldout', 'online', 'grocer', 'foodkick', 'maxdelivery', 'coronavirus', 'shopper', 'stock']),\n",
       "       list(['could', 'find', 'hand', 'sanitizer', 'fred', 'meyer', 'turned', 'amazon', 'pack', 'purell', '?', '?', '!', '!', 'check', 'coronavirus', 'concern', 'driving', 'price']),\n",
       "       list(['find', 'protect', 'loved', 'one', 'coronavirus', '?']), ...,\n",
       "       list(['asst', 'prof', 'economics', 'talking', 'recent', 'research', 'coronavirus', 'impact', 'economy', 'watch', 'starting']),\n",
       "       list(['gov', 'need', 'somethings', 'instead', 'biar', 'je', 'rakyat', 'assume', 'lockdown', 'ke', 'even', 'worst', 'harini', 'semua', 'supermarket', 'crowded', 'like', 'hell', 'lagi', 'mudah', 'virus', 'tu', 'tersebar', '?', '?', 'coronavirus']),\n",
       "       list(['member', 'committed', 'safety', 'employee', 'endusers', 'monitoring', 'coronavirus', 'rest', 'assured', 'tissue', 'manufacturer', 'continuing', 'produce', 'ship', 'product'])],\n",
       "      dtype=object)"
      ]
     },
     "execution_count": 39,
     "metadata": {},
     "output_type": "execute_result"
    }
   ],
   "source": [
    "test_data_clean"
   ]
  },
  {
   "cell_type": "code",
   "execution_count": 40,
   "id": "04a578a4",
   "metadata": {
    "execution": {
     "iopub.execute_input": "2023-06-10T14:09:01.945509Z",
     "iopub.status.busy": "2023-06-10T14:09:01.944499Z",
     "iopub.status.idle": "2023-06-10T14:09:01.952378Z",
     "shell.execute_reply": "2023-06-10T14:09:01.951430Z"
    },
    "id": "nvE0QzG5KAhK",
    "outputId": "e7bbe208-0639-48e9-ade0-dfa2a04f0f9a",
    "papermill": {
     "duration": 0.159242,
     "end_time": "2023-06-10T14:09:01.954285",
     "exception": false,
     "start_time": "2023-06-10T14:09:01.795043",
     "status": "completed"
    },
    "tags": []
   },
   "outputs": [
    {
     "data": {
      "text/plain": [
       "40"
      ]
     },
     "execution_count": 40,
     "metadata": {},
     "output_type": "execute_result"
    }
   ],
   "source": [
    "l = max([len(sent) for sent in test_data_clean])\n",
    "l"
   ]
  },
  {
   "cell_type": "code",
   "execution_count": 41,
   "id": "cebad20e",
   "metadata": {
    "execution": {
     "iopub.execute_input": "2023-06-10T14:09:02.254704Z",
     "iopub.status.busy": "2023-06-10T14:09:02.253685Z",
     "iopub.status.idle": "2023-06-10T14:09:02.691127Z",
     "shell.execute_reply": "2023-06-10T14:09:02.690111Z"
    },
    "id": "93BvNALgIoIx",
    "papermill": {
     "duration": 0.590304,
     "end_time": "2023-06-10T14:09:02.693608",
     "exception": false,
     "start_time": "2023-06-10T14:09:02.103304",
     "status": "completed"
    },
    "tags": []
   },
   "outputs": [],
   "source": [
    "test_data_seq = tok.texts_to_sequences(test_data_clean)"
   ]
  },
  {
   "cell_type": "code",
   "execution_count": 42,
   "id": "1a662360",
   "metadata": {
    "execution": {
     "iopub.execute_input": "2023-06-10T14:09:02.995146Z",
     "iopub.status.busy": "2023-06-10T14:09:02.994649Z",
     "iopub.status.idle": "2023-06-10T14:09:03.000412Z",
     "shell.execute_reply": "2023-06-10T14:09:02.999446Z"
    },
    "id": "XYkXrUc3JPDK",
    "outputId": "bf8a7a54-a32a-45aa-eed6-2f380df86d2a",
    "papermill": {
     "duration": 0.159976,
     "end_time": "2023-06-10T14:09:03.003198",
     "exception": false,
     "start_time": "2023-06-10T14:09:02.843222",
     "status": "completed"
    },
    "tags": []
   },
   "outputs": [
    {
     "name": "stdout",
     "output_type": "stream",
     "text": [
      "[1910, 37, 4786, 5719, 144, 6, 51, 7143, 4495, 3107, 7016, 13, 1405, 1, 1, 2, 203, 28]\n",
      "['trending', 'new', 'yorkers', 'encounter', 'empty', 'supermarket', 'shelf', 'pictured', 'wegmans', 'brooklyn', 'soldout', 'online', 'grocer', 'foodkick', 'maxdelivery', 'coronavirus', 'shopper', 'stock']\n"
     ]
    }
   ],
   "source": [
    "print(test_data_seq[0])\n",
    "print(test_data_clean[0])"
   ]
  },
  {
   "cell_type": "code",
   "execution_count": 43,
   "id": "584e5ad7",
   "metadata": {
    "execution": {
     "iopub.execute_input": "2023-06-10T14:09:03.303373Z",
     "iopub.status.busy": "2023-06-10T14:09:03.302652Z",
     "iopub.status.idle": "2023-06-10T14:09:03.331352Z",
     "shell.execute_reply": "2023-06-10T14:09:03.330450Z"
    },
    "id": "PH2yABA-JlrJ",
    "papermill": {
     "duration": 0.180957,
     "end_time": "2023-06-10T14:09:03.333249",
     "exception": false,
     "start_time": "2023-06-10T14:09:03.152292",
     "status": "completed"
    },
    "tags": []
   },
   "outputs": [],
   "source": [
    "test_data_pad = pad_sequences(test_data_seq, maxlen=l, padding='post')"
   ]
  },
  {
   "cell_type": "code",
   "execution_count": 44,
   "id": "8a2d02e3",
   "metadata": {
    "execution": {
     "iopub.execute_input": "2023-06-10T14:09:03.635204Z",
     "iopub.status.busy": "2023-06-10T14:09:03.634198Z",
     "iopub.status.idle": "2023-06-10T14:09:03.648050Z",
     "shell.execute_reply": "2023-06-10T14:09:03.646967Z"
    },
    "id": "UY-yskmhJi8q",
    "outputId": "d4f83fb0-0c6f-4d3f-fa7c-1835dd64f112",
    "papermill": {
     "duration": 0.167253,
     "end_time": "2023-06-10T14:09:03.650150",
     "exception": false,
     "start_time": "2023-06-10T14:09:03.482897",
     "status": "completed"
    },
    "tags": []
   },
   "outputs": [
    {
     "data": {
      "text/plain": [
       "array([[1., 0., 0.],\n",
       "       [0., 0., 1.],\n",
       "       [0., 0., 1.],\n",
       "       ...,\n",
       "       [0., 1., 0.],\n",
       "       [1., 0., 0.],\n",
       "       [0., 0., 1.]])"
      ]
     },
     "execution_count": 44,
     "metadata": {},
     "output_type": "execute_result"
    }
   ],
   "source": [
    "test_label_enc = encoder(test_data['labels'],enc)\n",
    "test_label_enc"
   ]
  },
  {
   "cell_type": "code",
   "execution_count": 45,
   "id": "7a3d9309",
   "metadata": {
    "execution": {
     "iopub.execute_input": "2023-06-10T14:09:03.951086Z",
     "iopub.status.busy": "2023-06-10T14:09:03.950089Z",
     "iopub.status.idle": "2023-06-10T14:09:07.132582Z",
     "shell.execute_reply": "2023-06-10T14:09:07.131419Z"
    },
    "id": "Q7VYuTgFLI1j",
    "outputId": "713e9165-7850-4e75-f7bc-eebaed83cc47",
    "papermill": {
     "duration": 3.335699,
     "end_time": "2023-06-10T14:09:07.134593",
     "exception": false,
     "start_time": "2023-06-10T14:09:03.798894",
     "status": "completed"
    },
    "tags": []
   },
   "outputs": [
    {
     "name": "stdout",
     "output_type": "stream",
     "text": [
      "119/119 [==============================] - 3s 22ms/step - loss: 0.6374 - accuracy: 0.7478\n"
     ]
    },
    {
     "data": {
      "text/plain": [
       "[0.6374061107635498, 0.7477619647979736]"
      ]
     },
     "execution_count": 45,
     "metadata": {},
     "output_type": "execute_result"
    }
   ],
   "source": [
    "model.evaluate(test_data_pad,test_label_enc)"
   ]
  },
  {
   "cell_type": "markdown",
   "id": "eff494a3",
   "metadata": {
    "id": "Kd0Lxl9jMcvt",
    "papermill": {
     "duration": 0.165352,
     "end_time": "2023-06-10T14:09:07.450842",
     "exception": false,
     "start_time": "2023-06-10T14:09:07.285490",
     "status": "completed"
    },
    "tags": []
   },
   "source": [
    "## Testing on Randomly Generated Data"
   ]
  },
  {
   "cell_type": "code",
   "execution_count": 46,
   "id": "fd4de808",
   "metadata": {
    "execution": {
     "iopub.execute_input": "2023-06-10T14:09:07.755421Z",
     "iopub.status.busy": "2023-06-10T14:09:07.754385Z",
     "iopub.status.idle": "2023-06-10T14:09:07.764251Z",
     "shell.execute_reply": "2023-06-10T14:09:07.763263Z"
    },
    "id": "bK4hx5rGMhWX",
    "outputId": "fa290752-48c9-4d7e-f028-2f21cfdc440b",
    "papermill": {
     "duration": 0.16283,
     "end_time": "2023-06-10T14:09:07.766298",
     "exception": false,
     "start_time": "2023-06-10T14:09:07.603468",
     "status": "completed"
    },
    "tags": []
   },
   "outputs": [
    {
     "data": {
      "text/plain": [
       "0                  I am going to die in this pandemic.\n",
       "1    I am glad that we are still safe. #survived #g...\n",
       "2                                     Pass me a pizza.\n",
       "3                                 @sakshi, I hate you.\n",
       "4    I will submit my assignment tomorrow. @prof_NS...\n",
       "dtype: object"
      ]
     },
     "execution_count": 46,
     "metadata": {},
     "output_type": "execute_result"
    }
   ],
   "source": [
    "str1 = \"I am going to die in this pandemic.\"\n",
    "str2 = \"I am glad that we are still safe. #survived #grateful\"\n",
    "str3 = \"Pass me a pizza.\"\n",
    "str4 = \"@sakshi, I hate you.\"\n",
    "str5 = \"I will submit my assignment tomorrow. @prof_NSUT @dean_ACAD\"\n",
    "data=[]\n",
    "data.append(str1)\n",
    "data.append(str2)\n",
    "data.append(str3)\n",
    "data.append(str4)\n",
    "data.append(str5)\n",
    "\n",
    "data=pd.Series(data)\n",
    "data"
   ]
  },
  {
   "cell_type": "code",
   "execution_count": 47,
   "id": "1a2a0209",
   "metadata": {
    "execution": {
     "iopub.execute_input": "2023-06-10T14:09:08.116550Z",
     "iopub.status.busy": "2023-06-10T14:09:08.116177Z",
     "iopub.status.idle": "2023-06-10T14:09:08.129114Z",
     "shell.execute_reply": "2023-06-10T14:09:08.127736Z"
    },
    "id": "NcxRp7iTPqkT",
    "outputId": "2e431fff-d206-4e48-b9d8-1ad1c38295d2",
    "papermill": {
     "duration": 0.166568,
     "end_time": "2023-06-10T14:09:08.131089",
     "exception": false,
     "start_time": "2023-06-10T14:09:07.964521",
     "status": "completed"
    },
    "tags": []
   },
   "outputs": [
    {
     "data": {
      "text/plain": [
       "array([list(['going', 'die', 'pandemic']),\n",
       "       list(['glad', 'still', 'safe', 'survived', 'grateful']),\n",
       "       list(['pas', 'pizza']), list(['hate']),\n",
       "       list(['submit', 'assignment', 'tomorrow'])], dtype=object)"
      ]
     },
     "execution_count": 47,
     "metadata": {},
     "output_type": "execute_result"
    }
   ],
   "source": [
    "data_clean = np.array([nlp(text) for text in data.values], dtype='O')\n",
    "data_clean"
   ]
  },
  {
   "cell_type": "code",
   "execution_count": 48,
   "id": "08be87ef",
   "metadata": {
    "execution": {
     "iopub.execute_input": "2023-06-10T14:09:08.432806Z",
     "iopub.status.busy": "2023-06-10T14:09:08.432436Z",
     "iopub.status.idle": "2023-06-10T14:09:08.437803Z",
     "shell.execute_reply": "2023-06-10T14:09:08.436842Z"
    },
    "id": "sd8kv0_zQNqp",
    "papermill": {
     "duration": 0.158746,
     "end_time": "2023-06-10T14:09:08.439875",
     "exception": false,
     "start_time": "2023-06-10T14:09:08.281129",
     "status": "completed"
    },
    "tags": []
   },
   "outputs": [],
   "source": [
    "mx_len = max([len(sent) for sent in data_clean])\n",
    "data_seq = tok.texts_to_sequences(data_clean)\n",
    "data_pad = pad_sequences(data_seq, maxlen=mx_len, padding='post')"
   ]
  },
  {
   "cell_type": "code",
   "execution_count": 49,
   "id": "166f2d7c",
   "metadata": {
    "execution": {
     "iopub.execute_input": "2023-06-10T14:09:08.743127Z",
     "iopub.status.busy": "2023-06-10T14:09:08.742760Z",
     "iopub.status.idle": "2023-06-10T14:09:09.226659Z",
     "shell.execute_reply": "2023-06-10T14:09:09.225855Z"
    },
    "id": "4PQEgOlFQn8V",
    "outputId": "076025de-5141-47b9-ecaa-44ac484785e5",
    "papermill": {
     "duration": 0.637722,
     "end_time": "2023-06-10T14:09:09.228697",
     "exception": false,
     "start_time": "2023-06-10T14:09:08.590975",
     "status": "completed"
    },
    "tags": []
   },
   "outputs": [
    {
     "name": "stdout",
     "output_type": "stream",
     "text": [
      "1/1 [==============================] - 0s 431ms/step\n"
     ]
    }
   ],
   "source": [
    "pred = model.predict(data_pad)\n",
    "pred = enc.inverse_transform(pred)"
   ]
  },
  {
   "cell_type": "code",
   "execution_count": 50,
   "id": "7df60e47",
   "metadata": {
    "execution": {
     "iopub.execute_input": "2023-06-10T14:09:09.533299Z",
     "iopub.status.busy": "2023-06-10T14:09:09.532934Z",
     "iopub.status.idle": "2023-06-10T14:09:09.544619Z",
     "shell.execute_reply": "2023-06-10T14:09:09.543550Z"
    },
    "id": "P9V2cCfzReO-",
    "outputId": "557b7465-2c1e-4aac-fbb0-5ef9e2b8a2c8",
    "papermill": {
     "duration": 0.166402,
     "end_time": "2023-06-10T14:09:09.546910",
     "exception": false,
     "start_time": "2023-06-10T14:09:09.380508",
     "status": "completed"
    },
    "tags": []
   },
   "outputs": [
    {
     "data": {
      "text/html": [
       "<div>\n",
       "<style scoped>\n",
       "    .dataframe tbody tr th:only-of-type {\n",
       "        vertical-align: middle;\n",
       "    }\n",
       "\n",
       "    .dataframe tbody tr th {\n",
       "        vertical-align: top;\n",
       "    }\n",
       "\n",
       "    .dataframe thead th {\n",
       "        text-align: right;\n",
       "    }\n",
       "</style>\n",
       "<table border=\"1\" class=\"dataframe\">\n",
       "  <thead>\n",
       "    <tr style=\"text-align: right;\">\n",
       "      <th></th>\n",
       "      <th>texts</th>\n",
       "      <th>sentiments</th>\n",
       "    </tr>\n",
       "  </thead>\n",
       "  <tbody>\n",
       "    <tr>\n",
       "      <th>0</th>\n",
       "      <td>I am going to die in this pandemic.</td>\n",
       "      <td>Negative</td>\n",
       "    </tr>\n",
       "    <tr>\n",
       "      <th>1</th>\n",
       "      <td>I am glad that we are still safe. #survived #g...</td>\n",
       "      <td>Positive</td>\n",
       "    </tr>\n",
       "    <tr>\n",
       "      <th>2</th>\n",
       "      <td>Pass me a pizza.</td>\n",
       "      <td>Positive</td>\n",
       "    </tr>\n",
       "    <tr>\n",
       "      <th>3</th>\n",
       "      <td>@sakshi, I hate you.</td>\n",
       "      <td>Negative</td>\n",
       "    </tr>\n",
       "    <tr>\n",
       "      <th>4</th>\n",
       "      <td>I will submit my assignment tomorrow. @prof_NS...</td>\n",
       "      <td>Neutral</td>\n",
       "    </tr>\n",
       "  </tbody>\n",
       "</table>\n",
       "</div>"
      ],
      "text/plain": [
       "                                               texts sentiments\n",
       "0                I am going to die in this pandemic.   Negative\n",
       "1  I am glad that we are still safe. #survived #g...   Positive\n",
       "2                                   Pass me a pizza.   Positive\n",
       "3                               @sakshi, I hate you.   Negative\n",
       "4  I will submit my assignment tomorrow. @prof_NS...    Neutral"
      ]
     },
     "execution_count": 50,
     "metadata": {},
     "output_type": "execute_result"
    }
   ],
   "source": [
    "res = pd.concat((data,pd.Series(pred.ravel())), axis=1, keys=['texts', 'sentiments'])\n",
    "res"
   ]
  },
  {
   "cell_type": "markdown",
   "id": "631ddce0",
   "metadata": {
    "id": "RIZg5gQYR9eV",
    "papermill": {
     "duration": 0.153199,
     "end_time": "2023-06-10T14:09:09.862068",
     "exception": false,
     "start_time": "2023-06-10T14:09:09.708869",
     "status": "completed"
    },
    "tags": []
   },
   "source": [
    "satisfactory results (^.^)"
   ]
  },
  {
   "cell_type": "markdown",
   "id": "4412c379",
   "metadata": {
    "id": "y0foDnXcTgaz",
    "papermill": {
     "duration": 0.152355,
     "end_time": "2023-06-10T14:09:10.166594",
     "exception": false,
     "start_time": "2023-06-10T14:09:10.014239",
     "status": "completed"
    },
    "tags": []
   },
   "source": [
    "## Model Description and Summary\n",
    "\n",
    "* Model description:\n",
    "  * Model Structure:\n",
    "    * An **Embedding Layer**: Converts each word into a fixed-length vector of defined size.\n",
    "    * A **bidirectional LSTM layer** of 100 units.\n",
    "    * A **Dense layer** of 1024 units, with **ReLu Activation**.\n",
    "    * **Dense Output Layer** of 3 units with **Softmax Activation**. (Suitable multiclass classification)\n",
    "    \n",
    "  * Loss metric used : **Categorical Crossentropy** (Suitable for multiclass classification)\n",
    "  * Optimizer used : **Adam**\n",
    "  * Initial Leraning Rate : **0.001**\n",
    "  * Callbacks used:\n",
    "    * **Early Stopping** : Stops the training process when loss becomes constant.\n",
    "    * **ReduceLRonPlateau** : Gradually decreases learning rate when training process reach plateau.\n",
    "\n",
    "* Summary\n",
    "  * Training Data Score :  0.97\n",
    "  * Validation Data Score :  0.78\n",
    "  * Test Data Score :  0.77\n",
    "\n",
    "**Conclusion:** Our model has performed really well while training, it hasn't performed very well on validation and test data.\n",
    "\n",
    "This is because our model overfitted on the training data."
   ]
  }
 ],
 "metadata": {
  "kernelspec": {
   "display_name": "Python 3",
   "language": "python",
   "name": "python3"
  },
  "language_info": {
   "codemirror_mode": {
    "name": "ipython",
    "version": 3
   },
   "file_extension": ".py",
   "mimetype": "text/x-python",
   "name": "python",
   "nbconvert_exporter": "python",
   "pygments_lexer": "ipython3",
   "version": "3.10.10"
  },
  "papermill": {
   "default_parameters": {},
   "duration": 1618.561248,
   "end_time": "2023-06-10T14:09:13.531786",
   "environment_variables": {},
   "exception": null,
   "input_path": "__notebook__.ipynb",
   "output_path": "__notebook__.ipynb",
   "parameters": {},
   "start_time": "2023-06-10T13:42:14.970538",
   "version": "2.4.0"
  },
  "widgets": {
   "application/vnd.jupyter.widget-state+json": {
    "state": {
     "1a054ff5f61e44d8ab92ed89c922076c": {
      "model_module": "@jupyter-widgets/base",
      "model_module_version": "1.2.0",
      "model_name": "LayoutModel",
      "state": {
       "_model_module": "@jupyter-widgets/base",
       "_model_module_version": "1.2.0",
       "_model_name": "LayoutModel",
       "_view_count": null,
       "_view_module": "@jupyter-widgets/base",
       "_view_module_version": "1.2.0",
       "_view_name": "LayoutView",
       "align_content": null,
       "align_items": null,
       "align_self": null,
       "border": null,
       "bottom": null,
       "display": null,
       "flex": null,
       "flex_flow": null,
       "grid_area": null,
       "grid_auto_columns": null,
       "grid_auto_flow": null,
       "grid_auto_rows": null,
       "grid_column": null,
       "grid_gap": null,
       "grid_row": null,
       "grid_template_areas": null,
       "grid_template_columns": null,
       "grid_template_rows": null,
       "height": null,
       "justify_content": null,
       "justify_items": null,
       "left": null,
       "margin": null,
       "max_height": null,
       "max_width": null,
       "min_height": null,
       "min_width": null,
       "object_fit": null,
       "object_position": null,
       "order": null,
       "overflow": null,
       "overflow_x": null,
       "overflow_y": null,
       "padding": null,
       "right": null,
       "top": null,
       "visibility": null,
       "width": null
      }
     },
     "1dbf7c911b0a4f10a613fc24c59671cb": {
      "model_module": "@jupyter-widgets/base",
      "model_module_version": "1.2.0",
      "model_name": "LayoutModel",
      "state": {
       "_model_module": "@jupyter-widgets/base",
       "_model_module_version": "1.2.0",
       "_model_name": "LayoutModel",
       "_view_count": null,
       "_view_module": "@jupyter-widgets/base",
       "_view_module_version": "1.2.0",
       "_view_name": "LayoutView",
       "align_content": null,
       "align_items": null,
       "align_self": null,
       "border": null,
       "bottom": null,
       "display": null,
       "flex": null,
       "flex_flow": null,
       "grid_area": null,
       "grid_auto_columns": null,
       "grid_auto_flow": null,
       "grid_auto_rows": null,
       "grid_column": null,
       "grid_gap": null,
       "grid_row": null,
       "grid_template_areas": null,
       "grid_template_columns": null,
       "grid_template_rows": null,
       "height": null,
       "justify_content": null,
       "justify_items": null,
       "left": null,
       "margin": null,
       "max_height": null,
       "max_width": null,
       "min_height": null,
       "min_width": null,
       "object_fit": null,
       "object_position": null,
       "order": null,
       "overflow": null,
       "overflow_x": null,
       "overflow_y": null,
       "padding": null,
       "right": null,
       "top": null,
       "visibility": null,
       "width": null
      }
     },
     "25cad6e2334a41f7af1e7d7d82b9ad7f": {
      "model_module": "@jupyter-widgets/controls",
      "model_module_version": "1.5.0",
      "model_name": "ProgressStyleModel",
      "state": {
       "_model_module": "@jupyter-widgets/controls",
       "_model_module_version": "1.5.0",
       "_model_name": "ProgressStyleModel",
       "_view_count": null,
       "_view_module": "@jupyter-widgets/base",
       "_view_module_version": "1.2.0",
       "_view_name": "StyleView",
       "bar_color": null,
       "description_width": ""
      }
     },
     "30553378846e44d9ad7d24ce8918241d": {
      "model_module": "@jupyter-widgets/controls",
      "model_module_version": "1.5.0",
      "model_name": "HBoxModel",
      "state": {
       "_dom_classes": [],
       "_model_module": "@jupyter-widgets/controls",
       "_model_module_version": "1.5.0",
       "_model_name": "HBoxModel",
       "_view_count": null,
       "_view_module": "@jupyter-widgets/controls",
       "_view_module_version": "1.5.0",
       "_view_name": "HBoxView",
       "box_style": "",
       "children": [
        "IPY_MODEL_8a6a184aa2fe4ac3beb2457a4b53ded8",
        "IPY_MODEL_718a81f0a11643fc8c31860de6228fcf",
        "IPY_MODEL_e9de21aedcc2445bab7a26542eb2aca9"
       ],
       "layout": "IPY_MODEL_6b27e3ffecc34fda98227590cb71df0a"
      }
     },
     "30888be0fcc841acae631837e1f387f3": {
      "model_module": "@jupyter-widgets/controls",
      "model_module_version": "1.5.0",
      "model_name": "HTMLModel",
      "state": {
       "_dom_classes": [],
       "_model_module": "@jupyter-widgets/controls",
       "_model_module_version": "1.5.0",
       "_model_name": "HTMLModel",
       "_view_count": null,
       "_view_module": "@jupyter-widgets/controls",
       "_view_module_version": "1.5.0",
       "_view_name": "HTMLView",
       "description": "",
       "description_tooltip": null,
       "layout": "IPY_MODEL_fbaf6f858a694a0a8118d0074e6fff06",
       "placeholder": "​",
       "style": "IPY_MODEL_c8a54f08971d42968d1566b71c274bd4",
       "value": "Progress: 100%"
      }
     },
     "30c4684d7978418996f61b0c1083c3e8": {
      "model_module": "@jupyter-widgets/base",
      "model_module_version": "1.2.0",
      "model_name": "LayoutModel",
      "state": {
       "_model_module": "@jupyter-widgets/base",
       "_model_module_version": "1.2.0",
       "_model_name": "LayoutModel",
       "_view_count": null,
       "_view_module": "@jupyter-widgets/base",
       "_view_module_version": "1.2.0",
       "_view_name": "LayoutView",
       "align_content": null,
       "align_items": null,
       "align_self": null,
       "border": null,
       "bottom": null,
       "display": null,
       "flex": null,
       "flex_flow": null,
       "grid_area": null,
       "grid_auto_columns": null,
       "grid_auto_flow": null,
       "grid_auto_rows": null,
       "grid_column": null,
       "grid_gap": null,
       "grid_row": null,
       "grid_template_areas": null,
       "grid_template_columns": null,
       "grid_template_rows": null,
       "height": null,
       "justify_content": null,
       "justify_items": null,
       "left": null,
       "margin": null,
       "max_height": null,
       "max_width": null,
       "min_height": null,
       "min_width": null,
       "object_fit": null,
       "object_position": null,
       "order": null,
       "overflow": null,
       "overflow_x": null,
       "overflow_y": null,
       "padding": null,
       "right": null,
       "top": null,
       "visibility": null,
       "width": null
      }
     },
     "3f8984be2d26488f88d1968347b3aa47": {
      "model_module": "@jupyter-widgets/base",
      "model_module_version": "1.2.0",
      "model_name": "LayoutModel",
      "state": {
       "_model_module": "@jupyter-widgets/base",
       "_model_module_version": "1.2.0",
       "_model_name": "LayoutModel",
       "_view_count": null,
       "_view_module": "@jupyter-widgets/base",
       "_view_module_version": "1.2.0",
       "_view_name": "LayoutView",
       "align_content": null,
       "align_items": null,
       "align_self": null,
       "border": null,
       "bottom": null,
       "display": null,
       "flex": null,
       "flex_flow": null,
       "grid_area": null,
       "grid_auto_columns": null,
       "grid_auto_flow": null,
       "grid_auto_rows": null,
       "grid_column": null,
       "grid_gap": null,
       "grid_row": null,
       "grid_template_areas": null,
       "grid_template_columns": null,
       "grid_template_rows": null,
       "height": null,
       "justify_content": null,
       "justify_items": null,
       "left": null,
       "margin": null,
       "max_height": null,
       "max_width": null,
       "min_height": null,
       "min_width": null,
       "object_fit": null,
       "object_position": null,
       "order": null,
       "overflow": null,
       "overflow_x": null,
       "overflow_y": null,
       "padding": null,
       "right": null,
       "top": null,
       "visibility": null,
       "width": null
      }
     },
     "3f9f311534ea4d1dbfd4ff479a872f80": {
      "model_module": "@jupyter-widgets/base",
      "model_module_version": "1.2.0",
      "model_name": "LayoutModel",
      "state": {
       "_model_module": "@jupyter-widgets/base",
       "_model_module_version": "1.2.0",
       "_model_name": "LayoutModel",
       "_view_count": null,
       "_view_module": "@jupyter-widgets/base",
       "_view_module_version": "1.2.0",
       "_view_name": "LayoutView",
       "align_content": null,
       "align_items": null,
       "align_self": null,
       "border": null,
       "bottom": null,
       "display": null,
       "flex": null,
       "flex_flow": null,
       "grid_area": null,
       "grid_auto_columns": null,
       "grid_auto_flow": null,
       "grid_auto_rows": null,
       "grid_column": null,
       "grid_gap": null,
       "grid_row": null,
       "grid_template_areas": null,
       "grid_template_columns": null,
       "grid_template_rows": null,
       "height": null,
       "justify_content": null,
       "justify_items": null,
       "left": null,
       "margin": null,
       "max_height": null,
       "max_width": null,
       "min_height": null,
       "min_width": null,
       "object_fit": null,
       "object_position": null,
       "order": null,
       "overflow": null,
       "overflow_x": null,
       "overflow_y": null,
       "padding": null,
       "right": null,
       "top": null,
       "visibility": null,
       "width": null
      }
     },
     "41af224615154391989e4ca6f2a7490a": {
      "model_module": "@jupyter-widgets/base",
      "model_module_version": "1.2.0",
      "model_name": "LayoutModel",
      "state": {
       "_model_module": "@jupyter-widgets/base",
       "_model_module_version": "1.2.0",
       "_model_name": "LayoutModel",
       "_view_count": null,
       "_view_module": "@jupyter-widgets/base",
       "_view_module_version": "1.2.0",
       "_view_name": "LayoutView",
       "align_content": null,
       "align_items": null,
       "align_self": null,
       "border": null,
       "bottom": null,
       "display": null,
       "flex": null,
       "flex_flow": null,
       "grid_area": null,
       "grid_auto_columns": null,
       "grid_auto_flow": null,
       "grid_auto_rows": null,
       "grid_column": null,
       "grid_gap": null,
       "grid_row": null,
       "grid_template_areas": null,
       "grid_template_columns": null,
       "grid_template_rows": null,
       "height": null,
       "justify_content": null,
       "justify_items": null,
       "left": null,
       "margin": null,
       "max_height": null,
       "max_width": null,
       "min_height": null,
       "min_width": null,
       "object_fit": null,
       "object_position": null,
       "order": null,
       "overflow": null,
       "overflow_x": null,
       "overflow_y": null,
       "padding": null,
       "right": null,
       "top": null,
       "visibility": null,
       "width": null
      }
     },
     "43bf8d06ae3c445b9b122de62a69b053": {
      "model_module": "@jupyter-widgets/controls",
      "model_module_version": "1.5.0",
      "model_name": "HTMLModel",
      "state": {
       "_dom_classes": [],
       "_model_module": "@jupyter-widgets/controls",
       "_model_module_version": "1.5.0",
       "_model_name": "HTMLModel",
       "_view_count": null,
       "_view_module": "@jupyter-widgets/controls",
       "_view_module_version": "1.5.0",
       "_view_name": "HTMLView",
       "description": "",
       "description_tooltip": null,
       "layout": "IPY_MODEL_3f9f311534ea4d1dbfd4ff479a872f80",
       "placeholder": "​",
       "style": "IPY_MODEL_4c52c6f1bace44138b1494136d4ebaac",
       "value": "Progress: 100%"
      }
     },
     "490c66ed3cd9466fa32b9e1c360656d8": {
      "model_module": "@jupyter-widgets/controls",
      "model_module_version": "1.5.0",
      "model_name": "ProgressStyleModel",
      "state": {
       "_model_module": "@jupyter-widgets/controls",
       "_model_module_version": "1.5.0",
       "_model_name": "ProgressStyleModel",
       "_view_count": null,
       "_view_module": "@jupyter-widgets/base",
       "_view_module_version": "1.2.0",
       "_view_name": "StyleView",
       "bar_color": null,
       "description_width": ""
      }
     },
     "4c52c6f1bace44138b1494136d4ebaac": {
      "model_module": "@jupyter-widgets/controls",
      "model_module_version": "1.5.0",
      "model_name": "DescriptionStyleModel",
      "state": {
       "_model_module": "@jupyter-widgets/controls",
       "_model_module_version": "1.5.0",
       "_model_name": "DescriptionStyleModel",
       "_view_count": null,
       "_view_module": "@jupyter-widgets/base",
       "_view_module_version": "1.2.0",
       "_view_name": "StyleView",
       "description_width": ""
      }
     },
     "536c7ceea1ba4a0195e800683f4fd0c9": {
      "model_module": "@jupyter-widgets/controls",
      "model_module_version": "1.5.0",
      "model_name": "DescriptionStyleModel",
      "state": {
       "_model_module": "@jupyter-widgets/controls",
       "_model_module_version": "1.5.0",
       "_model_name": "DescriptionStyleModel",
       "_view_count": null,
       "_view_module": "@jupyter-widgets/base",
       "_view_module_version": "1.2.0",
       "_view_name": "StyleView",
       "description_width": ""
      }
     },
     "581cbfb2bcf2413596fa62c4f43b7ef5": {
      "model_module": "@jupyter-widgets/controls",
      "model_module_version": "1.5.0",
      "model_name": "HBoxModel",
      "state": {
       "_dom_classes": [],
       "_model_module": "@jupyter-widgets/controls",
       "_model_module_version": "1.5.0",
       "_model_name": "HBoxModel",
       "_view_count": null,
       "_view_module": "@jupyter-widgets/controls",
       "_view_module_version": "1.5.0",
       "_view_name": "HBoxView",
       "box_style": "",
       "children": [
        "IPY_MODEL_30888be0fcc841acae631837e1f387f3",
        "IPY_MODEL_c16473aaca8b4a349641cc48a85512ed",
        "IPY_MODEL_ae25476309da4336b5762ddca9c2dd98"
       ],
       "layout": "IPY_MODEL_959d320965b14121bd90044f4a9fdbce"
      }
     },
     "5d5362a7518c4c04bc6fc96d21a5bfb4": {
      "model_module": "@jupyter-widgets/base",
      "model_module_version": "1.2.0",
      "model_name": "LayoutModel",
      "state": {
       "_model_module": "@jupyter-widgets/base",
       "_model_module_version": "1.2.0",
       "_model_name": "LayoutModel",
       "_view_count": null,
       "_view_module": "@jupyter-widgets/base",
       "_view_module_version": "1.2.0",
       "_view_name": "LayoutView",
       "align_content": null,
       "align_items": null,
       "align_self": null,
       "border": null,
       "bottom": null,
       "display": null,
       "flex": null,
       "flex_flow": null,
       "grid_area": null,
       "grid_auto_columns": null,
       "grid_auto_flow": null,
       "grid_auto_rows": null,
       "grid_column": null,
       "grid_gap": null,
       "grid_row": null,
       "grid_template_areas": null,
       "grid_template_columns": null,
       "grid_template_rows": null,
       "height": null,
       "justify_content": null,
       "justify_items": null,
       "left": null,
       "margin": null,
       "max_height": null,
       "max_width": null,
       "min_height": null,
       "min_width": null,
       "object_fit": null,
       "object_position": null,
       "order": null,
       "overflow": null,
       "overflow_x": null,
       "overflow_y": null,
       "padding": null,
       "right": null,
       "top": null,
       "visibility": null,
       "width": null
      }
     },
     "66771cad914a44f9a71b24e0ab046f43": {
      "model_module": "@jupyter-widgets/controls",
      "model_module_version": "1.5.0",
      "model_name": "HBoxModel",
      "state": {
       "_dom_classes": [],
       "_model_module": "@jupyter-widgets/controls",
       "_model_module_version": "1.5.0",
       "_model_name": "HBoxModel",
       "_view_count": null,
       "_view_module": "@jupyter-widgets/controls",
       "_view_module_version": "1.5.0",
       "_view_name": "HBoxView",
       "box_style": "",
       "children": [
        "IPY_MODEL_43bf8d06ae3c445b9b122de62a69b053",
        "IPY_MODEL_f8214aa18bd94d5d9ea030c57d455cec",
        "IPY_MODEL_752d68c1ccfe43cb958f91baef558f7f"
       ],
       "layout": "IPY_MODEL_3f8984be2d26488f88d1968347b3aa47"
      }
     },
     "6b27e3ffecc34fda98227590cb71df0a": {
      "model_module": "@jupyter-widgets/base",
      "model_module_version": "1.2.0",
      "model_name": "LayoutModel",
      "state": {
       "_model_module": "@jupyter-widgets/base",
       "_model_module_version": "1.2.0",
       "_model_name": "LayoutModel",
       "_view_count": null,
       "_view_module": "@jupyter-widgets/base",
       "_view_module_version": "1.2.0",
       "_view_name": "LayoutView",
       "align_content": null,
       "align_items": null,
       "align_self": null,
       "border": null,
       "bottom": null,
       "display": null,
       "flex": null,
       "flex_flow": null,
       "grid_area": null,
       "grid_auto_columns": null,
       "grid_auto_flow": null,
       "grid_auto_rows": null,
       "grid_column": null,
       "grid_gap": null,
       "grid_row": null,
       "grid_template_areas": null,
       "grid_template_columns": null,
       "grid_template_rows": null,
       "height": null,
       "justify_content": null,
       "justify_items": null,
       "left": null,
       "margin": null,
       "max_height": null,
       "max_width": null,
       "min_height": null,
       "min_width": null,
       "object_fit": null,
       "object_position": null,
       "order": null,
       "overflow": null,
       "overflow_x": null,
       "overflow_y": null,
       "padding": null,
       "right": null,
       "top": null,
       "visibility": null,
       "width": null
      }
     },
     "718a81f0a11643fc8c31860de6228fcf": {
      "model_module": "@jupyter-widgets/controls",
      "model_module_version": "1.5.0",
      "model_name": "FloatProgressModel",
      "state": {
       "_dom_classes": [],
       "_model_module": "@jupyter-widgets/controls",
       "_model_module_version": "1.5.0",
       "_model_name": "FloatProgressModel",
       "_view_count": null,
       "_view_module": "@jupyter-widgets/controls",
       "_view_module_version": "1.5.0",
       "_view_name": "ProgressView",
       "bar_style": "success",
       "description": "",
       "description_tooltip": null,
       "layout": "IPY_MODEL_1a054ff5f61e44d8ab92ed89c922076c",
       "max": 8232.0,
       "min": 0.0,
       "orientation": "horizontal",
       "style": "IPY_MODEL_25cad6e2334a41f7af1e7d7d82b9ad7f",
       "value": 8232.0
      }
     },
     "752d68c1ccfe43cb958f91baef558f7f": {
      "model_module": "@jupyter-widgets/controls",
      "model_module_version": "1.5.0",
      "model_name": "HTMLModel",
      "state": {
       "_dom_classes": [],
       "_model_module": "@jupyter-widgets/controls",
       "_model_module_version": "1.5.0",
       "_model_name": "HTMLModel",
       "_view_count": null,
       "_view_module": "@jupyter-widgets/controls",
       "_view_module_version": "1.5.0",
       "_view_name": "HTMLView",
       "description": "",
       "description_tooltip": null,
       "layout": "IPY_MODEL_41af224615154391989e4ca6f2a7490a",
       "placeholder": "​",
       "style": "IPY_MODEL_7e81886d87b7421a9c7bfb71243dfec0",
       "value": " 32925/32925 [02:13&lt;00:00, 263.39it/s]"
      }
     },
     "7e81886d87b7421a9c7bfb71243dfec0": {
      "model_module": "@jupyter-widgets/controls",
      "model_module_version": "1.5.0",
      "model_name": "DescriptionStyleModel",
      "state": {
       "_model_module": "@jupyter-widgets/controls",
       "_model_module_version": "1.5.0",
       "_model_name": "DescriptionStyleModel",
       "_view_count": null,
       "_view_module": "@jupyter-widgets/base",
       "_view_module_version": "1.2.0",
       "_view_name": "StyleView",
       "description_width": ""
      }
     },
     "8a6a184aa2fe4ac3beb2457a4b53ded8": {
      "model_module": "@jupyter-widgets/controls",
      "model_module_version": "1.5.0",
      "model_name": "HTMLModel",
      "state": {
       "_dom_classes": [],
       "_model_module": "@jupyter-widgets/controls",
       "_model_module_version": "1.5.0",
       "_model_name": "HTMLModel",
       "_view_count": null,
       "_view_module": "@jupyter-widgets/controls",
       "_view_module_version": "1.5.0",
       "_view_name": "HTMLView",
       "description": "",
       "description_tooltip": null,
       "layout": "IPY_MODEL_1dbf7c911b0a4f10a613fc24c59671cb",
       "placeholder": "​",
       "style": "IPY_MODEL_536c7ceea1ba4a0195e800683f4fd0c9",
       "value": "Progress: 100%"
      }
     },
     "959d320965b14121bd90044f4a9fdbce": {
      "model_module": "@jupyter-widgets/base",
      "model_module_version": "1.2.0",
      "model_name": "LayoutModel",
      "state": {
       "_model_module": "@jupyter-widgets/base",
       "_model_module_version": "1.2.0",
       "_model_name": "LayoutModel",
       "_view_count": null,
       "_view_module": "@jupyter-widgets/base",
       "_view_module_version": "1.2.0",
       "_view_name": "LayoutView",
       "align_content": null,
       "align_items": null,
       "align_self": null,
       "border": null,
       "bottom": null,
       "display": null,
       "flex": null,
       "flex_flow": null,
       "grid_area": null,
       "grid_auto_columns": null,
       "grid_auto_flow": null,
       "grid_auto_rows": null,
       "grid_column": null,
       "grid_gap": null,
       "grid_row": null,
       "grid_template_areas": null,
       "grid_template_columns": null,
       "grid_template_rows": null,
       "height": null,
       "justify_content": null,
       "justify_items": null,
       "left": null,
       "margin": null,
       "max_height": null,
       "max_width": null,
       "min_height": null,
       "min_width": null,
       "object_fit": null,
       "object_position": null,
       "order": null,
       "overflow": null,
       "overflow_x": null,
       "overflow_y": null,
       "padding": null,
       "right": null,
       "top": null,
       "visibility": null,
       "width": null
      }
     },
     "9b6b6c1485fa4124abe8ba6a701365d6": {
      "model_module": "@jupyter-widgets/controls",
      "model_module_version": "1.5.0",
      "model_name": "DescriptionStyleModel",
      "state": {
       "_model_module": "@jupyter-widgets/controls",
       "_model_module_version": "1.5.0",
       "_model_name": "DescriptionStyleModel",
       "_view_count": null,
       "_view_module": "@jupyter-widgets/base",
       "_view_module_version": "1.2.0",
       "_view_name": "StyleView",
       "description_width": ""
      }
     },
     "ae25476309da4336b5762ddca9c2dd98": {
      "model_module": "@jupyter-widgets/controls",
      "model_module_version": "1.5.0",
      "model_name": "HTMLModel",
      "state": {
       "_dom_classes": [],
       "_model_module": "@jupyter-widgets/controls",
       "_model_module_version": "1.5.0",
       "_model_name": "HTMLModel",
       "_view_count": null,
       "_view_module": "@jupyter-widgets/controls",
       "_view_module_version": "1.5.0",
       "_view_name": "HTMLView",
       "description": "",
       "description_tooltip": null,
       "layout": "IPY_MODEL_df16d1d979d0432d9d6e6a133cbda136",
       "placeholder": "​",
       "style": "IPY_MODEL_fe7ff8218f054bc8a8707cf8eefbb731",
       "value": " 3798/3798 [00:17&lt;00:00, 209.64it/s]"
      }
     },
     "aec97c717f0f43b8adc0d153512b3bb8": {
      "model_module": "@jupyter-widgets/base",
      "model_module_version": "1.2.0",
      "model_name": "LayoutModel",
      "state": {
       "_model_module": "@jupyter-widgets/base",
       "_model_module_version": "1.2.0",
       "_model_name": "LayoutModel",
       "_view_count": null,
       "_view_module": "@jupyter-widgets/base",
       "_view_module_version": "1.2.0",
       "_view_name": "LayoutView",
       "align_content": null,
       "align_items": null,
       "align_self": null,
       "border": null,
       "bottom": null,
       "display": null,
       "flex": null,
       "flex_flow": null,
       "grid_area": null,
       "grid_auto_columns": null,
       "grid_auto_flow": null,
       "grid_auto_rows": null,
       "grid_column": null,
       "grid_gap": null,
       "grid_row": null,
       "grid_template_areas": null,
       "grid_template_columns": null,
       "grid_template_rows": null,
       "height": null,
       "justify_content": null,
       "justify_items": null,
       "left": null,
       "margin": null,
       "max_height": null,
       "max_width": null,
       "min_height": null,
       "min_width": null,
       "object_fit": null,
       "object_position": null,
       "order": null,
       "overflow": null,
       "overflow_x": null,
       "overflow_y": null,
       "padding": null,
       "right": null,
       "top": null,
       "visibility": null,
       "width": null
      }
     },
     "c16473aaca8b4a349641cc48a85512ed": {
      "model_module": "@jupyter-widgets/controls",
      "model_module_version": "1.5.0",
      "model_name": "FloatProgressModel",
      "state": {
       "_dom_classes": [],
       "_model_module": "@jupyter-widgets/controls",
       "_model_module_version": "1.5.0",
       "_model_name": "FloatProgressModel",
       "_view_count": null,
       "_view_module": "@jupyter-widgets/controls",
       "_view_module_version": "1.5.0",
       "_view_name": "ProgressView",
       "bar_style": "success",
       "description": "",
       "description_tooltip": null,
       "layout": "IPY_MODEL_aec97c717f0f43b8adc0d153512b3bb8",
       "max": 3798.0,
       "min": 0.0,
       "orientation": "horizontal",
       "style": "IPY_MODEL_490c66ed3cd9466fa32b9e1c360656d8",
       "value": 3798.0
      }
     },
     "c8a54f08971d42968d1566b71c274bd4": {
      "model_module": "@jupyter-widgets/controls",
      "model_module_version": "1.5.0",
      "model_name": "DescriptionStyleModel",
      "state": {
       "_model_module": "@jupyter-widgets/controls",
       "_model_module_version": "1.5.0",
       "_model_name": "DescriptionStyleModel",
       "_view_count": null,
       "_view_module": "@jupyter-widgets/base",
       "_view_module_version": "1.2.0",
       "_view_name": "StyleView",
       "description_width": ""
      }
     },
     "df16d1d979d0432d9d6e6a133cbda136": {
      "model_module": "@jupyter-widgets/base",
      "model_module_version": "1.2.0",
      "model_name": "LayoutModel",
      "state": {
       "_model_module": "@jupyter-widgets/base",
       "_model_module_version": "1.2.0",
       "_model_name": "LayoutModel",
       "_view_count": null,
       "_view_module": "@jupyter-widgets/base",
       "_view_module_version": "1.2.0",
       "_view_name": "LayoutView",
       "align_content": null,
       "align_items": null,
       "align_self": null,
       "border": null,
       "bottom": null,
       "display": null,
       "flex": null,
       "flex_flow": null,
       "grid_area": null,
       "grid_auto_columns": null,
       "grid_auto_flow": null,
       "grid_auto_rows": null,
       "grid_column": null,
       "grid_gap": null,
       "grid_row": null,
       "grid_template_areas": null,
       "grid_template_columns": null,
       "grid_template_rows": null,
       "height": null,
       "justify_content": null,
       "justify_items": null,
       "left": null,
       "margin": null,
       "max_height": null,
       "max_width": null,
       "min_height": null,
       "min_width": null,
       "object_fit": null,
       "object_position": null,
       "order": null,
       "overflow": null,
       "overflow_x": null,
       "overflow_y": null,
       "padding": null,
       "right": null,
       "top": null,
       "visibility": null,
       "width": null
      }
     },
     "e241e78c45314402bde0719243a8d265": {
      "model_module": "@jupyter-widgets/controls",
      "model_module_version": "1.5.0",
      "model_name": "ProgressStyleModel",
      "state": {
       "_model_module": "@jupyter-widgets/controls",
       "_model_module_version": "1.5.0",
       "_model_name": "ProgressStyleModel",
       "_view_count": null,
       "_view_module": "@jupyter-widgets/base",
       "_view_module_version": "1.2.0",
       "_view_name": "StyleView",
       "bar_color": null,
       "description_width": ""
      }
     },
     "e9de21aedcc2445bab7a26542eb2aca9": {
      "model_module": "@jupyter-widgets/controls",
      "model_module_version": "1.5.0",
      "model_name": "HTMLModel",
      "state": {
       "_dom_classes": [],
       "_model_module": "@jupyter-widgets/controls",
       "_model_module_version": "1.5.0",
       "_model_name": "HTMLModel",
       "_view_count": null,
       "_view_module": "@jupyter-widgets/controls",
       "_view_module_version": "1.5.0",
       "_view_name": "HTMLView",
       "description": "",
       "description_tooltip": null,
       "layout": "IPY_MODEL_5d5362a7518c4c04bc6fc96d21a5bfb4",
       "placeholder": "​",
       "style": "IPY_MODEL_9b6b6c1485fa4124abe8ba6a701365d6",
       "value": " 8232/8232 [00:32&lt;00:00, 271.04it/s]"
      }
     },
     "f8214aa18bd94d5d9ea030c57d455cec": {
      "model_module": "@jupyter-widgets/controls",
      "model_module_version": "1.5.0",
      "model_name": "FloatProgressModel",
      "state": {
       "_dom_classes": [],
       "_model_module": "@jupyter-widgets/controls",
       "_model_module_version": "1.5.0",
       "_model_name": "FloatProgressModel",
       "_view_count": null,
       "_view_module": "@jupyter-widgets/controls",
       "_view_module_version": "1.5.0",
       "_view_name": "ProgressView",
       "bar_style": "success",
       "description": "",
       "description_tooltip": null,
       "layout": "IPY_MODEL_30c4684d7978418996f61b0c1083c3e8",
       "max": 32925.0,
       "min": 0.0,
       "orientation": "horizontal",
       "style": "IPY_MODEL_e241e78c45314402bde0719243a8d265",
       "value": 32925.0
      }
     },
     "fbaf6f858a694a0a8118d0074e6fff06": {
      "model_module": "@jupyter-widgets/base",
      "model_module_version": "1.2.0",
      "model_name": "LayoutModel",
      "state": {
       "_model_module": "@jupyter-widgets/base",
       "_model_module_version": "1.2.0",
       "_model_name": "LayoutModel",
       "_view_count": null,
       "_view_module": "@jupyter-widgets/base",
       "_view_module_version": "1.2.0",
       "_view_name": "LayoutView",
       "align_content": null,
       "align_items": null,
       "align_self": null,
       "border": null,
       "bottom": null,
       "display": null,
       "flex": null,
       "flex_flow": null,
       "grid_area": null,
       "grid_auto_columns": null,
       "grid_auto_flow": null,
       "grid_auto_rows": null,
       "grid_column": null,
       "grid_gap": null,
       "grid_row": null,
       "grid_template_areas": null,
       "grid_template_columns": null,
       "grid_template_rows": null,
       "height": null,
       "justify_content": null,
       "justify_items": null,
       "left": null,
       "margin": null,
       "max_height": null,
       "max_width": null,
       "min_height": null,
       "min_width": null,
       "object_fit": null,
       "object_position": null,
       "order": null,
       "overflow": null,
       "overflow_x": null,
       "overflow_y": null,
       "padding": null,
       "right": null,
       "top": null,
       "visibility": null,
       "width": null
      }
     },
     "fe7ff8218f054bc8a8707cf8eefbb731": {
      "model_module": "@jupyter-widgets/controls",
      "model_module_version": "1.5.0",
      "model_name": "DescriptionStyleModel",
      "state": {
       "_model_module": "@jupyter-widgets/controls",
       "_model_module_version": "1.5.0",
       "_model_name": "DescriptionStyleModel",
       "_view_count": null,
       "_view_module": "@jupyter-widgets/base",
       "_view_module_version": "1.2.0",
       "_view_name": "StyleView",
       "description_width": ""
      }
     }
    },
    "version_major": 2,
    "version_minor": 0
   }
  }
 },
 "nbformat": 4,
 "nbformat_minor": 5
}
