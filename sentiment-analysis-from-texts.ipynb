{
 "cells": [
  {
   "cell_type": "markdown",
   "id": "8c305ca3",
   "metadata": {
    "papermill": {
     "duration": 0.012593,
     "end_time": "2023-06-24T16:33:55.819295",
     "exception": false,
     "start_time": "2023-06-24T16:33:55.806702",
     "status": "completed"
    },
    "tags": []
   },
   "source": [
    "## Sentiment Analysis from Tweets\n",
    "##### (Multiclass sentiment analysis using textual data)"
   ]
  },
  {
   "cell_type": "markdown",
   "id": "41612a5a",
   "metadata": {
    "papermill": {
     "duration": 0.01119,
     "end_time": "2023-06-24T16:33:55.842136",
     "exception": false,
     "start_time": "2023-06-24T16:33:55.830946",
     "status": "completed"
    },
    "tags": []
   },
   "source": [
    "### About the Dataset:\n",
    "* Dataset used in this project consists of a **collection of tweets** that were **posted during covid-19 pandemic** by users from different locations across the globe.\n",
    "* Datset **consists of tweets and sentiments** reflected from them, alongwith other information like location, date, username etc."
   ]
  },
  {
   "cell_type": "markdown",
   "id": "f1cf9393",
   "metadata": {
    "papermill": {
     "duration": 0.011028,
     "end_time": "2023-06-24T16:33:55.864558",
     "exception": false,
     "start_time": "2023-06-24T16:33:55.853530",
     "status": "completed"
    },
    "tags": []
   },
   "source": [
    "> *Workflow:*\n",
    "> * Load necessary **packages and libraries**.\n",
    "> * **Data Agumention and Organization:** Use data from multiple sources and combine them with proper organisation to increase size of data. Split data into train and test sets.\n",
    "> * **EDA & Data Visualization:** Analyze, Understand and Explore the Data.\n",
    "> * **Preprocessing:**\n",
    "    * **(NLP -> Text Cleaning + Text Vectorization)**\n",
    "        * **Text cleaning:** Remove emojis, Convert Emoticons to Words, Apply Text Contractions, Correct Abbreviations, Remove Mentions and URLs, Remove Special Characters, Punctuations, HTML tags, Escape Characters and Extra Spaces, Apply Spell Check, Lemmatize/Stem texts.\n",
    "        * **Text Vectorization:** Convert text data to numerical vectors. (I wil use **Tfidf** vectorization technique, but other methods like Bag of Words or Word embedding can also be used.)\n",
    "    * **Label Encoding:** Machine Learning models can not understand text labelled categories hence we must convert text labels to numerical values before feeding our data to a ML model.\n",
    "> * **Training:** Feed processed data to various **Machine Learning/Deep Learning models** and **Test** each model's accuracy using Test data (created during train-test-split).\n",
    "> * **Create Pipeline:** Choose the **best performing model** and create a **model pipeline**.\n",
    "> * **Ground Testing:** Use the trained model to predict language from user inputs."
   ]
  },
  {
   "cell_type": "markdown",
   "id": "3c69279d",
   "metadata": {
    "papermill": {
     "duration": 0.010977,
     "end_time": "2023-06-24T16:33:55.887024",
     "exception": false,
     "start_time": "2023-06-24T16:33:55.876047",
     "status": "completed"
    },
    "tags": []
   },
   "source": [
    "## Load Dependencies\n",
    "(I prefer loading all the necessary files and libraries at the beginning, makes notebook cleaner!)"
   ]
  },
  {
   "cell_type": "code",
   "execution_count": 1,
   "id": "9cd08342",
   "metadata": {
    "execution": {
     "iopub.execute_input": "2023-06-24T16:33:55.912112Z",
     "iopub.status.busy": "2023-06-24T16:33:55.911522Z",
     "iopub.status.idle": "2023-06-24T16:34:41.312246Z",
     "shell.execute_reply": "2023-06-24T16:34:41.310688Z"
    },
    "papermill": {
     "duration": 45.417491,
     "end_time": "2023-06-24T16:34:41.315800",
     "exception": false,
     "start_time": "2023-06-24T16:33:55.898309",
     "status": "completed"
    },
    "tags": []
   },
   "outputs": [
    {
     "name": "stdout",
     "output_type": "stream",
     "text": [
      "Requirement already satisfied: nltk in /opt/conda/lib/python3.7/site-packages (3.2.4)\r\n",
      "Requirement already satisfied: six in /opt/conda/lib/python3.7/site-packages (from nltk) (1.16.0)\r\n",
      "\u001b[33mWARNING: Running pip as the 'root' user can result in broken permissions and conflicting behaviour with the system package manager. It is recommended to use a virtual environment instead: https://pip.pypa.io/warnings/venv\u001b[0m\u001b[33m\r\n",
      "\u001b[0mCollecting contractions\r\n",
      "  Downloading contractions-0.1.73-py2.py3-none-any.whl (8.7 kB)\r\n",
      "Collecting textsearch>=0.0.21\r\n",
      "  Downloading textsearch-0.0.24-py2.py3-none-any.whl (7.6 kB)\r\n",
      "Collecting pyahocorasick\r\n",
      "  Downloading pyahocorasick-2.0.0-cp37-cp37m-manylinux_2_5_x86_64.manylinux1_x86_64.whl (101 kB)\r\n",
      "\u001b[2K     \u001b[90m━━━━━━━━━━━━━━━━━━━━━━━━━━━━━━━━━━━━━━━\u001b[0m \u001b[32m101.8/101.8 kB\u001b[0m \u001b[31m5.9 MB/s\u001b[0m eta \u001b[36m0:00:00\u001b[0m\r\n",
      "\u001b[?25hCollecting anyascii\r\n",
      "  Downloading anyascii-0.3.2-py3-none-any.whl (289 kB)\r\n",
      "\u001b[2K     \u001b[90m━━━━━━━━━━━━━━━━━━━━━━━━━━━━━━━━━━━━━━\u001b[0m \u001b[32m289.9/289.9 kB\u001b[0m \u001b[31m19.6 MB/s\u001b[0m eta \u001b[36m0:00:00\u001b[0m\r\n",
      "\u001b[?25hInstalling collected packages: pyahocorasick, anyascii, textsearch, contractions\r\n",
      "Successfully installed anyascii-0.3.2 contractions-0.1.73 pyahocorasick-2.0.0 textsearch-0.0.24\r\n",
      "\u001b[33mWARNING: Running pip as the 'root' user can result in broken permissions and conflicting behaviour with the system package manager. It is recommended to use a virtual environment instead: https://pip.pypa.io/warnings/venv\u001b[0m\u001b[33m\r\n",
      "\u001b[0mCollecting pyspellchecker\r\n",
      "  Downloading pyspellchecker-0.7.2-py3-none-any.whl (3.4 MB)\r\n",
      "\u001b[2K     \u001b[90m━━━━━━━━━━━━━━━━━━━━━━━━━━━━━━━━━━━━━━━━\u001b[0m \u001b[32m3.4/3.4 MB\u001b[0m \u001b[31m44.5 MB/s\u001b[0m eta \u001b[36m0:00:00\u001b[0m\r\n",
      "\u001b[?25hInstalling collected packages: pyspellchecker\r\n",
      "Successfully installed pyspellchecker-0.7.2\r\n",
      "\u001b[33mWARNING: Running pip as the 'root' user can result in broken permissions and conflicting behaviour with the system package manager. It is recommended to use a virtual environment instead: https://pip.pypa.io/warnings/venv\u001b[0m\u001b[33m\r\n",
      "\u001b[0m"
     ]
    }
   ],
   "source": [
    "# install extra packages (not included in kaggle by default)\n",
    "!pip install nltk # provides text cleaning and normalizing function\n",
    "!pip install contractions # should't -> should not\n",
    "!pip install pyspellchecker  # python spell checker"
   ]
  },
  {
   "cell_type": "code",
   "execution_count": 2,
   "id": "0f4a9b5f",
   "metadata": {
    "_cell_guid": "b1076dfc-b9ad-4769-8c92-a6c4dae69d19",
    "_uuid": "8f2839f25d086af736a60e9eeb907d3b93b6e0e5",
    "execution": {
     "iopub.execute_input": "2023-06-24T16:34:41.344346Z",
     "iopub.status.busy": "2023-06-24T16:34:41.343878Z",
     "iopub.status.idle": "2023-06-24T16:34:49.086880Z",
     "shell.execute_reply": "2023-06-24T16:34:49.085195Z"
    },
    "papermill": {
     "duration": 7.76157,
     "end_time": "2023-06-24T16:34:49.090407",
     "exception": false,
     "start_time": "2023-06-24T16:34:41.328837",
     "status": "completed"
    },
    "tags": []
   },
   "outputs": [
    {
     "name": "stdout",
     "output_type": "stream",
     "text": [
      "[nltk_data] Downloading package stopwords to /usr/share/nltk_data...\n",
      "[nltk_data]   Package stopwords is already up-to-date!\n",
      "[nltk_data] Downloading package wordnet to /usr/share/nltk_data...\n",
      "[nltk_data]   Package wordnet is already up-to-date!\n",
      "[nltk_data] Downloading package wordnet to\n",
      "[nltk_data]     /kaggle/working/nltk_data...\n",
      "[nltk_data] Downloading package omw-1.4 to\n",
      "[nltk_data]     /kaggle/working/nltk_data/...\n",
      "Archive:  /kaggle/working/nltk_data/corpora/wordnet.zip\r\n",
      "   creating: /kaggle/working/nltk_data/corpora/wordnet/\r\n",
      "  inflating: /kaggle/working/nltk_data/corpora/wordnet/lexnames  \r\n",
      "  inflating: /kaggle/working/nltk_data/corpora/wordnet/data.verb  \r\n",
      "  inflating: /kaggle/working/nltk_data/corpora/wordnet/index.adv  \r\n",
      "  inflating: /kaggle/working/nltk_data/corpora/wordnet/adv.exc  \r\n",
      "  inflating: /kaggle/working/nltk_data/corpora/wordnet/index.verb  \r\n",
      "  inflating: /kaggle/working/nltk_data/corpora/wordnet/cntlist.rev  \r\n",
      "  inflating: /kaggle/working/nltk_data/corpora/wordnet/data.adj  \r\n",
      "  inflating: /kaggle/working/nltk_data/corpora/wordnet/index.adj  \r\n",
      "  inflating: /kaggle/working/nltk_data/corpora/wordnet/LICENSE  \r\n",
      "  inflating: /kaggle/working/nltk_data/corpora/wordnet/citation.bib  \r\n",
      "  inflating: /kaggle/working/nltk_data/corpora/wordnet/noun.exc  \r\n",
      "  inflating: /kaggle/working/nltk_data/corpora/wordnet/verb.exc  \r\n",
      "  inflating: /kaggle/working/nltk_data/corpora/wordnet/README  \r\n",
      "  inflating: /kaggle/working/nltk_data/corpora/wordnet/index.sense  \r\n",
      "  inflating: /kaggle/working/nltk_data/corpora/wordnet/data.noun  \r\n",
      "  inflating: /kaggle/working/nltk_data/corpora/wordnet/data.adv  \r\n",
      "  inflating: /kaggle/working/nltk_data/corpora/wordnet/index.noun  \r\n",
      "  inflating: /kaggle/working/nltk_data/corpora/wordnet/adj.exc  \r\n",
      "Archive:  /kaggle/working/nltk_data/corpora/omw-1.4.zip\r\n",
      "   creating: /kaggle/working/nltk_data/corpora/omw-1.4/\r\n",
      "   creating: /kaggle/working/nltk_data/corpora/omw-1.4/fin/\r\n",
      "  inflating: /kaggle/working/nltk_data/corpora/omw-1.4/fin/LICENSE  \r\n",
      "  inflating: /kaggle/working/nltk_data/corpora/omw-1.4/fin/citation.bib  \r\n",
      "  inflating: /kaggle/working/nltk_data/corpora/omw-1.4/fin/wn-data-fin.tab  \r\n",
      "   creating: /kaggle/working/nltk_data/corpora/omw-1.4/heb/\r\n",
      "  inflating: /kaggle/working/nltk_data/corpora/omw-1.4/heb/LICENSE  \r\n",
      "  inflating: /kaggle/working/nltk_data/corpora/omw-1.4/heb/citation.bib  \r\n",
      "  inflating: /kaggle/working/nltk_data/corpora/omw-1.4/heb/README  \r\n",
      "  inflating: /kaggle/working/nltk_data/corpora/omw-1.4/heb/wn-data-heb.tab  \r\n",
      "   creating: /kaggle/working/nltk_data/corpora/omw-1.4/slv/\r\n",
      "  inflating: /kaggle/working/nltk_data/corpora/omw-1.4/slv/LICENSE  \r\n",
      "  inflating: /kaggle/working/nltk_data/corpora/omw-1.4/slv/citation.bib  \r\n",
      "  inflating: /kaggle/working/nltk_data/corpora/omw-1.4/slv/README  \r\n",
      "  inflating: /kaggle/working/nltk_data/corpora/omw-1.4/slv/wn-data-slv.tab  \r\n",
      "   creating: /kaggle/working/nltk_data/corpora/omw-1.4/ita/\r\n",
      "  inflating: /kaggle/working/nltk_data/corpora/omw-1.4/ita/LICENSE  \r\n",
      "  inflating: /kaggle/working/nltk_data/corpora/omw-1.4/ita/citation.bib  \r\n",
      "  inflating: /kaggle/working/nltk_data/corpora/omw-1.4/ita/wn-data-ita.tab  \r\n",
      " extracting: /kaggle/working/nltk_data/corpora/omw-1.4/ita/README  \r\n",
      "   creating: /kaggle/working/nltk_data/corpora/omw-1.4/nor/\r\n",
      "  inflating: /kaggle/working/nltk_data/corpora/omw-1.4/nor/LICENSE  \r\n",
      "  inflating: /kaggle/working/nltk_data/corpora/omw-1.4/nor/citation.bib  \r\n",
      "  inflating: /kaggle/working/nltk_data/corpora/omw-1.4/nor/README  \r\n",
      "  inflating: /kaggle/working/nltk_data/corpora/omw-1.4/nor/wn-data-nno.tab  \r\n",
      "  inflating: /kaggle/working/nltk_data/corpora/omw-1.4/nor/wn-data-nob.tab  \r\n",
      "   creating: /kaggle/working/nltk_data/corpora/omw-1.4/als/\r\n",
      "  inflating: /kaggle/working/nltk_data/corpora/omw-1.4/als/wn-data-als.tab  \r\n",
      "  inflating: /kaggle/working/nltk_data/corpora/omw-1.4/als/LICENSE  \r\n",
      "  inflating: /kaggle/working/nltk_data/corpora/omw-1.4/als/citation.bib  \r\n",
      "  inflating: /kaggle/working/nltk_data/corpora/omw-1.4/als/README  \r\n",
      "   creating: /kaggle/working/nltk_data/corpora/omw-1.4/pol/\r\n",
      "  inflating: /kaggle/working/nltk_data/corpora/omw-1.4/pol/LICENSE  \r\n",
      "  inflating: /kaggle/working/nltk_data/corpora/omw-1.4/pol/citation.bib  \r\n",
      "  inflating: /kaggle/working/nltk_data/corpora/omw-1.4/pol/wn-data-pol.tab  \r\n",
      "   creating: /kaggle/working/nltk_data/corpora/omw-1.4/hrv/\r\n",
      " extracting: /kaggle/working/nltk_data/corpora/omw-1.4/hrv/LICENSE  \r\n",
      "  inflating: /kaggle/working/nltk_data/corpora/omw-1.4/hrv/citation.bib  \r\n",
      "  inflating: /kaggle/working/nltk_data/corpora/omw-1.4/hrv/wn-data-hrv.tab  \r\n",
      "  inflating: /kaggle/working/nltk_data/corpora/omw-1.4/hrv/README  \r\n",
      "  inflating: /kaggle/working/nltk_data/corpora/omw-1.4/citation.bib  \r\n",
      "   creating: /kaggle/working/nltk_data/corpora/omw-1.4/iwn/\r\n",
      "  inflating: /kaggle/working/nltk_data/corpora/omw-1.4/iwn/LICENSE  \r\n",
      "  inflating: /kaggle/working/nltk_data/corpora/omw-1.4/iwn/citation.bib  \r\n",
      "  inflating: /kaggle/working/nltk_data/corpora/omw-1.4/iwn/wn-data-ita.tab  \r\n",
      "  inflating: /kaggle/working/nltk_data/corpora/omw-1.4/iwn/README  \r\n",
      "   creating: /kaggle/working/nltk_data/corpora/omw-1.4/nld/\r\n",
      "  inflating: /kaggle/working/nltk_data/corpora/omw-1.4/nld/LICENSE  \r\n",
      "  inflating: /kaggle/working/nltk_data/corpora/omw-1.4/nld/wn-data-nld.tab  \r\n",
      "  inflating: /kaggle/working/nltk_data/corpora/omw-1.4/nld/citation.bib  \r\n",
      "   creating: /kaggle/working/nltk_data/corpora/omw-1.4/ron/\r\n",
      "  inflating: /kaggle/working/nltk_data/corpora/omw-1.4/ron/LICENSE  \r\n",
      "  inflating: /kaggle/working/nltk_data/corpora/omw-1.4/ron/citation.bib  \r\n",
      "  inflating: /kaggle/working/nltk_data/corpora/omw-1.4/ron/wn-data-ron.tab  \r\n",
      "  inflating: /kaggle/working/nltk_data/corpora/omw-1.4/ron/README  \r\n",
      "   creating: /kaggle/working/nltk_data/corpora/omw-1.4/arb/\r\n",
      "  inflating: /kaggle/working/nltk_data/corpora/omw-1.4/arb/LICENSE  \r\n",
      "  inflating: /kaggle/working/nltk_data/corpora/omw-1.4/arb/citation.bib  \r\n",
      "  inflating: /kaggle/working/nltk_data/corpora/omw-1.4/arb/README  \r\n",
      "  inflating: /kaggle/working/nltk_data/corpora/omw-1.4/arb/wn-data-arb.tab  \r\n",
      "   creating: /kaggle/working/nltk_data/corpora/omw-1.4/isl/\r\n",
      "  inflating: /kaggle/working/nltk_data/corpora/omw-1.4/isl/LICENSE  \r\n",
      "  inflating: /kaggle/working/nltk_data/corpora/omw-1.4/isl/citation.bib  \r\n",
      "  inflating: /kaggle/working/nltk_data/corpora/omw-1.4/isl/README  \r\n",
      "  inflating: /kaggle/working/nltk_data/corpora/omw-1.4/isl/wn-data-isl.tab  \r\n",
      "   creating: /kaggle/working/nltk_data/corpora/omw-1.4/swe/\r\n",
      "  inflating: /kaggle/working/nltk_data/corpora/omw-1.4/swe/LICENSE  \r\n",
      "  inflating: /kaggle/working/nltk_data/corpora/omw-1.4/swe/citation.bib  \r\n",
      "  inflating: /kaggle/working/nltk_data/corpora/omw-1.4/swe/README  \r\n",
      "  inflating: /kaggle/working/nltk_data/corpora/omw-1.4/swe/wn-data-swe.tab  \r\n",
      "   creating: /kaggle/working/nltk_data/corpora/omw-1.4/por/\r\n",
      "  inflating: /kaggle/working/nltk_data/corpora/omw-1.4/por/LICENSE  \r\n",
      "  inflating: /kaggle/working/nltk_data/corpora/omw-1.4/por/citation.bib  \r\n",
      "  inflating: /kaggle/working/nltk_data/corpora/omw-1.4/por/wn-data-por.tab  \r\n",
      "  inflating: /kaggle/working/nltk_data/corpora/omw-1.4/por/README  \r\n",
      "  inflating: /kaggle/working/nltk_data/corpora/omw-1.4/README  \r\n",
      "   creating: /kaggle/working/nltk_data/corpora/omw-1.4/cow/\r\n",
      "  inflating: /kaggle/working/nltk_data/corpora/omw-1.4/cow/wn-data-cmn.tab  \r\n",
      "  inflating: /kaggle/working/nltk_data/corpora/omw-1.4/cow/LICENSE  \r\n",
      "  inflating: /kaggle/working/nltk_data/corpora/omw-1.4/cow/citation.bib  \r\n",
      "   creating: /kaggle/working/nltk_data/corpora/omw-1.4/jpn/\r\n",
      "  inflating: /kaggle/working/nltk_data/corpora/omw-1.4/jpn/LICENSE  \r\n",
      "  inflating: /kaggle/working/nltk_data/corpora/omw-1.4/jpn/citation.bib  \r\n",
      "  inflating: /kaggle/working/nltk_data/corpora/omw-1.4/jpn/README  \r\n",
      "  inflating: /kaggle/working/nltk_data/corpora/omw-1.4/jpn/wn-data-jpn.tab  \r\n",
      "   creating: /kaggle/working/nltk_data/corpora/omw-1.4/dan/\r\n",
      "  inflating: /kaggle/working/nltk_data/corpora/omw-1.4/dan/LICENSE  \r\n",
      "  inflating: /kaggle/working/nltk_data/corpora/omw-1.4/dan/citation.bib  \r\n",
      "  inflating: /kaggle/working/nltk_data/corpora/omw-1.4/dan/wn-data-dan.tab  \r\n",
      "   creating: /kaggle/working/nltk_data/corpora/omw-1.4/slk/\r\n",
      "  inflating: /kaggle/working/nltk_data/corpora/omw-1.4/slk/LICENSE  \r\n",
      "  inflating: /kaggle/working/nltk_data/corpora/omw-1.4/slk/citation.bib  \r\n",
      "  inflating: /kaggle/working/nltk_data/corpora/omw-1.4/slk/wn-data-slk.tab  \r\n",
      "  inflating: /kaggle/working/nltk_data/corpora/omw-1.4/slk/wn-data-lit.tab  \r\n",
      "  inflating: /kaggle/working/nltk_data/corpora/omw-1.4/slk/README  \r\n",
      "   creating: /kaggle/working/nltk_data/corpora/omw-1.4/bul/\r\n",
      "  inflating: /kaggle/working/nltk_data/corpora/omw-1.4/bul/LICENSE  \r\n",
      "  inflating: /kaggle/working/nltk_data/corpora/omw-1.4/bul/citation.bib  \r\n",
      "  inflating: /kaggle/working/nltk_data/corpora/omw-1.4/bul/wn-data-bul.tab  \r\n",
      "  inflating: /kaggle/working/nltk_data/corpora/omw-1.4/bul/README  \r\n",
      "   creating: /kaggle/working/nltk_data/corpora/omw-1.4/mcr/\r\n",
      "  inflating: /kaggle/working/nltk_data/corpora/omw-1.4/mcr/LICENSE  \r\n",
      "  inflating: /kaggle/working/nltk_data/corpora/omw-1.4/mcr/citation.bib  \r\n",
      "  inflating: /kaggle/working/nltk_data/corpora/omw-1.4/mcr/wn-data-eus.tab  \r\n",
      "  inflating: /kaggle/working/nltk_data/corpora/omw-1.4/mcr/wn-data-cat.tab  \r\n",
      "  inflating: /kaggle/working/nltk_data/corpora/omw-1.4/mcr/wn-data-glg.tab  \r\n",
      "  inflating: /kaggle/working/nltk_data/corpora/omw-1.4/mcr/wn-data-spa.tab  \r\n",
      "   creating: /kaggle/working/nltk_data/corpora/omw-1.4/ell/\r\n",
      "  inflating: /kaggle/working/nltk_data/corpora/omw-1.4/ell/LICENSE  \r\n",
      "  inflating: /kaggle/working/nltk_data/corpora/omw-1.4/ell/wn-data-ell.tab  \r\n",
      "  inflating: /kaggle/working/nltk_data/corpora/omw-1.4/ell/README  \r\n",
      "   creating: /kaggle/working/nltk_data/corpora/omw-1.4/msa/\r\n",
      "  inflating: /kaggle/working/nltk_data/corpora/omw-1.4/msa/LICENSE  \r\n",
      "  inflating: /kaggle/working/nltk_data/corpora/omw-1.4/msa/citation.bib  \r\n",
      "  inflating: /kaggle/working/nltk_data/corpora/omw-1.4/msa/wn-data-zsm.tab  \r\n",
      "  inflating: /kaggle/working/nltk_data/corpora/omw-1.4/msa/wn-data-ind.tab  \r\n",
      "  inflating: /kaggle/working/nltk_data/corpora/omw-1.4/msa/README  \r\n",
      "   creating: /kaggle/working/nltk_data/corpora/omw-1.4/fra/\r\n",
      "  inflating: /kaggle/working/nltk_data/corpora/omw-1.4/fra/LICENSE  \r\n",
      "  inflating: /kaggle/working/nltk_data/corpora/omw-1.4/fra/citation.bib  \r\n",
      "  inflating: /kaggle/working/nltk_data/corpora/omw-1.4/fra/wn-data-fra.tab  \r\n",
      "   creating: /kaggle/working/nltk_data/corpora/omw-1.4/tha/\r\n",
      "  inflating: /kaggle/working/nltk_data/corpora/omw-1.4/tha/LICENSE  \r\n",
      "  inflating: /kaggle/working/nltk_data/corpora/omw-1.4/tha/citation.bib  \r\n",
      "  inflating: /kaggle/working/nltk_data/corpora/omw-1.4/tha/wn-data-tha.tab  \r\n"
     ]
    }
   ],
   "source": [
    "# Basic Libraries\n",
    "import os\n",
    "import pickle\n",
    "import time\n",
    "import numpy as np\n",
    "import pandas as pd\n",
    "import matplotlib.pyplot as plt\n",
    "import seaborn as sns\n",
    "from tqdm.notebook import tqdm\n",
    "import warnings\n",
    "warnings.filterwarnings(\"ignore\")\n",
    "\n",
    "# libraries for preprocessing\n",
    "import re\n",
    "import contractions\n",
    "from spellchecker import SpellChecker\n",
    "from sklearn.model_selection import train_test_split\n",
    "from sklearn.preprocessing import LabelEncoder\n",
    "from sklearn.feature_extraction.text import TfidfVectorizer\n",
    "\n",
    "import nltk\n",
    "nltk.download('stopwords')\n",
    "nltk.download('wordnet')\n",
    "from nltk.corpus import stopwords\n",
    "from nltk.stem import WordNetLemmatizer\n",
    "import re\n",
    "from nltk.stem import WordNetLemmatizer\n",
    "\n",
    "# initiating lemmatizer(kaggle specific):\n",
    "# Define a install path for nltk\n",
    "if os.environ.get('KAGGLE_KERNEL_RUN_TYPE', ''):\n",
    "    nltk_path='/kaggle/working'\n",
    "else:\n",
    "    nltk_path=\"{}\".format(os.getcwd())\n",
    "\n",
    "isnltk_installed = os.path.isdir(f'{nltk_path}/nltk_data/corpora/wordnet')\n",
    "\n",
    "# Install relevent libraries to nltk path\n",
    "if isnltk_installed:\n",
    "    nltk.data.path.append(f'{nltk_path}/nltk_data')\n",
    "else:\n",
    "    # Make directort name 'nlrk_data' in current work directory '/kaggle/working/'\n",
    "    !mkdir nltk_data\n",
    "    # Download neccessaty package as .zip file ('corpora' directory are automatically created)\n",
    "    nltk.download('wordnet', f\"{nltk_path}/nltk_data\")\n",
    "    nltk.download('omw-1.4', f\"{nltk_path}/nltk_data/\")\n",
    "    # Unzip .zip file in folder '/kaggle/working/nltk_data/corpora'\n",
    "    !unzip /kaggle/working/nltk_data/corpora/wordnet.zip -d /kaggle/working/nltk_data/corpora\n",
    "    !unzip /kaggle/working/nltk_data/corpora/omw-1.4.zip -d /kaggle/working/nltk_data/corpora\n",
    "    # Add custom location nltk file data path\n",
    "    nltk.data.path.append(f'{nltk_path}/nltk_data')\n",
    "\n",
    "# libraries for ML\n",
    "from sklearn.naive_bayes import MultinomialNB\n",
    "from sklearn.linear_model import LogisticRegression\n",
    "from sklearn.svm import LinearSVC, SVC\n",
    "from sklearn.neighbors import KNeighborsClassifier\n",
    "from sklearn.tree import DecisionTreeClassifier\n",
    "from sklearn.ensemble import RandomForestClassifier\n",
    "from sklearn.ensemble import GradientBoostingClassifier\n",
    "from sklearn.ensemble import StackingClassifier\n",
    "from sklearn.pipeline import Pipeline\n",
    "from sklearn.model_selection import GridSearchCV\n",
    "from sklearn.metrics import accuracy_score"
   ]
  },
  {
   "cell_type": "markdown",
   "id": "9aebb8f6",
   "metadata": {
    "papermill": {
     "duration": 0.015233,
     "end_time": "2023-06-24T16:34:49.122655",
     "exception": false,
     "start_time": "2023-06-24T16:34:49.107422",
     "status": "completed"
    },
    "tags": []
   },
   "source": [
    "## Load and Organize Data"
   ]
  },
  {
   "cell_type": "code",
   "execution_count": 3,
   "id": "ce3cd10e",
   "metadata": {
    "execution": {
     "iopub.execute_input": "2023-06-24T16:34:49.156681Z",
     "iopub.status.busy": "2023-06-24T16:34:49.156218Z",
     "iopub.status.idle": "2023-06-24T16:34:49.557635Z",
     "shell.execute_reply": "2023-06-24T16:34:49.556333Z"
    },
    "papermill": {
     "duration": 0.422698,
     "end_time": "2023-06-24T16:34:49.560752",
     "exception": false,
     "start_time": "2023-06-24T16:34:49.138054",
     "status": "completed"
    },
    "tags": []
   },
   "outputs": [
    {
     "data": {
      "text/html": [
       "<div>\n",
       "<style scoped>\n",
       "    .dataframe tbody tr th:only-of-type {\n",
       "        vertical-align: middle;\n",
       "    }\n",
       "\n",
       "    .dataframe tbody tr th {\n",
       "        vertical-align: top;\n",
       "    }\n",
       "\n",
       "    .dataframe thead th {\n",
       "        text-align: right;\n",
       "    }\n",
       "</style>\n",
       "<table border=\"1\" class=\"dataframe\">\n",
       "  <thead>\n",
       "    <tr style=\"text-align: right;\">\n",
       "      <th></th>\n",
       "      <th>UserName</th>\n",
       "      <th>ScreenName</th>\n",
       "      <th>Location</th>\n",
       "      <th>TweetAt</th>\n",
       "      <th>OriginalTweet</th>\n",
       "      <th>Sentiment</th>\n",
       "    </tr>\n",
       "  </thead>\n",
       "  <tbody>\n",
       "    <tr>\n",
       "      <th>0</th>\n",
       "      <td>3799</td>\n",
       "      <td>48751</td>\n",
       "      <td>London</td>\n",
       "      <td>16-03-2020</td>\n",
       "      <td>@MeNyrbie @Phil_Gahan @Chrisitv https://t.co/i...</td>\n",
       "      <td>Neutral</td>\n",
       "    </tr>\n",
       "    <tr>\n",
       "      <th>1</th>\n",
       "      <td>3800</td>\n",
       "      <td>48752</td>\n",
       "      <td>UK</td>\n",
       "      <td>16-03-2020</td>\n",
       "      <td>advice Talk to your neighbours family to excha...</td>\n",
       "      <td>Positive</td>\n",
       "    </tr>\n",
       "    <tr>\n",
       "      <th>2</th>\n",
       "      <td>3801</td>\n",
       "      <td>48753</td>\n",
       "      <td>Vagabonds</td>\n",
       "      <td>16-03-2020</td>\n",
       "      <td>Coronavirus Australia: Woolworths to give elde...</td>\n",
       "      <td>Positive</td>\n",
       "    </tr>\n",
       "    <tr>\n",
       "      <th>3</th>\n",
       "      <td>3802</td>\n",
       "      <td>48754</td>\n",
       "      <td>NaN</td>\n",
       "      <td>16-03-2020</td>\n",
       "      <td>My food stock is not the only one which is emp...</td>\n",
       "      <td>Positive</td>\n",
       "    </tr>\n",
       "    <tr>\n",
       "      <th>4</th>\n",
       "      <td>3803</td>\n",
       "      <td>48755</td>\n",
       "      <td>NaN</td>\n",
       "      <td>16-03-2020</td>\n",
       "      <td>Me, ready to go at supermarket during the #COV...</td>\n",
       "      <td>Extremely Negative</td>\n",
       "    </tr>\n",
       "  </tbody>\n",
       "</table>\n",
       "</div>"
      ],
      "text/plain": [
       "   UserName  ScreenName   Location     TweetAt  \\\n",
       "0      3799       48751     London  16-03-2020   \n",
       "1      3800       48752         UK  16-03-2020   \n",
       "2      3801       48753  Vagabonds  16-03-2020   \n",
       "3      3802       48754        NaN  16-03-2020   \n",
       "4      3803       48755        NaN  16-03-2020   \n",
       "\n",
       "                                       OriginalTweet           Sentiment  \n",
       "0  @MeNyrbie @Phil_Gahan @Chrisitv https://t.co/i...             Neutral  \n",
       "1  advice Talk to your neighbours family to excha...            Positive  \n",
       "2  Coronavirus Australia: Woolworths to give elde...            Positive  \n",
       "3  My food stock is not the only one which is emp...            Positive  \n",
       "4  Me, ready to go at supermarket during the #COV...  Extremely Negative  "
      ]
     },
     "execution_count": 3,
     "metadata": {},
     "output_type": "execute_result"
    }
   ],
   "source": [
    "train_data = pd.read_csv('/kaggle/input/covid-19-nlp-text-classification/Corona_NLP_train.csv',encoding='latin1')\n",
    "test_data = pd.read_csv('/kaggle/input/covid-19-nlp-text-classification/Corona_NLP_test.csv',encoding='latin1')\n",
    "\n",
    "train_data.head()"
   ]
  },
  {
   "cell_type": "code",
   "execution_count": 4,
   "id": "d06309f8",
   "metadata": {
    "execution": {
     "iopub.execute_input": "2023-06-24T16:34:49.593527Z",
     "iopub.status.busy": "2023-06-24T16:34:49.593093Z",
     "iopub.status.idle": "2023-06-24T16:34:49.623595Z",
     "shell.execute_reply": "2023-06-24T16:34:49.622172Z"
    },
    "papermill": {
     "duration": 0.050634,
     "end_time": "2023-06-24T16:34:49.626877",
     "exception": false,
     "start_time": "2023-06-24T16:34:49.576243",
     "status": "completed"
    },
    "tags": []
   },
   "outputs": [
    {
     "data": {
      "text/html": [
       "<div>\n",
       "<style scoped>\n",
       "    .dataframe tbody tr th:only-of-type {\n",
       "        vertical-align: middle;\n",
       "    }\n",
       "\n",
       "    .dataframe tbody tr th {\n",
       "        vertical-align: top;\n",
       "    }\n",
       "\n",
       "    .dataframe thead th {\n",
       "        text-align: right;\n",
       "    }\n",
       "</style>\n",
       "<table border=\"1\" class=\"dataframe\">\n",
       "  <thead>\n",
       "    <tr style=\"text-align: right;\">\n",
       "      <th></th>\n",
       "      <th>text</th>\n",
       "      <th>sentiment</th>\n",
       "    </tr>\n",
       "  </thead>\n",
       "  <tbody>\n",
       "    <tr>\n",
       "      <th>0</th>\n",
       "      <td>@MeNyrbie @Phil_Gahan @Chrisitv https://t.co/i...</td>\n",
       "      <td>Neutral</td>\n",
       "    </tr>\n",
       "    <tr>\n",
       "      <th>1</th>\n",
       "      <td>advice Talk to your neighbours family to excha...</td>\n",
       "      <td>Positive</td>\n",
       "    </tr>\n",
       "    <tr>\n",
       "      <th>2</th>\n",
       "      <td>Coronavirus Australia: Woolworths to give elde...</td>\n",
       "      <td>Positive</td>\n",
       "    </tr>\n",
       "  </tbody>\n",
       "</table>\n",
       "</div>"
      ],
      "text/plain": [
       "                                                text sentiment\n",
       "0  @MeNyrbie @Phil_Gahan @Chrisitv https://t.co/i...   Neutral\n",
       "1  advice Talk to your neighbours family to excha...  Positive\n",
       "2  Coronavirus Australia: Woolworths to give elde...  Positive"
      ]
     },
     "metadata": {},
     "output_type": "display_data"
    },
    {
     "data": {
      "text/html": [
       "<div>\n",
       "<style scoped>\n",
       "    .dataframe tbody tr th:only-of-type {\n",
       "        vertical-align: middle;\n",
       "    }\n",
       "\n",
       "    .dataframe tbody tr th {\n",
       "        vertical-align: top;\n",
       "    }\n",
       "\n",
       "    .dataframe thead th {\n",
       "        text-align: right;\n",
       "    }\n",
       "</style>\n",
       "<table border=\"1\" class=\"dataframe\">\n",
       "  <thead>\n",
       "    <tr style=\"text-align: right;\">\n",
       "      <th></th>\n",
       "      <th>text</th>\n",
       "      <th>sentiment</th>\n",
       "    </tr>\n",
       "  </thead>\n",
       "  <tbody>\n",
       "    <tr>\n",
       "      <th>0</th>\n",
       "      <td>TRENDING: New Yorkers encounter empty supermar...</td>\n",
       "      <td>Extremely Negative</td>\n",
       "    </tr>\n",
       "    <tr>\n",
       "      <th>1</th>\n",
       "      <td>When I couldn't find hand sanitizer at Fred Me...</td>\n",
       "      <td>Positive</td>\n",
       "    </tr>\n",
       "    <tr>\n",
       "      <th>2</th>\n",
       "      <td>Find out how you can protect yourself and love...</td>\n",
       "      <td>Extremely Positive</td>\n",
       "    </tr>\n",
       "  </tbody>\n",
       "</table>\n",
       "</div>"
      ],
      "text/plain": [
       "                                                text           sentiment\n",
       "0  TRENDING: New Yorkers encounter empty supermar...  Extremely Negative\n",
       "1  When I couldn't find hand sanitizer at Fred Me...            Positive\n",
       "2  Find out how you can protect yourself and love...  Extremely Positive"
      ]
     },
     "metadata": {},
     "output_type": "display_data"
    }
   ],
   "source": [
    "# keep only useful features\n",
    "train_data = pd.concat((train_data.OriginalTweet,train_data.Sentiment), axis=1, keys = ['text','sentiment'])\n",
    "test_data = pd.concat((test_data.OriginalTweet,test_data.Sentiment), axis=1, keys = ['text','sentiment'])\n",
    "\n",
    "display(train_data.head(3))\n",
    "display(test_data.head(3))"
   ]
  },
  {
   "cell_type": "code",
   "execution_count": 5,
   "id": "3e2c106e",
   "metadata": {
    "execution": {
     "iopub.execute_input": "2023-06-24T16:34:49.661548Z",
     "iopub.status.busy": "2023-06-24T16:34:49.661099Z",
     "iopub.status.idle": "2023-06-24T16:34:49.668180Z",
     "shell.execute_reply": "2023-06-24T16:34:49.667099Z"
    },
    "papermill": {
     "duration": 0.027449,
     "end_time": "2023-06-24T16:34:49.670732",
     "exception": false,
     "start_time": "2023-06-24T16:34:49.643283",
     "status": "completed"
    },
    "tags": []
   },
   "outputs": [
    {
     "data": {
      "text/plain": [
       "((41157, 2), (3798, 2))"
      ]
     },
     "execution_count": 5,
     "metadata": {},
     "output_type": "execute_result"
    }
   ],
   "source": [
    "train_data.shape, test_data.shape"
   ]
  },
  {
   "cell_type": "code",
   "execution_count": 6,
   "id": "32b705e1",
   "metadata": {
    "execution": {
     "iopub.execute_input": "2023-06-24T16:34:49.706227Z",
     "iopub.status.busy": "2023-06-24T16:34:49.704820Z",
     "iopub.status.idle": "2023-06-24T16:34:49.733659Z",
     "shell.execute_reply": "2023-06-24T16:34:49.732340Z"
    },
    "papermill": {
     "duration": 0.049881,
     "end_time": "2023-06-24T16:34:49.736547",
     "exception": false,
     "start_time": "2023-06-24T16:34:49.686666",
     "status": "completed"
    },
    "tags": []
   },
   "outputs": [
    {
     "data": {
      "text/html": [
       "<div>\n",
       "<style scoped>\n",
       "    .dataframe tbody tr th:only-of-type {\n",
       "        vertical-align: middle;\n",
       "    }\n",
       "\n",
       "    .dataframe tbody tr th {\n",
       "        vertical-align: top;\n",
       "    }\n",
       "\n",
       "    .dataframe thead th {\n",
       "        text-align: right;\n",
       "    }\n",
       "</style>\n",
       "<table border=\"1\" class=\"dataframe\">\n",
       "  <thead>\n",
       "    <tr style=\"text-align: right;\">\n",
       "      <th></th>\n",
       "      <th>train_nulls</th>\n",
       "      <th>test_nulls</th>\n",
       "    </tr>\n",
       "  </thead>\n",
       "  <tbody>\n",
       "    <tr>\n",
       "      <th>text</th>\n",
       "      <td>0</td>\n",
       "      <td>0</td>\n",
       "    </tr>\n",
       "    <tr>\n",
       "      <th>sentiment</th>\n",
       "      <td>0</td>\n",
       "      <td>0</td>\n",
       "    </tr>\n",
       "  </tbody>\n",
       "</table>\n",
       "</div>"
      ],
      "text/plain": [
       "           train_nulls  test_nulls\n",
       "text                 0           0\n",
       "sentiment            0           0"
      ]
     },
     "execution_count": 6,
     "metadata": {},
     "output_type": "execute_result"
    }
   ],
   "source": [
    "train_overview = train_data.isnull().sum()\n",
    "test_overview = test_data.isnull().sum()\n",
    "overview = pd.concat((train_overview,test_overview), axis=1, keys=['train_nulls','test_nulls'])\n",
    "overview"
   ]
  },
  {
   "cell_type": "code",
   "execution_count": 7,
   "id": "65751474",
   "metadata": {
    "execution": {
     "iopub.execute_input": "2023-06-24T16:34:49.772576Z",
     "iopub.status.busy": "2023-06-24T16:34:49.771661Z",
     "iopub.status.idle": "2023-06-24T16:34:49.791302Z",
     "shell.execute_reply": "2023-06-24T16:34:49.789854Z"
    },
    "papermill": {
     "duration": 0.04121,
     "end_time": "2023-06-24T16:34:49.794222",
     "exception": false,
     "start_time": "2023-06-24T16:34:49.753012",
     "status": "completed"
    },
    "tags": []
   },
   "outputs": [
    {
     "data": {
      "text/plain": [
       "Positive              11422\n",
       "Negative               9917\n",
       "Neutral                7713\n",
       "Extremely Positive     6624\n",
       "Extremely Negative     5481\n",
       "Name: sentiment, dtype: int64"
      ]
     },
     "execution_count": 7,
     "metadata": {},
     "output_type": "execute_result"
    }
   ],
   "source": [
    "train_data.sentiment.value_counts()"
   ]
  },
  {
   "cell_type": "code",
   "execution_count": 8,
   "id": "a7ac2157",
   "metadata": {
    "execution": {
     "iopub.execute_input": "2023-06-24T16:34:49.829429Z",
     "iopub.status.busy": "2023-06-24T16:34:49.828962Z",
     "iopub.status.idle": "2023-06-24T16:34:55.097580Z",
     "shell.execute_reply": "2023-06-24T16:34:55.096068Z"
    },
    "papermill": {
     "duration": 5.290113,
     "end_time": "2023-06-24T16:34:55.100794",
     "exception": false,
     "start_time": "2023-06-24T16:34:49.810681",
     "status": "completed"
    },
    "tags": []
   },
   "outputs": [],
   "source": [
    "# grouping labels:\n",
    "def group(data):\n",
    "    for i in range(len(data)):\n",
    "        if data.sentiment.iloc[i]=='Extremely Positive':\n",
    "            data.sentiment.iloc[i]='Positive'\n",
    "        if data.sentiment.iloc[i]=='Extremely Negative':\n",
    "            data.sentiment.iloc[i]='Negative'\n",
    "    return data\n",
    "\n",
    "train_data = group(train_data)\n",
    "test_data = group(test_data)"
   ]
  },
  {
   "cell_type": "code",
   "execution_count": 9,
   "id": "f77a6907",
   "metadata": {
    "execution": {
     "iopub.execute_input": "2023-06-24T16:34:55.136475Z",
     "iopub.status.busy": "2023-06-24T16:34:55.135952Z",
     "iopub.status.idle": "2023-06-24T16:34:55.164472Z",
     "shell.execute_reply": "2023-06-24T16:34:55.162926Z"
    },
    "papermill": {
     "duration": 0.050013,
     "end_time": "2023-06-24T16:34:55.167467",
     "exception": false,
     "start_time": "2023-06-24T16:34:55.117454",
     "status": "completed"
    },
    "tags": []
   },
   "outputs": [
    {
     "data": {
      "text/html": [
       "<div>\n",
       "<style scoped>\n",
       "    .dataframe tbody tr th:only-of-type {\n",
       "        vertical-align: middle;\n",
       "    }\n",
       "\n",
       "    .dataframe tbody tr th {\n",
       "        vertical-align: top;\n",
       "    }\n",
       "\n",
       "    .dataframe thead th {\n",
       "        text-align: right;\n",
       "    }\n",
       "</style>\n",
       "<table border=\"1\" class=\"dataframe\">\n",
       "  <thead>\n",
       "    <tr style=\"text-align: right;\">\n",
       "      <th></th>\n",
       "      <th>train_nulls</th>\n",
       "      <th>test_nulls</th>\n",
       "    </tr>\n",
       "  </thead>\n",
       "  <tbody>\n",
       "    <tr>\n",
       "      <th>text</th>\n",
       "      <td>0</td>\n",
       "      <td>0</td>\n",
       "    </tr>\n",
       "    <tr>\n",
       "      <th>sentiment</th>\n",
       "      <td>0</td>\n",
       "      <td>0</td>\n",
       "    </tr>\n",
       "  </tbody>\n",
       "</table>\n",
       "</div>"
      ],
      "text/plain": [
       "           train_nulls  test_nulls\n",
       "text                 0           0\n",
       "sentiment            0           0"
      ]
     },
     "execution_count": 9,
     "metadata": {},
     "output_type": "execute_result"
    }
   ],
   "source": [
    "train_overview = train_data.isnull().sum()\n",
    "test_overview = test_data.isnull().sum()\n",
    "overview = pd.concat((train_overview,test_overview), axis=1, keys=['train_nulls','test_nulls'])\n",
    "overview"
   ]
  },
  {
   "cell_type": "code",
   "execution_count": 10,
   "id": "ef342766",
   "metadata": {
    "execution": {
     "iopub.execute_input": "2023-06-24T16:34:55.204471Z",
     "iopub.status.busy": "2023-06-24T16:34:55.203116Z",
     "iopub.status.idle": "2023-06-24T16:34:55.210390Z",
     "shell.execute_reply": "2023-06-24T16:34:55.209342Z"
    },
    "papermill": {
     "duration": 0.029254,
     "end_time": "2023-06-24T16:34:55.213380",
     "exception": false,
     "start_time": "2023-06-24T16:34:55.184126",
     "status": "completed"
    },
    "tags": []
   },
   "outputs": [],
   "source": [
    "# orgnaize data\n",
    "x_train = train_data.text.values\n",
    "y_train = train_data.sentiment.values\n",
    "\n",
    "x_test = test_data.text.values\n",
    "y_test = test_data.sentiment.values"
   ]
  },
  {
   "cell_type": "code",
   "execution_count": 11,
   "id": "7ae0bd20",
   "metadata": {
    "execution": {
     "iopub.execute_input": "2023-06-24T16:34:55.249919Z",
     "iopub.status.busy": "2023-06-24T16:34:55.249070Z",
     "iopub.status.idle": "2023-06-24T16:34:55.255798Z",
     "shell.execute_reply": "2023-06-24T16:34:55.254836Z"
    },
    "papermill": {
     "duration": 0.028189,
     "end_time": "2023-06-24T16:34:55.258809",
     "exception": false,
     "start_time": "2023-06-24T16:34:55.230620",
     "status": "completed"
    },
    "tags": []
   },
   "outputs": [
    {
     "data": {
      "text/plain": [
       "'People posting and sharing photos of of half to completely empty shelves calling those people \"dumb\" or \"idiots.\" All while shopping at the grocery store. lol\\r\\r\\n\\r\\r\\n#coronavirus #COVID19'"
      ]
     },
     "execution_count": 11,
     "metadata": {},
     "output_type": "execute_result"
    }
   ],
   "source": [
    "# checking a text before cleaning:\n",
    "x_train[47]"
   ]
  },
  {
   "cell_type": "markdown",
   "id": "c331a06f",
   "metadata": {
    "papermill": {
     "duration": 0.017672,
     "end_time": "2023-06-24T16:34:55.293371",
     "exception": false,
     "start_time": "2023-06-24T16:34:55.275699",
     "status": "completed"
    },
    "tags": []
   },
   "source": [
    "## Textual Preprocessing\n",
    "* **Hashtag**, **Mention** and **URL** Removal \n",
    "* Punctuation removal:\n",
    "    * **Apostrophe**\n",
    "    * **Special Characters**\n",
    "    * **Numbers**\n",
    "* **Formatting Symbols** and **Escape character** removal\n",
    "* **Lowercasing**\n",
    "* **Redundant Spaces** removal"
   ]
  },
  {
   "cell_type": "code",
   "execution_count": 12,
   "id": "8b3be1b4",
   "metadata": {
    "execution": {
     "iopub.execute_input": "2023-06-24T16:34:55.331427Z",
     "iopub.status.busy": "2023-06-24T16:34:55.330655Z",
     "iopub.status.idle": "2023-06-24T16:34:55.349662Z",
     "shell.execute_reply": "2023-06-24T16:34:55.348252Z"
    },
    "papermill": {
     "duration": 0.041752,
     "end_time": "2023-06-24T16:34:55.353097",
     "exception": false,
     "start_time": "2023-06-24T16:34:55.311345",
     "status": "completed"
    },
    "tags": []
   },
   "outputs": [],
   "source": [
    "# function for NLP:\n",
    "def nlp(text):\n",
    "  def remove_emoji(text):\n",
    "    emoji_pattern = re.compile(\n",
    "      '['\n",
    "      u'\\U0001F600-\\U0001F64F'  # emoticons\n",
    "      u'\\U0001F300-\\U0001F5FF'  # symbols & pictographs\n",
    "      u'\\U0001F680-\\U0001F6FF'  # transport & map symbols\n",
    "      u'\\U0001F1E0-\\U0001F1FF'  # flags\n",
    "      u'\\U00002702-\\U000027B0'\n",
    "      u'\\U000024C2-\\U0001F251'\n",
    "      ']+',\n",
    "      flags=re.UNICODE)\n",
    "    return emoji_pattern.sub(r'', text)\n",
    "  def lemmatize(text):\n",
    "    lemmatizer = WordNetLemmatizer()\n",
    "    words = text.split()\n",
    "    words = ' '.join([lemmatizer.lemmatize(word) for word in words if word not in stopwords.words('english')])\n",
    "    return words\n",
    "  text = remove_emoji(text)\n",
    "  text = str(text).lower()\n",
    "  text = re.sub(r'https?://\\S+|www\\.\\S+', '', text)\n",
    "  text = re.sub(r'RT[\\s]+', '', text)\n",
    "  text = re.sub(r'@\\S+', '', text)\n",
    "  text = re.sub(r'#', '', text)\n",
    "  text = re.sub(r'\\[', '', text)\n",
    "  text = re.sub(r'\\]', '', text)\n",
    "  text = re.sub('â\\\\x92', \"'\", text)\n",
    "  text = re.sub('â\\S+', '', text)\n",
    "  text = re.sub('\\.+', '.', text)\n",
    "  text = re.sub('&amp;', 'and', text)\n",
    "  text = re.sub(\"let's\", 'let us', text)\n",
    "  text = re.sub(\"'s\", ' is', text)\n",
    "  text = re.sub(\"'re\", ' are', text)\n",
    "  text = re.sub(\"ain't\", 'am not', text)\n",
    "  text = re.sub(\"won't\", 'will not', text)\n",
    "  text = re.sub(\"n't\", ' not', text)\n",
    "  text = re.sub(\"'ve\", ' have', text)\n",
    "  text = re.sub(\"y'all\", \"you all\", text)\n",
    "  text = re.sub(\"'ll\", ' will', text)\n",
    "  text = re.sub(\"i'd\", 'i would', text)\n",
    "  text = re.sub(\"i'm\", 'i am', text)\n",
    "  text = re.sub(r\"[^a-z<>!?\\s]+\", '', text)\n",
    "  text = re.sub('covid\\S*', 'coronavirus', text)\n",
    "  text = re.sub('corona\\S*', 'coronavirus', text)\n",
    "  text = re.sub(r'\\s+', ' ', text)\n",
    "  text = lemmatize(text)\n",
    "  return text"
   ]
  },
  {
   "cell_type": "code",
   "execution_count": 13,
   "id": "287cd192",
   "metadata": {
    "execution": {
     "iopub.execute_input": "2023-06-24T16:34:55.390784Z",
     "iopub.status.busy": "2023-06-24T16:34:55.389248Z",
     "iopub.status.idle": "2023-06-24T16:38:49.934764Z",
     "shell.execute_reply": "2023-06-24T16:38:49.933120Z"
    },
    "papermill": {
     "duration": 234.567912,
     "end_time": "2023-06-24T16:38:49.937984",
     "exception": false,
     "start_time": "2023-06-24T16:34:55.370072",
     "status": "completed"
    },
    "tags": []
   },
   "outputs": [
    {
     "data": {
      "application/vnd.jupyter.widget-view+json": {
       "model_id": "1f3cd872ecf14a74af0c652987223b1b",
       "version_major": 2,
       "version_minor": 0
      },
      "text/plain": [
       "Progress:   0%|          | 0/41157 [00:00<?, ?it/s]"
      ]
     },
     "metadata": {},
     "output_type": "display_data"
    },
    {
     "data": {
      "application/vnd.jupyter.widget-view+json": {
       "model_id": "5a561b094fc740dfb8f60766684727c6",
       "version_major": 2,
       "version_minor": 0
      },
      "text/plain": [
       "Progress:   0%|          | 0/3798 [00:00<?, ?it/s]"
      ]
     },
     "metadata": {},
     "output_type": "display_data"
    }
   ],
   "source": [
    "# cleaning texts\n",
    "x_train_clean = np.array([nlp(text) for text in tqdm(x_train, desc='Progress')])\n",
    "x_test_clean = np.array([nlp(sent) for sent in tqdm(x_test, desc='Progress')])"
   ]
  },
  {
   "cell_type": "code",
   "execution_count": 14,
   "id": "dafec48d",
   "metadata": {
    "execution": {
     "iopub.execute_input": "2023-06-24T16:38:49.976635Z",
     "iopub.status.busy": "2023-06-24T16:38:49.976161Z",
     "iopub.status.idle": "2023-06-24T16:38:49.985513Z",
     "shell.execute_reply": "2023-06-24T16:38:49.983887Z"
    },
    "papermill": {
     "duration": 0.032554,
     "end_time": "2023-06-24T16:38:49.988623",
     "exception": false,
     "start_time": "2023-06-24T16:38:49.956069",
     "status": "completed"
    },
    "tags": []
   },
   "outputs": [
    {
     "data": {
      "text/plain": [
       "'people posting sharing photo half completely empty shelf calling people dumb idiot shopping grocery store lol coronavirus coronavirus'"
      ]
     },
     "execution_count": 14,
     "metadata": {},
     "output_type": "execute_result"
    }
   ],
   "source": [
    "# checking tweet after cleaning:\n",
    "x_train_clean[47]"
   ]
  },
  {
   "cell_type": "markdown",
   "id": "b2a8d819",
   "metadata": {
    "papermill": {
     "duration": 0.017767,
     "end_time": "2023-06-24T16:38:50.024320",
     "exception": false,
     "start_time": "2023-06-24T16:38:50.006553",
     "status": "completed"
    },
    "tags": []
   },
   "source": [
    "## Vectorization\n",
    "##### (We are using TF-IDF Vectorization method)"
   ]
  },
  {
   "cell_type": "code",
   "execution_count": 15,
   "id": "226ad93f",
   "metadata": {
    "execution": {
     "iopub.execute_input": "2023-06-24T16:38:50.066146Z",
     "iopub.status.busy": "2023-06-24T16:38:50.065702Z",
     "iopub.status.idle": "2023-06-24T16:38:53.716296Z",
     "shell.execute_reply": "2023-06-24T16:38:53.714988Z"
    },
    "papermill": {
     "duration": 3.6761,
     "end_time": "2023-06-24T16:38:53.719552",
     "exception": false,
     "start_time": "2023-06-24T16:38:50.043452",
     "status": "completed"
    },
    "tags": []
   },
   "outputs": [
    {
     "data": {
      "text/plain": [
       "(<41157x80424 sparse matrix of type '<class 'numpy.float64'>'\n",
       " \twith 653364 stored elements in Compressed Sparse Row format>,\n",
       " <3798x80424 sparse matrix of type '<class 'numpy.float64'>'\n",
       " \twith 61710 stored elements in Compressed Sparse Row format>)"
      ]
     },
     "execution_count": 15,
     "metadata": {},
     "output_type": "execute_result"
    }
   ],
   "source": [
    "tfidf = TfidfVectorizer()\n",
    "tfidf.fit(x_train)\n",
    "x_train_ready = tfidf.transform(x_train_clean)\n",
    "x_test_ready = tfidf.transform(x_test_clean)\n",
    "\n",
    "x_train_ready, x_test_ready"
   ]
  },
  {
   "cell_type": "markdown",
   "id": "53ea0202",
   "metadata": {
    "papermill": {
     "duration": 0.017081,
     "end_time": "2023-06-24T16:38:53.754224",
     "exception": false,
     "start_time": "2023-06-24T16:38:53.737143",
     "status": "completed"
    },
    "tags": []
   },
   "source": [
    "## Label Encoding"
   ]
  },
  {
   "cell_type": "code",
   "execution_count": 16,
   "id": "5a0021ef",
   "metadata": {
    "execution": {
     "iopub.execute_input": "2023-06-24T16:38:53.791552Z",
     "iopub.status.busy": "2023-06-24T16:38:53.790742Z",
     "iopub.status.idle": "2023-06-24T16:38:53.815588Z",
     "shell.execute_reply": "2023-06-24T16:38:53.814014Z"
    },
    "papermill": {
     "duration": 0.047318,
     "end_time": "2023-06-24T16:38:53.818880",
     "exception": false,
     "start_time": "2023-06-24T16:38:53.771562",
     "status": "completed"
    },
    "tags": []
   },
   "outputs": [],
   "source": [
    "enc = LabelEncoder()\n",
    "enc.fit(y_train)\n",
    "y_train_ready = enc.transform(y_train)\n",
    "y_test_ready = enc.transform(y_test)"
   ]
  },
  {
   "cell_type": "code",
   "execution_count": 17,
   "id": "63172aac",
   "metadata": {
    "execution": {
     "iopub.execute_input": "2023-06-24T16:38:53.856525Z",
     "iopub.status.busy": "2023-06-24T16:38:53.856085Z",
     "iopub.status.idle": "2023-06-24T16:38:53.864126Z",
     "shell.execute_reply": "2023-06-24T16:38:53.862759Z"
    },
    "papermill": {
     "duration": 0.030126,
     "end_time": "2023-06-24T16:38:53.866882",
     "exception": false,
     "start_time": "2023-06-24T16:38:53.836756",
     "status": "completed"
    },
    "tags": []
   },
   "outputs": [
    {
     "data": {
      "text/plain": [
       "array(['Negative', 'Neutral', 'Positive'], dtype=object)"
      ]
     },
     "execution_count": 17,
     "metadata": {},
     "output_type": "execute_result"
    }
   ],
   "source": [
    "enc.classes_"
   ]
  },
  {
   "cell_type": "markdown",
   "id": "f45574c8",
   "metadata": {
    "papermill": {
     "duration": 0.017466,
     "end_time": "2023-06-24T16:38:53.902458",
     "exception": false,
     "start_time": "2023-06-24T16:38:53.884992",
     "status": "completed"
    },
    "tags": []
   },
   "source": [
    "## Hyperparameter Tuning and Model Selection\n",
    "#### (Using GridSearchCV)"
   ]
  },
  {
   "cell_type": "code",
   "execution_count": 18,
   "id": "38707067",
   "metadata": {
    "execution": {
     "iopub.execute_input": "2023-06-24T16:38:53.941083Z",
     "iopub.status.busy": "2023-06-24T16:38:53.940554Z",
     "iopub.status.idle": "2023-06-24T16:38:53.958749Z",
     "shell.execute_reply": "2023-06-24T16:38:53.957247Z"
    },
    "papermill": {
     "duration": 0.040974,
     "end_time": "2023-06-24T16:38:53.962141",
     "exception": false,
     "start_time": "2023-06-24T16:38:53.921167",
     "status": "completed"
    },
    "tags": []
   },
   "outputs": [],
   "source": [
    "# function for fitting tuning and result generation:\n",
    "\n",
    "def result_grid(x_train, y_train, x_test, y_test):\n",
    "    model_param_grid={\n",
    "        'Logistic Regression':(LogisticRegression(max_iter=10000),{'penalty': ['l1','l2'],'solver': ['liblinear']}),\n",
    "        'KNN':(KNeighborsClassifier(),{'n_neighbors': [3, 5, 7]}),\n",
    "        'Naive Bayes':(MultinomialNB(),{'alpha': [0.1, 1.0, 10.0], 'fit_prior': [True,False]}),\n",
    "        'SVM':(LinearSVC(max_iter=10000),{'C': [0.1, 1.0, 10.0], 'penalty':['l1','l2']}),\n",
    "#         'Decision Tree':(DecisionTreeClassifier(),{'criterion': ['gini','entropy'], 'splitter':['best','random']})\n",
    "    }\n",
    "    \n",
    "    results=[]\n",
    "    \n",
    "    for name, (model,parameters) in model_param_grid.items():\n",
    "        grid=GridSearchCV(model,parameters)\n",
    "        \n",
    "        print(f\"Tuning for {name}\")\n",
    "        \n",
    "        st=time.time()\n",
    "        \n",
    "        grid.fit(x_train,y_train) # fitting in GridSearchCV\n",
    "        y_pred=grid.predict(x_test) # predicts using best hyperparameters\n",
    "        acc=accuracy_score(y_test,y_pred) # best accuracy obtained\n",
    "        \n",
    "        en=time.time()\n",
    "        \n",
    "        net_time=en-st\n",
    "        \n",
    "        # printing best parameters:\n",
    "        print(f\"Best hyperparameters for {name}: {grid.best_params_}\")\n",
    "        print(f\"Best obtined score for {name}: {grid.best_score_*100:.3f}%\")\n",
    "        print(f\"Running time for {name}:{net_time:.3f}s\")\n",
    "        \n",
    "        results.append([name,grid.best_params_,grid.best_score_*100,net_time])\n",
    "        print('-'*100)\n",
    "        print()\n",
    "    \n",
    "    result_df=pd.DataFrame(results, columns=['model_name','best_parameters','best_test_score','running_time'])\n",
    "    result_df=result_df.style.highlight_max(subset=['best_test_score'], color = 'green')\n",
    "    result_df=result_df.highlight_min(subset=['best_test_score'], color = 'red')\n",
    "    result_df=result_df.highlight_max(subset=['running_time'], color = 'red')\n",
    "    result_df=result_df.highlight_min(subset=['running_time'], color = 'green')\n",
    "    return result_df"
   ]
  },
  {
   "cell_type": "code",
   "execution_count": 19,
   "id": "f87bbd0b",
   "metadata": {
    "execution": {
     "iopub.execute_input": "2023-06-24T16:38:54.000142Z",
     "iopub.status.busy": "2023-06-24T16:38:53.999610Z",
     "iopub.status.idle": "2023-06-24T16:43:08.389809Z",
     "shell.execute_reply": "2023-06-24T16:43:08.388660Z"
    },
    "papermill": {
     "duration": 254.429248,
     "end_time": "2023-06-24T16:43:08.409295",
     "exception": false,
     "start_time": "2023-06-24T16:38:53.980047",
     "status": "completed"
    },
    "tags": []
   },
   "outputs": [
    {
     "name": "stdout",
     "output_type": "stream",
     "text": [
      "Tuning for Logistic Regression\n",
      "Best hyperparameters for Logistic Regression: {'penalty': 'l1', 'solver': 'liblinear'}\n",
      "Best obtined score for Logistic Regression: 81.843%\n",
      "Running time for Logistic Regression:18.974s\n",
      "----------------------------------------------------------------------------------------------------\n",
      "\n",
      "Tuning for KNN\n",
      "Best hyperparameters for KNN: {'n_neighbors': 3}\n",
      "Best obtined score for KNN: 20.842%\n",
      "Running time for KNN:194.095s\n",
      "----------------------------------------------------------------------------------------------------\n",
      "\n",
      "Tuning for Naive Bayes\n",
      "Best hyperparameters for Naive Bayes: {'alpha': 0.1, 'fit_prior': False}\n",
      "Best obtined score for Naive Bayes: 65.977%\n",
      "Running time for Naive Bayes:0.696s\n",
      "----------------------------------------------------------------------------------------------------\n",
      "\n",
      "Tuning for SVM\n",
      "Best hyperparameters for SVM: {'C': 1.0, 'penalty': 'l2'}\n",
      "Best obtined score for SVM: 79.299%\n",
      "Running time for SVM:40.497s\n",
      "----------------------------------------------------------------------------------------------------\n",
      "\n",
      "CPU times: user 3min 38s, sys: 1min 12s, total: 4min 51s\n",
      "Wall time: 4min 14s\n"
     ]
    },
    {
     "data": {
      "text/html": [
       "<style type=\"text/css\">\n",
       "#T_2b752_row0_col2, #T_2b752_row2_col3 {\n",
       "  background-color: green;\n",
       "}\n",
       "#T_2b752_row1_col2, #T_2b752_row1_col3 {\n",
       "  background-color: red;\n",
       "}\n",
       "</style>\n",
       "<table id=\"T_2b752_\">\n",
       "  <thead>\n",
       "    <tr>\n",
       "      <th class=\"blank level0\" >&nbsp;</th>\n",
       "      <th class=\"col_heading level0 col0\" >model_name</th>\n",
       "      <th class=\"col_heading level0 col1\" >best_parameters</th>\n",
       "      <th class=\"col_heading level0 col2\" >best_test_score</th>\n",
       "      <th class=\"col_heading level0 col3\" >running_time</th>\n",
       "    </tr>\n",
       "  </thead>\n",
       "  <tbody>\n",
       "    <tr>\n",
       "      <th id=\"T_2b752_level0_row0\" class=\"row_heading level0 row0\" >0</th>\n",
       "      <td id=\"T_2b752_row0_col0\" class=\"data row0 col0\" >Logistic Regression</td>\n",
       "      <td id=\"T_2b752_row0_col1\" class=\"data row0 col1\" >{'penalty': 'l1', 'solver': 'liblinear'}</td>\n",
       "      <td id=\"T_2b752_row0_col2\" class=\"data row0 col2\" >81.842715</td>\n",
       "      <td id=\"T_2b752_row0_col3\" class=\"data row0 col3\" >18.973832</td>\n",
       "    </tr>\n",
       "    <tr>\n",
       "      <th id=\"T_2b752_level0_row1\" class=\"row_heading level0 row1\" >1</th>\n",
       "      <td id=\"T_2b752_row1_col0\" class=\"data row1 col0\" >KNN</td>\n",
       "      <td id=\"T_2b752_row1_col1\" class=\"data row1 col1\" >{'n_neighbors': 3}</td>\n",
       "      <td id=\"T_2b752_row1_col2\" class=\"data row1 col2\" >20.842153</td>\n",
       "      <td id=\"T_2b752_row1_col3\" class=\"data row1 col3\" >194.095217</td>\n",
       "    </tr>\n",
       "    <tr>\n",
       "      <th id=\"T_2b752_level0_row2\" class=\"row_heading level0 row2\" >2</th>\n",
       "      <td id=\"T_2b752_row2_col0\" class=\"data row2 col0\" >Naive Bayes</td>\n",
       "      <td id=\"T_2b752_row2_col1\" class=\"data row2 col1\" >{'alpha': 0.1, 'fit_prior': False}</td>\n",
       "      <td id=\"T_2b752_row2_col2\" class=\"data row2 col2\" >65.976603</td>\n",
       "      <td id=\"T_2b752_row2_col3\" class=\"data row2 col3\" >0.696015</td>\n",
       "    </tr>\n",
       "    <tr>\n",
       "      <th id=\"T_2b752_level0_row3\" class=\"row_heading level0 row3\" >3</th>\n",
       "      <td id=\"T_2b752_row3_col0\" class=\"data row3 col0\" >SVM</td>\n",
       "      <td id=\"T_2b752_row3_col1\" class=\"data row3 col1\" >{'C': 1.0, 'penalty': 'l2'}</td>\n",
       "      <td id=\"T_2b752_row3_col2\" class=\"data row3 col2\" >79.298780</td>\n",
       "      <td id=\"T_2b752_row3_col3\" class=\"data row3 col3\" >40.496924</td>\n",
       "    </tr>\n",
       "  </tbody>\n",
       "</table>\n"
      ],
      "text/plain": [
       "<pandas.io.formats.style.Styler at 0x7bbff68060d0>"
      ]
     },
     "execution_count": 19,
     "metadata": {},
     "output_type": "execute_result"
    }
   ],
   "source": [
    "%%time\n",
    "result_df=result_grid(x_train_ready,y_train_ready,x_test_ready,y_test_ready)\n",
    "result_df"
   ]
  },
  {
   "cell_type": "markdown",
   "id": "cb36d0d8",
   "metadata": {
    "papermill": {
     "duration": 0.018572,
     "end_time": "2023-06-24T16:43:08.446832",
     "exception": false,
     "start_time": "2023-06-24T16:43:08.428260",
     "status": "completed"
    },
    "tags": []
   },
   "source": [
    "***Logistic Regression performed best for our data.***"
   ]
  },
  {
   "cell_type": "markdown",
   "id": "46eb4604",
   "metadata": {
    "papermill": {
     "duration": 0.018942,
     "end_time": "2023-06-24T16:43:08.484822",
     "exception": false,
     "start_time": "2023-06-24T16:43:08.465880",
     "status": "completed"
    },
    "tags": []
   },
   "source": [
    "## Create pipeline and save model"
   ]
  },
  {
   "cell_type": "code",
   "execution_count": 20,
   "id": "3e47dddc",
   "metadata": {
    "execution": {
     "iopub.execute_input": "2023-06-24T16:43:08.524412Z",
     "iopub.status.busy": "2023-06-24T16:43:08.523632Z",
     "iopub.status.idle": "2023-06-24T16:43:09.640705Z",
     "shell.execute_reply": "2023-06-24T16:43:09.639145Z"
    },
    "papermill": {
     "duration": 1.140399,
     "end_time": "2023-06-24T16:43:09.643813",
     "exception": false,
     "start_time": "2023-06-24T16:43:08.503414",
     "status": "completed"
    },
    "tags": []
   },
   "outputs": [
    {
     "data": {
      "text/plain": [
       "0.8120063191153238"
      ]
     },
     "execution_count": 20,
     "metadata": {},
     "output_type": "execute_result"
    }
   ],
   "source": [
    "best_clf = LogisticRegression(penalty='l1', solver='liblinear')\n",
    "best_clf.fit(x_train_ready,y_train_ready)\n",
    "best_clf.score(x_test_ready,y_test_ready)"
   ]
  },
  {
   "cell_type": "code",
   "execution_count": 21,
   "id": "51aab604",
   "metadata": {
    "execution": {
     "iopub.execute_input": "2023-06-24T16:43:09.683779Z",
     "iopub.status.busy": "2023-06-24T16:43:09.683252Z",
     "iopub.status.idle": "2023-06-24T16:43:09.817519Z",
     "shell.execute_reply": "2023-06-24T16:43:09.816177Z"
    },
    "papermill": {
     "duration": 0.157753,
     "end_time": "2023-06-24T16:43:09.820327",
     "exception": false,
     "start_time": "2023-06-24T16:43:09.662574",
     "status": "completed"
    },
    "tags": []
   },
   "outputs": [
    {
     "data": {
      "text/plain": [
       "0.8120063191153238"
      ]
     },
     "execution_count": 21,
     "metadata": {},
     "output_type": "execute_result"
    }
   ],
   "source": [
    "model = Pipeline([('vectorizer',tfidf),('classifier',best_clf)])\n",
    "model.score(x_test_clean,y_test_ready)"
   ]
  },
  {
   "cell_type": "code",
   "execution_count": 22,
   "id": "66a257a6",
   "metadata": {
    "execution": {
     "iopub.execute_input": "2023-06-24T16:43:09.860404Z",
     "iopub.status.busy": "2023-06-24T16:43:09.859563Z",
     "iopub.status.idle": "2023-06-24T16:43:09.902893Z",
     "shell.execute_reply": "2023-06-24T16:43:09.901279Z"
    },
    "papermill": {
     "duration": 0.067261,
     "end_time": "2023-06-24T16:43:09.906214",
     "exception": false,
     "start_time": "2023-06-24T16:43:09.838953",
     "status": "completed"
    },
    "tags": []
   },
   "outputs": [],
   "source": [
    "# save model and encoder:\n",
    "pickle.dump(model, open('/kaggle/working/model.pkl','wb'))\n",
    "pickle.dump(enc, open('/kaggle/working/encoder.pkl','wb'))"
   ]
  },
  {
   "cell_type": "markdown",
   "id": "4723bc16",
   "metadata": {
    "papermill": {
     "duration": 0.019662,
     "end_time": "2023-06-24T16:43:09.945355",
     "exception": false,
     "start_time": "2023-06-24T16:43:09.925693",
     "status": "completed"
    },
    "tags": []
   },
   "source": [
    "## Ground testing"
   ]
  },
  {
   "cell_type": "code",
   "execution_count": 23,
   "id": "c4ea33fe",
   "metadata": {
    "execution": {
     "iopub.execute_input": "2023-06-24T16:43:09.986416Z",
     "iopub.status.busy": "2023-06-24T16:43:09.985438Z",
     "iopub.status.idle": "2023-06-24T16:43:09.993223Z",
     "shell.execute_reply": "2023-06-24T16:43:09.991622Z"
    },
    "papermill": {
     "duration": 0.032353,
     "end_time": "2023-06-24T16:43:09.996696",
     "exception": false,
     "start_time": "2023-06-24T16:43:09.964343",
     "status": "completed"
    },
    "tags": []
   },
   "outputs": [],
   "source": [
    "def predict(text):\n",
    "    pred = model.predict([nlp(text)])\n",
    "    return enc.inverse_transform(pred)[0]"
   ]
  },
  {
   "cell_type": "code",
   "execution_count": 24,
   "id": "972d85cf",
   "metadata": {
    "execution": {
     "iopub.execute_input": "2023-06-24T16:43:10.038477Z",
     "iopub.status.busy": "2023-06-24T16:43:10.037249Z",
     "iopub.status.idle": "2023-06-24T16:43:10.054003Z",
     "shell.execute_reply": "2023-06-24T16:43:10.052494Z"
    },
    "papermill": {
     "duration": 0.040213,
     "end_time": "2023-06-24T16:43:10.056859",
     "exception": false,
     "start_time": "2023-06-24T16:43:10.016646",
     "status": "completed"
    },
    "tags": []
   },
   "outputs": [
    {
     "data": {
      "text/plain": [
       "('Positive', 'Neutral')"
      ]
     },
     "execution_count": 24,
     "metadata": {},
     "output_type": "execute_result"
    }
   ],
   "source": [
    "predict('I am glad that we are safe!'), predict('you dumbass!')"
   ]
  }
 ],
 "metadata": {
  "kernelspec": {
   "display_name": "Python 3",
   "language": "python",
   "name": "python3"
  },
  "language_info": {
   "codemirror_mode": {
    "name": "ipython",
    "version": 3
   },
   "file_extension": ".py",
   "mimetype": "text/x-python",
   "name": "python",
   "nbconvert_exporter": "python",
   "pygments_lexer": "ipython3",
   "version": "3.7.12"
  },
  "papermill": {
   "default_parameters": {},
   "duration": 570.183374,
   "end_time": "2023-06-24T16:43:11.307363",
   "environment_variables": {},
   "exception": null,
   "input_path": "__notebook__.ipynb",
   "output_path": "__notebook__.ipynb",
   "parameters": {},
   "start_time": "2023-06-24T16:33:41.123989",
   "version": "2.4.0"
  },
  "widgets": {
   "application/vnd.jupyter.widget-state+json": {
    "state": {
     "04badec6741a4de99beb1b1e89d33e1f": {
      "model_module": "@jupyter-widgets/controls",
      "model_module_version": "1.5.0",
      "model_name": "DescriptionStyleModel",
      "state": {
       "_model_module": "@jupyter-widgets/controls",
       "_model_module_version": "1.5.0",
       "_model_name": "DescriptionStyleModel",
       "_view_count": null,
       "_view_module": "@jupyter-widgets/base",
       "_view_module_version": "1.2.0",
       "_view_name": "StyleView",
       "description_width": ""
      }
     },
     "0d2b8f02ca9842c6b4172c0fb3194679": {
      "model_module": "@jupyter-widgets/controls",
      "model_module_version": "1.5.0",
      "model_name": "FloatProgressModel",
      "state": {
       "_dom_classes": [],
       "_model_module": "@jupyter-widgets/controls",
       "_model_module_version": "1.5.0",
       "_model_name": "FloatProgressModel",
       "_view_count": null,
       "_view_module": "@jupyter-widgets/controls",
       "_view_module_version": "1.5.0",
       "_view_name": "ProgressView",
       "bar_style": "success",
       "description": "",
       "description_tooltip": null,
       "layout": "IPY_MODEL_d2f16807738a41b78709131e9608e993",
       "max": 41157.0,
       "min": 0.0,
       "orientation": "horizontal",
       "style": "IPY_MODEL_5b8d19e66dd049bab0038b953e098b4d",
       "value": 41157.0
      }
     },
     "1f3cd872ecf14a74af0c652987223b1b": {
      "model_module": "@jupyter-widgets/controls",
      "model_module_version": "1.5.0",
      "model_name": "HBoxModel",
      "state": {
       "_dom_classes": [],
       "_model_module": "@jupyter-widgets/controls",
       "_model_module_version": "1.5.0",
       "_model_name": "HBoxModel",
       "_view_count": null,
       "_view_module": "@jupyter-widgets/controls",
       "_view_module_version": "1.5.0",
       "_view_name": "HBoxView",
       "box_style": "",
       "children": [
        "IPY_MODEL_3ab834ba37334f31bf07767fa4597660",
        "IPY_MODEL_0d2b8f02ca9842c6b4172c0fb3194679",
        "IPY_MODEL_a820802fa1dc4cb783c62f13e31eda08"
       ],
       "layout": "IPY_MODEL_e00e8311628f4296ae7fa1a6d085d437"
      }
     },
     "288e5e8563d94cc6a4fe62c0aff8266f": {
      "model_module": "@jupyter-widgets/base",
      "model_module_version": "1.2.0",
      "model_name": "LayoutModel",
      "state": {
       "_model_module": "@jupyter-widgets/base",
       "_model_module_version": "1.2.0",
       "_model_name": "LayoutModel",
       "_view_count": null,
       "_view_module": "@jupyter-widgets/base",
       "_view_module_version": "1.2.0",
       "_view_name": "LayoutView",
       "align_content": null,
       "align_items": null,
       "align_self": null,
       "border": null,
       "bottom": null,
       "display": null,
       "flex": null,
       "flex_flow": null,
       "grid_area": null,
       "grid_auto_columns": null,
       "grid_auto_flow": null,
       "grid_auto_rows": null,
       "grid_column": null,
       "grid_gap": null,
       "grid_row": null,
       "grid_template_areas": null,
       "grid_template_columns": null,
       "grid_template_rows": null,
       "height": null,
       "justify_content": null,
       "justify_items": null,
       "left": null,
       "margin": null,
       "max_height": null,
       "max_width": null,
       "min_height": null,
       "min_width": null,
       "object_fit": null,
       "object_position": null,
       "order": null,
       "overflow": null,
       "overflow_x": null,
       "overflow_y": null,
       "padding": null,
       "right": null,
       "top": null,
       "visibility": null,
       "width": null
      }
     },
     "2de764ce975e451382e21aecd707fe9a": {
      "model_module": "@jupyter-widgets/controls",
      "model_module_version": "1.5.0",
      "model_name": "DescriptionStyleModel",
      "state": {
       "_model_module": "@jupyter-widgets/controls",
       "_model_module_version": "1.5.0",
       "_model_name": "DescriptionStyleModel",
       "_view_count": null,
       "_view_module": "@jupyter-widgets/base",
       "_view_module_version": "1.2.0",
       "_view_name": "StyleView",
       "description_width": ""
      }
     },
     "2edf1641fc374e03af7248097d06274c": {
      "model_module": "@jupyter-widgets/base",
      "model_module_version": "1.2.0",
      "model_name": "LayoutModel",
      "state": {
       "_model_module": "@jupyter-widgets/base",
       "_model_module_version": "1.2.0",
       "_model_name": "LayoutModel",
       "_view_count": null,
       "_view_module": "@jupyter-widgets/base",
       "_view_module_version": "1.2.0",
       "_view_name": "LayoutView",
       "align_content": null,
       "align_items": null,
       "align_self": null,
       "border": null,
       "bottom": null,
       "display": null,
       "flex": null,
       "flex_flow": null,
       "grid_area": null,
       "grid_auto_columns": null,
       "grid_auto_flow": null,
       "grid_auto_rows": null,
       "grid_column": null,
       "grid_gap": null,
       "grid_row": null,
       "grid_template_areas": null,
       "grid_template_columns": null,
       "grid_template_rows": null,
       "height": null,
       "justify_content": null,
       "justify_items": null,
       "left": null,
       "margin": null,
       "max_height": null,
       "max_width": null,
       "min_height": null,
       "min_width": null,
       "object_fit": null,
       "object_position": null,
       "order": null,
       "overflow": null,
       "overflow_x": null,
       "overflow_y": null,
       "padding": null,
       "right": null,
       "top": null,
       "visibility": null,
       "width": null
      }
     },
     "3ab834ba37334f31bf07767fa4597660": {
      "model_module": "@jupyter-widgets/controls",
      "model_module_version": "1.5.0",
      "model_name": "HTMLModel",
      "state": {
       "_dom_classes": [],
       "_model_module": "@jupyter-widgets/controls",
       "_model_module_version": "1.5.0",
       "_model_name": "HTMLModel",
       "_view_count": null,
       "_view_module": "@jupyter-widgets/controls",
       "_view_module_version": "1.5.0",
       "_view_name": "HTMLView",
       "description": "",
       "description_tooltip": null,
       "layout": "IPY_MODEL_ad4ada364d9a41c2bea747cd350b03bb",
       "placeholder": "​",
       "style": "IPY_MODEL_04badec6741a4de99beb1b1e89d33e1f",
       "value": "Progress: 100%"
      }
     },
     "4a59963df92440dba22301efb1712f92": {
      "model_module": "@jupyter-widgets/controls",
      "model_module_version": "1.5.0",
      "model_name": "ProgressStyleModel",
      "state": {
       "_model_module": "@jupyter-widgets/controls",
       "_model_module_version": "1.5.0",
       "_model_name": "ProgressStyleModel",
       "_view_count": null,
       "_view_module": "@jupyter-widgets/base",
       "_view_module_version": "1.2.0",
       "_view_name": "StyleView",
       "bar_color": null,
       "description_width": ""
      }
     },
     "4a7580c5c42a497db95e81f6faab0636": {
      "model_module": "@jupyter-widgets/controls",
      "model_module_version": "1.5.0",
      "model_name": "DescriptionStyleModel",
      "state": {
       "_model_module": "@jupyter-widgets/controls",
       "_model_module_version": "1.5.0",
       "_model_name": "DescriptionStyleModel",
       "_view_count": null,
       "_view_module": "@jupyter-widgets/base",
       "_view_module_version": "1.2.0",
       "_view_name": "StyleView",
       "description_width": ""
      }
     },
     "5a561b094fc740dfb8f60766684727c6": {
      "model_module": "@jupyter-widgets/controls",
      "model_module_version": "1.5.0",
      "model_name": "HBoxModel",
      "state": {
       "_dom_classes": [],
       "_model_module": "@jupyter-widgets/controls",
       "_model_module_version": "1.5.0",
       "_model_name": "HBoxModel",
       "_view_count": null,
       "_view_module": "@jupyter-widgets/controls",
       "_view_module_version": "1.5.0",
       "_view_name": "HBoxView",
       "box_style": "",
       "children": [
        "IPY_MODEL_7ec4b8530b784fb58c59d54383001d17",
        "IPY_MODEL_f5e1903e122f46878af572af3307e097",
        "IPY_MODEL_afa1b5af18a14c6fbddbce2852cb4ac6"
       ],
       "layout": "IPY_MODEL_bddbb9e0c99b4885a2b82e25416e17b4"
      }
     },
     "5b8d19e66dd049bab0038b953e098b4d": {
      "model_module": "@jupyter-widgets/controls",
      "model_module_version": "1.5.0",
      "model_name": "ProgressStyleModel",
      "state": {
       "_model_module": "@jupyter-widgets/controls",
       "_model_module_version": "1.5.0",
       "_model_name": "ProgressStyleModel",
       "_view_count": null,
       "_view_module": "@jupyter-widgets/base",
       "_view_module_version": "1.2.0",
       "_view_name": "StyleView",
       "bar_color": null,
       "description_width": ""
      }
     },
     "789c880df97245f0b3e2ed3d6867e1f2": {
      "model_module": "@jupyter-widgets/base",
      "model_module_version": "1.2.0",
      "model_name": "LayoutModel",
      "state": {
       "_model_module": "@jupyter-widgets/base",
       "_model_module_version": "1.2.0",
       "_model_name": "LayoutModel",
       "_view_count": null,
       "_view_module": "@jupyter-widgets/base",
       "_view_module_version": "1.2.0",
       "_view_name": "LayoutView",
       "align_content": null,
       "align_items": null,
       "align_self": null,
       "border": null,
       "bottom": null,
       "display": null,
       "flex": null,
       "flex_flow": null,
       "grid_area": null,
       "grid_auto_columns": null,
       "grid_auto_flow": null,
       "grid_auto_rows": null,
       "grid_column": null,
       "grid_gap": null,
       "grid_row": null,
       "grid_template_areas": null,
       "grid_template_columns": null,
       "grid_template_rows": null,
       "height": null,
       "justify_content": null,
       "justify_items": null,
       "left": null,
       "margin": null,
       "max_height": null,
       "max_width": null,
       "min_height": null,
       "min_width": null,
       "object_fit": null,
       "object_position": null,
       "order": null,
       "overflow": null,
       "overflow_x": null,
       "overflow_y": null,
       "padding": null,
       "right": null,
       "top": null,
       "visibility": null,
       "width": null
      }
     },
     "7ec4b8530b784fb58c59d54383001d17": {
      "model_module": "@jupyter-widgets/controls",
      "model_module_version": "1.5.0",
      "model_name": "HTMLModel",
      "state": {
       "_dom_classes": [],
       "_model_module": "@jupyter-widgets/controls",
       "_model_module_version": "1.5.0",
       "_model_name": "HTMLModel",
       "_view_count": null,
       "_view_module": "@jupyter-widgets/controls",
       "_view_module_version": "1.5.0",
       "_view_name": "HTMLView",
       "description": "",
       "description_tooltip": null,
       "layout": "IPY_MODEL_789c880df97245f0b3e2ed3d6867e1f2",
       "placeholder": "​",
       "style": "IPY_MODEL_4a7580c5c42a497db95e81f6faab0636",
       "value": "Progress: 100%"
      }
     },
     "96e1ad12f56047f6b9fcaf3071cff02e": {
      "model_module": "@jupyter-widgets/base",
      "model_module_version": "1.2.0",
      "model_name": "LayoutModel",
      "state": {
       "_model_module": "@jupyter-widgets/base",
       "_model_module_version": "1.2.0",
       "_model_name": "LayoutModel",
       "_view_count": null,
       "_view_module": "@jupyter-widgets/base",
       "_view_module_version": "1.2.0",
       "_view_name": "LayoutView",
       "align_content": null,
       "align_items": null,
       "align_self": null,
       "border": null,
       "bottom": null,
       "display": null,
       "flex": null,
       "flex_flow": null,
       "grid_area": null,
       "grid_auto_columns": null,
       "grid_auto_flow": null,
       "grid_auto_rows": null,
       "grid_column": null,
       "grid_gap": null,
       "grid_row": null,
       "grid_template_areas": null,
       "grid_template_columns": null,
       "grid_template_rows": null,
       "height": null,
       "justify_content": null,
       "justify_items": null,
       "left": null,
       "margin": null,
       "max_height": null,
       "max_width": null,
       "min_height": null,
       "min_width": null,
       "object_fit": null,
       "object_position": null,
       "order": null,
       "overflow": null,
       "overflow_x": null,
       "overflow_y": null,
       "padding": null,
       "right": null,
       "top": null,
       "visibility": null,
       "width": null
      }
     },
     "a820802fa1dc4cb783c62f13e31eda08": {
      "model_module": "@jupyter-widgets/controls",
      "model_module_version": "1.5.0",
      "model_name": "HTMLModel",
      "state": {
       "_dom_classes": [],
       "_model_module": "@jupyter-widgets/controls",
       "_model_module_version": "1.5.0",
       "_model_name": "HTMLModel",
       "_view_count": null,
       "_view_module": "@jupyter-widgets/controls",
       "_view_module_version": "1.5.0",
       "_view_name": "HTMLView",
       "description": "",
       "description_tooltip": null,
       "layout": "IPY_MODEL_96e1ad12f56047f6b9fcaf3071cff02e",
       "placeholder": "​",
       "style": "IPY_MODEL_cc60aed7e16d420383e9978365fa5f05",
       "value": " 41157/41157 [03:33&lt;00:00, 198.68it/s]"
      }
     },
     "ad4ada364d9a41c2bea747cd350b03bb": {
      "model_module": "@jupyter-widgets/base",
      "model_module_version": "1.2.0",
      "model_name": "LayoutModel",
      "state": {
       "_model_module": "@jupyter-widgets/base",
       "_model_module_version": "1.2.0",
       "_model_name": "LayoutModel",
       "_view_count": null,
       "_view_module": "@jupyter-widgets/base",
       "_view_module_version": "1.2.0",
       "_view_name": "LayoutView",
       "align_content": null,
       "align_items": null,
       "align_self": null,
       "border": null,
       "bottom": null,
       "display": null,
       "flex": null,
       "flex_flow": null,
       "grid_area": null,
       "grid_auto_columns": null,
       "grid_auto_flow": null,
       "grid_auto_rows": null,
       "grid_column": null,
       "grid_gap": null,
       "grid_row": null,
       "grid_template_areas": null,
       "grid_template_columns": null,
       "grid_template_rows": null,
       "height": null,
       "justify_content": null,
       "justify_items": null,
       "left": null,
       "margin": null,
       "max_height": null,
       "max_width": null,
       "min_height": null,
       "min_width": null,
       "object_fit": null,
       "object_position": null,
       "order": null,
       "overflow": null,
       "overflow_x": null,
       "overflow_y": null,
       "padding": null,
       "right": null,
       "top": null,
       "visibility": null,
       "width": null
      }
     },
     "afa1b5af18a14c6fbddbce2852cb4ac6": {
      "model_module": "@jupyter-widgets/controls",
      "model_module_version": "1.5.0",
      "model_name": "HTMLModel",
      "state": {
       "_dom_classes": [],
       "_model_module": "@jupyter-widgets/controls",
       "_model_module_version": "1.5.0",
       "_model_name": "HTMLModel",
       "_view_count": null,
       "_view_module": "@jupyter-widgets/controls",
       "_view_module_version": "1.5.0",
       "_view_name": "HTMLView",
       "description": "",
       "description_tooltip": null,
       "layout": "IPY_MODEL_2edf1641fc374e03af7248097d06274c",
       "placeholder": "​",
       "style": "IPY_MODEL_2de764ce975e451382e21aecd707fe9a",
       "value": " 3798/3798 [00:21&lt;00:00, 192.06it/s]"
      }
     },
     "bddbb9e0c99b4885a2b82e25416e17b4": {
      "model_module": "@jupyter-widgets/base",
      "model_module_version": "1.2.0",
      "model_name": "LayoutModel",
      "state": {
       "_model_module": "@jupyter-widgets/base",
       "_model_module_version": "1.2.0",
       "_model_name": "LayoutModel",
       "_view_count": null,
       "_view_module": "@jupyter-widgets/base",
       "_view_module_version": "1.2.0",
       "_view_name": "LayoutView",
       "align_content": null,
       "align_items": null,
       "align_self": null,
       "border": null,
       "bottom": null,
       "display": null,
       "flex": null,
       "flex_flow": null,
       "grid_area": null,
       "grid_auto_columns": null,
       "grid_auto_flow": null,
       "grid_auto_rows": null,
       "grid_column": null,
       "grid_gap": null,
       "grid_row": null,
       "grid_template_areas": null,
       "grid_template_columns": null,
       "grid_template_rows": null,
       "height": null,
       "justify_content": null,
       "justify_items": null,
       "left": null,
       "margin": null,
       "max_height": null,
       "max_width": null,
       "min_height": null,
       "min_width": null,
       "object_fit": null,
       "object_position": null,
       "order": null,
       "overflow": null,
       "overflow_x": null,
       "overflow_y": null,
       "padding": null,
       "right": null,
       "top": null,
       "visibility": null,
       "width": null
      }
     },
     "cc60aed7e16d420383e9978365fa5f05": {
      "model_module": "@jupyter-widgets/controls",
      "model_module_version": "1.5.0",
      "model_name": "DescriptionStyleModel",
      "state": {
       "_model_module": "@jupyter-widgets/controls",
       "_model_module_version": "1.5.0",
       "_model_name": "DescriptionStyleModel",
       "_view_count": null,
       "_view_module": "@jupyter-widgets/base",
       "_view_module_version": "1.2.0",
       "_view_name": "StyleView",
       "description_width": ""
      }
     },
     "d2f16807738a41b78709131e9608e993": {
      "model_module": "@jupyter-widgets/base",
      "model_module_version": "1.2.0",
      "model_name": "LayoutModel",
      "state": {
       "_model_module": "@jupyter-widgets/base",
       "_model_module_version": "1.2.0",
       "_model_name": "LayoutModel",
       "_view_count": null,
       "_view_module": "@jupyter-widgets/base",
       "_view_module_version": "1.2.0",
       "_view_name": "LayoutView",
       "align_content": null,
       "align_items": null,
       "align_self": null,
       "border": null,
       "bottom": null,
       "display": null,
       "flex": null,
       "flex_flow": null,
       "grid_area": null,
       "grid_auto_columns": null,
       "grid_auto_flow": null,
       "grid_auto_rows": null,
       "grid_column": null,
       "grid_gap": null,
       "grid_row": null,
       "grid_template_areas": null,
       "grid_template_columns": null,
       "grid_template_rows": null,
       "height": null,
       "justify_content": null,
       "justify_items": null,
       "left": null,
       "margin": null,
       "max_height": null,
       "max_width": null,
       "min_height": null,
       "min_width": null,
       "object_fit": null,
       "object_position": null,
       "order": null,
       "overflow": null,
       "overflow_x": null,
       "overflow_y": null,
       "padding": null,
       "right": null,
       "top": null,
       "visibility": null,
       "width": null
      }
     },
     "e00e8311628f4296ae7fa1a6d085d437": {
      "model_module": "@jupyter-widgets/base",
      "model_module_version": "1.2.0",
      "model_name": "LayoutModel",
      "state": {
       "_model_module": "@jupyter-widgets/base",
       "_model_module_version": "1.2.0",
       "_model_name": "LayoutModel",
       "_view_count": null,
       "_view_module": "@jupyter-widgets/base",
       "_view_module_version": "1.2.0",
       "_view_name": "LayoutView",
       "align_content": null,
       "align_items": null,
       "align_self": null,
       "border": null,
       "bottom": null,
       "display": null,
       "flex": null,
       "flex_flow": null,
       "grid_area": null,
       "grid_auto_columns": null,
       "grid_auto_flow": null,
       "grid_auto_rows": null,
       "grid_column": null,
       "grid_gap": null,
       "grid_row": null,
       "grid_template_areas": null,
       "grid_template_columns": null,
       "grid_template_rows": null,
       "height": null,
       "justify_content": null,
       "justify_items": null,
       "left": null,
       "margin": null,
       "max_height": null,
       "max_width": null,
       "min_height": null,
       "min_width": null,
       "object_fit": null,
       "object_position": null,
       "order": null,
       "overflow": null,
       "overflow_x": null,
       "overflow_y": null,
       "padding": null,
       "right": null,
       "top": null,
       "visibility": null,
       "width": null
      }
     },
     "f5e1903e122f46878af572af3307e097": {
      "model_module": "@jupyter-widgets/controls",
      "model_module_version": "1.5.0",
      "model_name": "FloatProgressModel",
      "state": {
       "_dom_classes": [],
       "_model_module": "@jupyter-widgets/controls",
       "_model_module_version": "1.5.0",
       "_model_name": "FloatProgressModel",
       "_view_count": null,
       "_view_module": "@jupyter-widgets/controls",
       "_view_module_version": "1.5.0",
       "_view_name": "ProgressView",
       "bar_style": "success",
       "description": "",
       "description_tooltip": null,
       "layout": "IPY_MODEL_288e5e8563d94cc6a4fe62c0aff8266f",
       "max": 3798.0,
       "min": 0.0,
       "orientation": "horizontal",
       "style": "IPY_MODEL_4a59963df92440dba22301efb1712f92",
       "value": 3798.0
      }
     }
    },
    "version_major": 2,
    "version_minor": 0
   }
  }
 },
 "nbformat": 4,
 "nbformat_minor": 5
}
